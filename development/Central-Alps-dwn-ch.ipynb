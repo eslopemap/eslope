{
 "cells": [
  {
   "cell_type": "markdown",
   "metadata": {},
   "source": [
    "# Central Alps\n",
    "\n",
    "We want to cover the rectangle Basel-Bard-Trento-Innsbruck\n",
    "aka `[[[7.734,45.583], [11.249,45.583], [11.249,47.517], [7.734, 47.517], [7.734,45.583]]]`.\n",
    "\n",
    "That includes\n",
    "* all Switzerland south-easy of Basel\n",
    "* small part of Aosta and Piemonte\n",
    "* all Lombardia north of Milano\n",
    "* tiny piece of Trentino\n",
    "* half of Austria's Tyrol, west of Innsbruck\n",
    "\n",
    "### Choice of bounding-box\n",
    "A choice was made to have both Central Alps and Eastern Alps as simple rectangles, while keeping data small.\n",
    "This means we keep either Italy's *Occidental Dolomites* ([c2c](https://www.camptocamp.org/outings?qa=draft,great&bbox=1243491,5721172,1310793,5796316&act=skitouring)) or Germany's *Lechtal Alps* ([c2c](https://www.camptocamp.org/outings?qa=draft,great&bbox=1285592,6022754,1352894,6097898&act=skitouring)).\n",
    "The bbox with Occidental Dolomites is `[[[7.734,45.583], [11.953,45.583], [11.953,47.517], [7.734, 47.517], [7.734,45.583]]]`.\n",
    "But it makes less sense in terms of mapping to to massifs, and in terms of relative size for West/Central/East."
   ]
  },
  {
   "cell_type": "markdown",
   "metadata": {},
   "source": [
    "# Central Alps - Switzerland download\n",
    "\n",
    "This notebook outputs file `data/AlpsC-ch-slopes.tif`, obtained from SwissTopo APIs.\n",
    "\n",
    "The bounds requested are Basel-Bard-Trento-Innsbruck\n",
    "aka `[[[7.734,45.583], [11.249,45.583], [11.249,47.517], [7.734, 47.517], [7.734,45.583]]]`"
   ]
  },
  {
   "cell_type": "code",
   "execution_count": 3,
   "metadata": {},
   "outputs": [
    {
     "name": "stdout",
     "output_type": "stream",
     "text": [
      "The autoreload extension is already loaded. To reload it, use:\n",
      "  %reload_ext autoreload\n"
     ]
    }
   ],
   "source": [
    "%load_ext autoreload\n",
    "%autoreload 2"
   ]
  },
  {
   "cell_type": "code",
   "execution_count": 4,
   "metadata": {},
   "outputs": [],
   "source": [
    "# Preamble\n",
    "\n",
    "import logging\n",
    "logging.basicConfig(level=logging.DEBUG)\n",
    "\n",
    "from dataclasses import astuple\n",
    "\n",
    "import os\n",
    "import sys\n",
    "sys.path.append(os.path.realpath('./src'))\n",
    "from bbox import BBox"
   ]
  },
  {
   "cell_type": "code",
   "execution_count": 2,
   "metadata": {},
   "outputs": [],
   "source": []
  },
  {
   "cell_type": "markdown",
   "metadata": {},
   "source": [
    "# Switzerland\n",
    "\n",
    "We get the data using the awesome *Spatial Temporal Asset Catalog* geodata APIs documented at [geo.admin.ch](http://geo.admin.ch/en/geo-services/geo-services/download-services/stac-api.html) and [data.geo.admin.ch](https://data.geo.admin.ch/api/stac/static/spec/v0.9/api.html#operation/getFeatures)\n",
    "\n",
    "for documentation:, here's the description of the dataset (`data_desc` below):\n",
    "```json\n",
    "{'stac_version': '0.9.0',\n",
    "   'id': 'ch.swisstopo.swissalti3d',\n",
    "   'title': 'swissALTI3D',\n",
    "   'description': 'swissALTI3D is an extremely precise digital elevation model which describes the surface of Switzerland and the Principality of Liechtenstein without vegetation and development. It is updated in an cycle of 6 years.',\n",
    "   'summaries': {'proj:epsg': [2056], 'eo:gsd': [0.5, 2.0]},\n",
    "   'extent': {\n",
    "       'spatial': {'bbox': [[5.950, 45.721, 10.500, 47.821]]},\n",
    "       'temporal': {'interval': [['2019-01-01T00:00:00Z', '2021-01-01T00:00:00Z']]}},\n",
    "   'providers': [{\n",
    "       'name': 'Federal Office of Topography - swisstopo',\n",
    "       'roles': ['producer', 'licensor'],\n",
    "       'url': 'https://www.swisstopo.admin.ch'}],\n",
    "   'license': 'proprietary',\n",
    "   'created': '2021-02-05T13:54:56.380277Z',\n",
    "   'updated': '2021-09-20T11:58:15.865192Z',\n",
    "   'links' : [{'rel': 'self', 'href': '...'}, ...]\n",
    "}\n",
    "```\n"
   ]
  },
  {
   "cell_type": "code",
   "execution_count": 47,
   "metadata": {},
   "outputs": [],
   "source": [
    "import json\n",
    "from urllib.request import urlopen\n",
    "from urllib.parse import urlencode #, quote_plus\n",
    "\n",
    "def apiget(url, **params):\n",
    "    if params:\n",
    "        if not url.endswith('?'): url += '?'\n",
    "        url += urlencode(params) #, quote_via=quote_plus)\n",
    "    print('GET', url)\n",
    "    return json.loads(urlopen(url).read())"
   ]
  },
  {
   "cell_type": "code",
   "execution_count": 44,
   "metadata": {},
   "outputs": [],
   "source": [
    "# Based on this we selct in the full list of URLS downloaded from\n",
    "\n",
    "# from urllib.parse import urlencode, quote_plus\n",
    "\n",
    "# params = {\n",
    "#     'format': 'image/tiff; application=geotiff; profile=cloud-optimized',\n",
    "#     'resolution': 2,\n",
    "#     'srid': 2056,\n",
    "#     'state': 'current',\n",
    "#     'csv': True\n",
    "# }\n",
    "# resp = urlopen(\n",
    "#         'https://ogd.swisstopo.admin.ch/services/swiseld/services/assets/ch.swisstopo.swissalti3d/search?'\n",
    "#         + urlencode(params, quote_via=quote_plus)).read()\n",
    "# import json\n",
    "# csvurl = json.loads(resp)['href']\n",
    "# # 'https://ogd.swisstopo.admin.ch/resources/ch.swisstopo.swissalti3d-Mktp9SsL.csv'\n",
    "# csvcontent = urlopen(csvurl).read()\n",
    "\n",
    "#2622 1262"
   ]
  },
  {
   "cell_type": "code",
   "execution_count": 45,
   "metadata": {},
   "outputs": [
    {
     "name": "stdout",
     "output_type": "stream",
     "text": [
      "GET https://data.geo.admin.ch/api/stac/v0.9/collections\n"
     ]
    }
   ],
   "source": [
    "# Get all swiss datasets\n",
    "collections = apiget(\"https://data.geo.admin.ch/api/stac/v0.9/collections\")"
   ]
  },
  {
   "cell_type": "code",
   "execution_count": 48,
   "metadata": {},
   "outputs": [
    {
     "name": "stdout",
     "output_type": "stream",
     "text": [
      "GET https://data.geo.admin.ch/api/stac/v0.9/collections/ch.swisstopo.swissalti3d/items?bbox=7.734%2C45.583%2C11.249%2C47.517&limit=100\n"
     ]
    }
   ],
   "source": [
    "# Helper\n",
    "def get_first_link(data, rel):\n",
    "    return [lnk for lnk in data['links'] if lnk['rel'] == rel][0]['href']\n",
    "# Get the first 100 of features of swissalti3d\n",
    "data_desc = [c for c in collections['collections'] if c['id'] == 'ch.swisstopo.swissalti3d'][0]\n",
    "items_link = get_first_link(data_desc, 'items')\n",
    "items = apiget(items_link, bbox=','.join(map(str,astuple(bbcalps)))) #, limit=100 == default == max"
   ]
  },
  {
   "cell_type": "code",
   "execution_count": 51,
   "metadata": {},
   "outputs": [
    {
     "name": "stdout",
     "output_type": "stream",
     "text": [
      "100\n",
      "swissalti3d_2019_2622-1085\n",
      "[7.7221803, 45.9162116, 7.7351165, 45.92524]\n",
      "['swissalti3d_2019_2622-1085_0.5_2056_5728.tif', 'swissalti3d_2019_2622-1085_0.5_2056_5728.xyz.zip', 'swissalti3d_2019_2622-1085_2_2056_5728.tif', 'swissalti3d_2019_2622-1085_2_2056_5728.xyz.zip']\n"
     ]
    },
    {
     "data": {
      "text/plain": [
       "['https://data.geo.admin.ch/ch.swisstopo.swissalti3d/swissalti3d_2019_2622-1085/swissalti3d_2019_2622-1085_2_2056_5728.tif']"
      ]
     },
     "execution_count": 51,
     "metadata": {},
     "output_type": "execute_result"
    }
   ],
   "source": [
    "# Explore a sample\n",
    "sample = items['features'][0]\n",
    "print(len(items['features']),\n",
    "    sample['id'],\n",
    "    sample['bbox'],\n",
    "    list(sample['assets']),\n",
    "    sep='\\n')\n",
    "\n",
    "def only_two_meters_tif(feature):\n",
    "    return [a['href'] for a  in feature['assets'].values() if a['eo:gsd'] == 2 and a['href'].endswith('.tif')]\n",
    "\n",
    "only_two_meters_tif(sample)"
   ]
  },
  {
   "cell_type": "code",
   "execution_count": null,
   "metadata": {},
   "outputs": [],
   "source": [
    "features = []\n",
    "while True:\n",
    "    features += items['features']\n",
    "    if len(features) % 10000 == 0:\n",
    "        print(len(features))\n",
    "    try:\n",
    "        items = apiget(get_first_link(items, 'next'))\n",
    "    except IndexError:\n",
    "        break\n",
    "# Takes ~200 seconds & iterations\n",
    "print(len(features))  #26064"
   ]
  },
  {
   "cell_type": "code",
   "execution_count": 53,
   "metadata": {},
   "outputs": [],
   "source": [
    "features_keep = features"
   ]
  },
  {
   "cell_type": "code",
   "execution_count": 54,
   "metadata": {},
   "outputs": [
    {
     "data": {
      "text/plain": [
       "26064"
      ]
     },
     "execution_count": 54,
     "metadata": {},
     "output_type": "execute_result"
    }
   ],
   "source": [
    "urls = [url\n",
    "    for feat in features\n",
    "    for url in only_two_meters_tif(feat)\n",
    "] #if Bbox(*feat['bbox']).intersect(bbcalps)]  # <- covered by the bbox parameter\n",
    "len(urls)"
   ]
  },
  {
   "cell_type": "code",
   "execution_count": 55,
   "metadata": {},
   "outputs": [
    {
     "data": {
      "text/plain": [
       "'https://data.geo.admin.ch/ch.swisstopo.swissalti3d/swissalti3d_2019_2622-1085/swissalti3d_2019_2622-1085_2_2056_5728.tif'"
      ]
     },
     "execution_count": 55,
     "metadata": {},
     "output_type": "execute_result"
    }
   ],
   "source": [
    "url = urls[0]\n",
    "url"
   ]
  },
  {
   "cell_type": "code",
   "execution_count": 61,
   "metadata": {},
   "outputs": [],
   "source": [
    "from urllib.request import urlretrieve\n",
    "import os\n",
    "\n",
    "folder = 'data/chc/dwn'\n",
    "os.makedirs(folder, exist_ok=True)\n",
    "for cururl in urls:\n",
    "    destpath = '/'.join((folder, cururl.split('/')[-1]))\n",
    "    if not os.path.exists(destpath):\n",
    "        urlretrieve(url, destpath)\n",
    "\n",
    "# follow download of 26064 files in eslope/development/data/ch/\n",
    "# at around 3 files/second it takes >2h\n",
    "# feel free to symlink in case of disk space issue"
   ]
  },
  {
   "cell_type": "code",
   "execution_count": 60,
   "metadata": {},
   "outputs": [],
   "source": [
    "# print('''{\n",
    "#   \"type\": \"FeatureCollection\",\n",
    "#   \"features\": [''')\n",
    "# for bb in (bbcalps, *(Bbox(*feat['bbox']) for feat in items['features'])):\n",
    "#     print('''    {   \"type\": \"Feature\",\n",
    "#         \"geometry\": { \"type\": \"LineString\",\n",
    "#             \"coordinates\": [ [%s, %s], [%s, %s] ] },\n",
    "#         \"properties\": {}\n",
    "#     },''' % (bb.w, bb.s, bb.e, bb.n))\n",
    "# print(''']}''')"
   ]
  },
  {
   "cell_type": "code",
   "execution_count": 64,
   "metadata": {},
   "outputs": [
    {
     "name": "stdout",
     "output_type": "stream",
     "text": [
      "/home/me/code/eddy-geek/eslope/development/data/ch/dwn\n",
      "26064 vrt_input_files.txt\n",
      "0...10...20...30...40...50...60...70...80...90...100 - done.\n",
      "/home/me/code/eddy-geek/eslope/development/data/ch\n",
      "0...10."
     ]
    }
   ],
   "source": [
    "%cd $folder\n",
    "basenames = [url.split('/')[-1] + '\\n' for url in urls]\n",
    "vrtpieces = 'vrt_input_files.txt'\n",
    "vrt = 'AlpsC-ch-dem.vrt'\n",
    "with open(vrtpieces, 'w') as f:\n",
    "    f.writelines(basenames)\n",
    "!wc -l $vrtpieces\n",
    "\n",
    "!gdalbuildvrt -input_file_list $vrtpieces $vrt\n",
    "%cd ..\n",
    "g_zstd='-co bigtiff=yes -co compress=zstd -co predictor=2 -co zstd_level=1 -co sparse_ok=true'\n",
    "!gdaldem slope $=g_zstd dwn/$vrt AlpsC-ch-slopes.tif\n",
    "%cd ../.."
   ]
  }
 ],
 "metadata": {
  "interpreter": {
   "hash": "4913ed92adf4fb24dff325cddf3820899273b13e1364fac2e6040e861e7b0f0a"
  },
  "kernelspec": {
   "display_name": "Python 3.9.1 64-bit (conda)",
   "language": "python",
   "name": "python3"
  },
  "language_info": {
   "codemirror_mode": {
    "name": "ipython",
    "version": 3
   },
   "file_extension": ".py",
   "mimetype": "text/x-python",
   "name": "python",
   "nbconvert_exporter": "python",
   "pygments_lexer": "ipython3",
   "version": "3.9.1"
  },
  "orig_nbformat": 4
 },
 "nbformat": 4,
 "nbformat_minor": 2
}
