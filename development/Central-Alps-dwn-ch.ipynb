{
 "cells": [
  {
   "cell_type": "markdown",
   "metadata": {},
   "source": [
    "# Central Alps - Switzerland download\n",
    "\n",
    "This notebook outputs file `data/AlpsC-ch-slopes.tif`, obtained from SwissTopo APIs.\n",
    "\n",
    "The bounds requested are Basel-Bard-Trento-Innsbruck\n",
    "aka `[[[7.734,45.583], [11.249,45.583], [11.249,47.517], [7.734, 47.517], [7.734,45.583]]]`"
   ]
  },
  {
   "cell_type": "code",
   "execution_count": 1,
   "metadata": {},
   "outputs": [],
   "source": [
    "%load_ext autoreload\n",
    "%autoreload 2\n",
    "\n",
    "import os\n",
    "NBROOT = os.path.realpath(os.curdir)"
   ]
  },
  {
   "cell_type": "code",
   "execution_count": 2,
   "metadata": {},
   "outputs": [],
   "source": [
    "# Preamble\n",
    "\n",
    "import logging\n",
    "logging.basicConfig(level=logging.DEBUG)\n",
    "\n",
    "from dataclasses import astuple\n",
    "\n",
    "import os\n",
    "from os.path import exists, join as pjoin, realpath\n",
    "from pathlib import Path\n",
    "from urllib.request import urlopen, urlretrieve\n",
    "\n",
    "#external\n",
    "from IPython.display import Image\n",
    "\n",
    "# import sys\n",
    "# sys.path.append(os.path.realpath('./src'))\n",
    "from src import bbox, gdal_slope_util as S"
   ]
  },
  {
   "cell_type": "code",
   "execution_count": 3,
   "metadata": {},
   "outputs": [],
   "source": [
    "CHC_DTM = 'data/dtm_final/chc_dtm.tif'\n",
    "dwndir = 'data/chc/dwn'\n",
    "os.makedirs(dwndir, exist_ok=True)"
   ]
  },
  {
   "cell_type": "markdown",
   "metadata": {},
   "source": [
    "# Switzerland\n",
    "\n",
    "We get the data using the awesome *Spatial Temporal Asset Catalog* geodata APIs documented at [geo.admin.ch](http://geo.admin.ch/en/geo-services/geo-services/download-services/stac-api.html) and [data.geo.admin.ch](https://data.geo.admin.ch/api/stac/static/spec/v0.9/api.html#operation/getFeatures)\n",
    "\n",
    "for documentation:, here's the description of the dataset (`data_desc` below):\n",
    "```json\n",
    "{'stac_version': '0.9.0',\n",
    "   'id': 'ch.swisstopo.swissalti3d',\n",
    "   'title': 'swissALTI3D',\n",
    "   'description': 'swissALTI3D is an extremely precise digital elevation model which describes the surface of Switzerland and the Principality of Liechtenstein without vegetation and development. It is updated in an cycle of 6 years.',\n",
    "   'summaries': {'proj:epsg': [2056], 'eo:gsd': [0.5, 2.0]},\n",
    "   'extent': {\n",
    "       'spatial': {'bbox': [[5.950, 45.721, 10.500, 47.821]]},\n",
    "       'temporal': {'interval': [['2019-01-01T00:00:00Z', '2021-01-01T00:00:00Z']]}},\n",
    "   'providers': [{\n",
    "       'name': 'Federal Office of Topography - swisstopo',\n",
    "       'roles': ['producer', 'licensor'],\n",
    "       'url': 'https://www.swisstopo.admin.ch'}],\n",
    "   'license': 'proprietary',\n",
    "   'created': '2021-02-05T13:54:56.380277Z',\n",
    "   'updated': '2021-09-20T11:58:15.865192Z',\n",
    "   'links' : [{'rel': 'self', 'href': '...'}, ...]\n",
    "}\n",
    "```\n"
   ]
  },
  {
   "cell_type": "code",
   "execution_count": 4,
   "metadata": {},
   "outputs": [],
   "source": [
    "import json\n",
    "from urllib.parse import urlencode\n",
    "\n",
    "def apiget(url, **params):\n",
    "    if params:\n",
    "        if not url.endswith('?'): url += '?'\n",
    "        url += urlencode(params) #, quote_via=quote_plus)\n",
    "    print('GET', url)\n",
    "    return json.loads(urlopen(url).read())"
   ]
  },
  {
   "cell_type": "code",
   "execution_count": 5,
   "metadata": {},
   "outputs": [],
   "source": [
    "# Based on this we selct in the full list of URLS downloaded from\n",
    "\n",
    "# from urllib.parse import urlencode, quote_plus\n",
    "\n",
    "# params = {\n",
    "#     'format': 'image/tiff; application=geotiff; profile=cloud-optimized',\n",
    "#     'resolution': 2,\n",
    "#     'srid': 2056,\n",
    "#     'state': 'current',\n",
    "#     'csv': True\n",
    "# }\n",
    "# resp = urlopen(\n",
    "#         'https://ogd.swisstopo.admin.ch/services/swiseld/services/assets/ch.swisstopo.swissalti3d/search?'\n",
    "#         + urlencode(params, quote_via=quote_plus)).read()\n",
    "# import json\n",
    "# csvurl = json.loads(resp)['href']\n",
    "# # 'https://ogd.swisstopo.admin.ch/resources/ch.swisstopo.swissalti3d-Mktp9SsL.csv'\n",
    "# csvcontent = urlopen(csvurl).read()\n",
    "\n",
    "#2622 1262"
   ]
  },
  {
   "cell_type": "code",
   "execution_count": 6,
   "metadata": {},
   "outputs": [
    {
     "name": "stdout",
     "output_type": "stream",
     "text": [
      "GET https://data.geo.admin.ch/api/stac/v0.9/collections\n"
     ]
    }
   ],
   "source": [
    "# Get all swiss datasets\n",
    "collections = apiget(\"https://data.geo.admin.ch/api/stac/v0.9/collections\")"
   ]
  },
  {
   "cell_type": "code",
   "execution_count": 7,
   "metadata": {},
   "outputs": [
    {
     "name": "stdout",
     "output_type": "stream",
     "text": [
      "GET https://data.geo.admin.ch/api/stac/v0.9/collections/ch.swisstopo.swissalti3d/items?bbox=7.734%2C45.583%2C11.249%2C47.517\n"
     ]
    }
   ],
   "source": [
    "# Helper\n",
    "def get_first_link(data, rel):\n",
    "    return [lnk for lnk in data['links'] if lnk['rel'] == rel][0]['href']\n",
    "# Get the first 100 of features of swissalti3d\n",
    "data_desc = [c for c in collections['collections'] if c['id'] == 'ch.swisstopo.swissalti3d'][0]\n",
    "items_link = get_first_link(data_desc, 'items')\n",
    "items = apiget(items_link, bbox=','.join(map(str,astuple(bbox.bbcalps)))) #, limit=100 == default == max"
   ]
  },
  {
   "cell_type": "code",
   "execution_count": 8,
   "metadata": {},
   "outputs": [
    {
     "data": {
      "text/plain": [
       "BBox(w=5.9503666, s=45.7213375, e=10.4998461, n=47.8216742)"
      ]
     },
     "execution_count": 8,
     "metadata": {},
     "output_type": "execute_result"
    }
   ],
   "source": [
    "bb_swissalti = bbox.BBox(*data_desc['extent']['spatial']['bbox'][0])\n",
    "bb_swissalti  # w=5.9503666, s=45.7213375, e=10.4998461, n=47.8216742"
   ]
  },
  {
   "cell_type": "code",
   "execution_count": 9,
   "metadata": {},
   "outputs": [
    {
     "name": "stdout",
     "output_type": "stream",
     "text": [
      "100\n",
      "swissalti3d_2019_2622-1085\n",
      "[7.7221803, 45.9162116, 7.7351165, 45.92524]\n",
      "['swissalti3d_2019_2622-1085_0.5_2056_5728.tif', 'swissalti3d_2019_2622-1085_0.5_2056_5728.xyz.zip', 'swissalti3d_2019_2622-1085_2_2056_5728.tif', 'swissalti3d_2019_2622-1085_2_2056_5728.xyz.zip']\n"
     ]
    },
    {
     "data": {
      "text/plain": [
       "['https://data.geo.admin.ch/ch.swisstopo.swissalti3d/swissalti3d_2019_2622-1085/swissalti3d_2019_2622-1085_2_2056_5728.tif']"
      ]
     },
     "execution_count": 9,
     "metadata": {},
     "output_type": "execute_result"
    }
   ],
   "source": [
    "# Explore a sample\n",
    "sample = items['features'][0]\n",
    "print(len(items['features']),\n",
    "    sample['id'],\n",
    "    sample['bbox'],\n",
    "    list(sample['assets']),\n",
    "    sep='\\n')\n",
    "\n",
    "def only_two_meters_tif(feature):\n",
    "    return [a['href'] for a  in feature['assets'].values() if a['eo:gsd'] == 2 and a['href'].endswith('.tif')]\n",
    "\n",
    "only_two_meters_tif(sample)"
   ]
  },
  {
   "cell_type": "code",
   "execution_count": 10,
   "metadata": {},
   "outputs": [
    {
     "name": "stdout",
     "output_type": "stream",
     "text": [
      "GET https://data.geo.admin.ch/api/stac/v0.9/collections/ch.swisstopo.swissalti3d/items?bbox=7.734%2C45.583%2C11.249%2C47.517&cursor=cD1zd2lzc2FsdGkzZF8yMDE5XzI2MjItMTE4NA%3D%3D\n",
      "GET https://data.geo.admin.ch/api/stac/v0.9/collections/ch.swisstopo.swissalti3d/items?bbox=7.734%2C45.583%2C11.249%2C47.517&cursor=cD1zd2lzc2FsdGkzZF8yMDE5XzI2MjMtMTEwNg%3D%3D\n",
      "GET https://data.geo.admin.ch/api/stac/v0.9/collections/ch.swisstopo.swissalti3d/items?bbox=7.734%2C45.583%2C11.249%2C47.517&cursor=cD1zd2lzc2FsdGkzZF8yMDE5XzI2MjMtMTIwNg%3D%3D\n",
      "GET https://data.geo.admin.ch/api/stac/v0.9/collections/ch.swisstopo.swissalti3d/items?bbox=7.734%2C45.583%2C11.249%2C47.517&cursor=cD1zd2lzc2FsdGkzZF8yMDE5XzI2MjQtMTEzMA%3D%3D\n",
      "GET https://data.geo.admin.ch/api/stac/v0.9/collections/ch.swisstopo.swissalti3d/items?bbox=7.734%2C45.583%2C11.249%2C47.517&cursor=cD1zd2lzc2FsdGkzZF8yMDE5XzI2MjQtMTIzMA%3D%3D\n",
      "GET https://data.geo.admin.ch/api/stac/v0.9/collections/ch.swisstopo.swissalti3d/items?bbox=7.734%2C45.583%2C11.249%2C47.517&cursor=cD1zd2lzc2FsdGkzZF8yMDE5XzI2MjUtMTE1Mw%3D%3D\n",
      "GET https://data.geo.admin.ch/api/stac/v0.9/collections/ch.swisstopo.swissalti3d/items?bbox=7.734%2C45.583%2C11.249%2C47.517&cursor=cD1zd2lzc2FsdGkzZF8yMDE5XzI2MjUtMTI1Mw%3D%3D\n",
      "GET https://data.geo.admin.ch/api/stac/v0.9/collections/ch.swisstopo.swissalti3d/items?bbox=7.734%2C45.583%2C11.249%2C47.517&cursor=cD1zd2lzc2FsdGkzZF8yMDE5XzI2MjYtMTE3Ng%3D%3D\n",
      "GET https://data.geo.admin.ch/api/stac/v0.9/collections/ch.swisstopo.swissalti3d/items?bbox=7.734%2C45.583%2C11.249%2C47.517&cursor=cD1zd2lzc2FsdGkzZF8yMDE5XzI2MjctMTA5OA%3D%3D\n",
      "GET https://data.geo.admin.ch/api/stac/v0.9/collections/ch.swisstopo.swissalti3d/items?bbox=7.734%2C45.583%2C11.249%2C47.517&cursor=cD1zd2lzc2FsdGkzZF8yMDE5XzI2MjctMTE5OA%3D%3D\n",
      "GET https://data.geo.admin.ch/api/stac/v0.9/collections/ch.swisstopo.swissalti3d/items?bbox=7.734%2C45.583%2C11.249%2C47.517&cursor=cD1zd2lzc2FsdGkzZF8yMDE5XzI2MjgtMTEyMA%3D%3D\n",
      "GET https://data.geo.admin.ch/api/stac/v0.9/collections/ch.swisstopo.swissalti3d/items?bbox=7.734%2C45.583%2C11.249%2C47.517&cursor=cD1zd2lzc2FsdGkzZF8yMDE5XzI2MjgtMTIyMA%3D%3D\n",
      "GET https://data.geo.admin.ch/api/stac/v0.9/collections/ch.swisstopo.swissalti3d/items?bbox=7.734%2C45.583%2C11.249%2C47.517&cursor=cD1zd2lzc2FsdGkzZF8yMDE5XzI2MjktMTE0Mg%3D%3D\n",
      "GET https://data.geo.admin.ch/api/stac/v0.9/collections/ch.swisstopo.swissalti3d/items?bbox=7.734%2C45.583%2C11.249%2C47.517&cursor=cD1zd2lzc2FsdGkzZF8yMDE5XzI2MjktMTI0Mg%3D%3D\n",
      "GET https://data.geo.admin.ch/api/stac/v0.9/collections/ch.swisstopo.swissalti3d/items?bbox=7.734%2C45.583%2C11.249%2C47.517&cursor=cD1zd2lzc2FsdGkzZF8yMDE5XzI2MzAtMTE2NA%3D%3D\n",
      "GET https://data.geo.admin.ch/api/stac/v0.9/collections/ch.swisstopo.swissalti3d/items?bbox=7.734%2C45.583%2C11.249%2C47.517&cursor=cD1zd2lzc2FsdGkzZF8yMDE5XzI2MzEtMTA4Ng%3D%3D\n",
      "GET https://data.geo.admin.ch/api/stac/v0.9/collections/ch.swisstopo.swissalti3d/items?bbox=7.734%2C45.583%2C11.249%2C47.517&cursor=cD1zd2lzc2FsdGkzZF8yMDE5XzI2MzEtMTE4Ng%3D%3D\n",
      "GET https://data.geo.admin.ch/api/stac/v0.9/collections/ch.swisstopo.swissalti3d/items?bbox=7.734%2C45.583%2C11.249%2C47.517&cursor=cD1zd2lzc2FsdGkzZF8yMDE5XzI2MzItMTEwNw%3D%3D\n",
      "GET https://data.geo.admin.ch/api/stac/v0.9/collections/ch.swisstopo.swissalti3d/items?bbox=7.734%2C45.583%2C11.249%2C47.517&cursor=cD1zd2lzc2FsdGkzZF8yMDE5XzI2MzItMTIwNw%3D%3D\n",
      "GET https://data.geo.admin.ch/api/stac/v0.9/collections/ch.swisstopo.swissalti3d/items?bbox=7.734%2C45.583%2C11.249%2C47.517&cursor=cD1zd2lzc2FsdGkzZF8yMDE5XzI2MzMtMTEyOA%3D%3D\n",
      "GET https://data.geo.admin.ch/api/stac/v0.9/collections/ch.swisstopo.swissalti3d/items?bbox=7.734%2C45.583%2C11.249%2C47.517&cursor=cD1zd2lzc2FsdGkzZF8yMDE5XzI2MzMtMTIyOA%3D%3D\n",
      "GET https://data.geo.admin.ch/api/stac/v0.9/collections/ch.swisstopo.swissalti3d/items?bbox=7.734%2C45.583%2C11.249%2C47.517&cursor=cD1zd2lzc2FsdGkzZF8yMDE5XzI2MzQtMTE1MQ%3D%3D\n",
      "GET https://data.geo.admin.ch/api/stac/v0.9/collections/ch.swisstopo.swissalti3d/items?bbox=7.734%2C45.583%2C11.249%2C47.517&cursor=cD1zd2lzc2FsdGkzZF8yMDE5XzI2MzQtMTI1MQ%3D%3D\n",
      "GET https://data.geo.admin.ch/api/stac/v0.9/collections/ch.swisstopo.swissalti3d/items?bbox=7.734%2C45.583%2C11.249%2C47.517&cursor=cD1zd2lzc2FsdGkzZF8yMDE5XzI2MzUtMTE3OA%3D%3D\n",
      "GET https://data.geo.admin.ch/api/stac/v0.9/collections/ch.swisstopo.swissalti3d/items?bbox=7.734%2C45.583%2C11.249%2C47.517&cursor=cD1zd2lzc2FsdGkzZF8yMDE5XzI2MzYtMTEwNw%3D%3D\n",
      "GET https://data.geo.admin.ch/api/stac/v0.9/collections/ch.swisstopo.swissalti3d/items?bbox=7.734%2C45.583%2C11.249%2C47.517&cursor=cD1zd2lzc2FsdGkzZF8yMDE5XzI2MzYtMTIwNw%3D%3D\n",
      "GET https://data.geo.admin.ch/api/stac/v0.9/collections/ch.swisstopo.swissalti3d/items?bbox=7.734%2C45.583%2C11.249%2C47.517&cursor=cD1zd2lzc2FsdGkzZF8yMDE5XzI2MzctMTEzNg%3D%3D\n",
      "GET https://data.geo.admin.ch/api/stac/v0.9/collections/ch.swisstopo.swissalti3d/items?bbox=7.734%2C45.583%2C11.249%2C47.517&cursor=cD1zd2lzc2FsdGkzZF8yMDE5XzI2MzctMTIzNg%3D%3D\n",
      "GET https://data.geo.admin.ch/api/stac/v0.9/collections/ch.swisstopo.swissalti3d/items?bbox=7.734%2C45.583%2C11.249%2C47.517&cursor=cD1zd2lzc2FsdGkzZF8yMDE5XzI2MzgtMTE2NQ%3D%3D\n",
      "GET https://data.geo.admin.ch/api/stac/v0.9/collections/ch.swisstopo.swissalti3d/items?bbox=7.734%2C45.583%2C11.249%2C47.517&cursor=cD1zd2lzc2FsdGkzZF8yMDE5XzI2MzktMTA5NQ%3D%3D\n",
      "GET https://data.geo.admin.ch/api/stac/v0.9/collections/ch.swisstopo.swissalti3d/items?bbox=7.734%2C45.583%2C11.249%2C47.517&cursor=cD1zd2lzc2FsdGkzZF8yMDE5XzI2MzktMTE5NQ%3D%3D\n",
      "GET https://data.geo.admin.ch/api/stac/v0.9/collections/ch.swisstopo.swissalti3d/items?bbox=7.734%2C45.583%2C11.249%2C47.517&cursor=cD1zd2lzc2FsdGkzZF8yMDE5XzI2NDAtMTEyNA%3D%3D\n",
      "GET https://data.geo.admin.ch/api/stac/v0.9/collections/ch.swisstopo.swissalti3d/items?bbox=7.734%2C45.583%2C11.249%2C47.517&cursor=cD1zd2lzc2FsdGkzZF8yMDE5XzI2NDAtMTIyNA%3D%3D\n",
      "GET https://data.geo.admin.ch/api/stac/v0.9/collections/ch.swisstopo.swissalti3d/items?bbox=7.734%2C45.583%2C11.249%2C47.517&cursor=cD1zd2lzc2FsdGkzZF8yMDE5XzI2NDEtMTE1NA%3D%3D\n",
      "GET https://data.geo.admin.ch/api/stac/v0.9/collections/ch.swisstopo.swissalti3d/items?bbox=7.734%2C45.583%2C11.249%2C47.517&cursor=cD1zd2lzc2FsdGkzZF8yMDE5XzI2NDEtMTI1NA%3D%3D\n",
      "GET https://data.geo.admin.ch/api/stac/v0.9/collections/ch.swisstopo.swissalti3d/items?bbox=7.734%2C45.583%2C11.249%2C47.517&cursor=cD1zd2lzc2FsdGkzZF8yMDE5XzI2NDItMTE4Mw%3D%3D\n",
      "GET https://data.geo.admin.ch/api/stac/v0.9/collections/ch.swisstopo.swissalti3d/items?bbox=7.734%2C45.583%2C11.249%2C47.517&cursor=cD1zd2lzc2FsdGkzZF8yMDE5XzI2NDMtMTExMw%3D%3D\n",
      "GET https://data.geo.admin.ch/api/stac/v0.9/collections/ch.swisstopo.swissalti3d/items?bbox=7.734%2C45.583%2C11.249%2C47.517&cursor=cD1zd2lzc2FsdGkzZF8yMDE5XzI2NDMtMTIxMw%3D%3D\n",
      "GET https://data.geo.admin.ch/api/stac/v0.9/collections/ch.swisstopo.swissalti3d/items?bbox=7.734%2C45.583%2C11.249%2C47.517&cursor=cD1zd2lzc2FsdGkzZF8yMDE5XzI2NDQtMTE0NA%3D%3D\n",
      "GET https://data.geo.admin.ch/api/stac/v0.9/collections/ch.swisstopo.swissalti3d/items?bbox=7.734%2C45.583%2C11.249%2C47.517&cursor=cD1zd2lzc2FsdGkzZF8yMDE5XzI2NDQtMTI0NA%3D%3D\n",
      "GET https://data.geo.admin.ch/api/stac/v0.9/collections/ch.swisstopo.swissalti3d/items?bbox=7.734%2C45.583%2C11.249%2C47.517&cursor=cD1zd2lzc2FsdGkzZF8yMDE5XzI2NDUtMTE3OA%3D%3D\n",
      "GET https://data.geo.admin.ch/api/stac/v0.9/collections/ch.swisstopo.swissalti3d/items?bbox=7.734%2C45.583%2C11.249%2C47.517&cursor=cD1zd2lzc2FsdGkzZF8yMDE5XzI2NDYtMTExNw%3D%3D\n",
      "GET https://data.geo.admin.ch/api/stac/v0.9/collections/ch.swisstopo.swissalti3d/items?bbox=7.734%2C45.583%2C11.249%2C47.517&cursor=cD1zd2lzc2FsdGkzZF8yMDE5XzI2NDYtMTIxNw%3D%3D\n",
      "GET https://data.geo.admin.ch/api/stac/v0.9/collections/ch.swisstopo.swissalti3d/items?bbox=7.734%2C45.583%2C11.249%2C47.517&cursor=cD1zd2lzc2FsdGkzZF8yMDE5XzI2NDctMTE1OA%3D%3D\n",
      "GET https://data.geo.admin.ch/api/stac/v0.9/collections/ch.swisstopo.swissalti3d/items?bbox=7.734%2C45.583%2C11.249%2C47.517&cursor=cD1zd2lzc2FsdGkzZF8yMDE5XzI2NDctMTI1OA%3D%3D\n",
      "GET https://data.geo.admin.ch/api/stac/v0.9/collections/ch.swisstopo.swissalti3d/items?bbox=7.734%2C45.583%2C11.249%2C47.517&cursor=cD1zd2lzc2FsdGkzZF8yMDE5XzI2NDgtMTE5OQ%3D%3D\n",
      "GET https://data.geo.admin.ch/api/stac/v0.9/collections/ch.swisstopo.swissalti3d/items?bbox=7.734%2C45.583%2C11.249%2C47.517&cursor=cD1zd2lzc2FsdGkzZF8yMDE5XzI2NDktMTE0MQ%3D%3D\n",
      "GET https://data.geo.admin.ch/api/stac/v0.9/collections/ch.swisstopo.swissalti3d/items?bbox=7.734%2C45.583%2C11.249%2C47.517&cursor=cD1zd2lzc2FsdGkzZF8yMDE5XzI2NDktMTI0MQ%3D%3D\n",
      "GET https://data.geo.admin.ch/api/stac/v0.9/collections/ch.swisstopo.swissalti3d/items?bbox=7.734%2C45.583%2C11.249%2C47.517&cursor=cD1zd2lzc2FsdGkzZF8yMDE5XzI2NTAtMTE4NA%3D%3D\n",
      "GET https://data.geo.admin.ch/api/stac/v0.9/collections/ch.swisstopo.swissalti3d/items?bbox=7.734%2C45.583%2C11.249%2C47.517&cursor=cD1zd2lzc2FsdGkzZF8yMDE5XzI2NTEtMTEyNw%3D%3D\n",
      "GET https://data.geo.admin.ch/api/stac/v0.9/collections/ch.swisstopo.swissalti3d/items?bbox=7.734%2C45.583%2C11.249%2C47.517&cursor=cD1zd2lzc2FsdGkzZF8yMDE5XzI2NTEtMTIyNw%3D%3D\n",
      "GET https://data.geo.admin.ch/api/stac/v0.9/collections/ch.swisstopo.swissalti3d/items?bbox=7.734%2C45.583%2C11.249%2C47.517&cursor=cD1zd2lzc2FsdGkzZF8yMDE5XzI2NTItMTE3Mw%3D%3D\n",
      "GET https://data.geo.admin.ch/api/stac/v0.9/collections/ch.swisstopo.swissalti3d/items?bbox=7.734%2C45.583%2C11.249%2C47.517&cursor=cD1zd2lzc2FsdGkzZF8yMDE5XzI2NTMtMTExOA%3D%3D\n",
      "GET https://data.geo.admin.ch/api/stac/v0.9/collections/ch.swisstopo.swissalti3d/items?bbox=7.734%2C45.583%2C11.249%2C47.517&cursor=cD1zd2lzc2FsdGkzZF8yMDE5XzI2NTMtMTIyNA%3D%3D\n",
      "GET https://data.geo.admin.ch/api/stac/v0.9/collections/ch.swisstopo.swissalti3d/items?bbox=7.734%2C45.583%2C11.249%2C47.517&cursor=cD1zd2lzc2FsdGkzZF8yMDE5XzI2NTQtMTE3Ng%3D%3D\n",
      "GET https://data.geo.admin.ch/api/stac/v0.9/collections/ch.swisstopo.swissalti3d/items?bbox=7.734%2C45.583%2C11.249%2C47.517&cursor=cD1zd2lzc2FsdGkzZF8yMDE5XzI2NTUtMTEzMQ%3D%3D\n",
      "GET https://data.geo.admin.ch/api/stac/v0.9/collections/ch.swisstopo.swissalti3d/items?bbox=7.734%2C45.583%2C11.249%2C47.517&cursor=cD1zd2lzc2FsdGkzZF8yMDE5XzI2NTUtMTIzMQ%3D%3D\n",
      "GET https://data.geo.admin.ch/api/stac/v0.9/collections/ch.swisstopo.swissalti3d/items?bbox=7.734%2C45.583%2C11.249%2C47.517&cursor=cD1zd2lzc2FsdGkzZF8yMDE5XzI2NTYtMTE5Mw%3D%3D\n",
      "GET https://data.geo.admin.ch/api/stac/v0.9/collections/ch.swisstopo.swissalti3d/items?bbox=7.734%2C45.583%2C11.249%2C47.517&cursor=cD1zd2lzc2FsdGkzZF8yMDE5XzI2NTctMTE1Ng%3D%3D\n",
      "GET https://data.geo.admin.ch/api/stac/v0.9/collections/ch.swisstopo.swissalti3d/items?bbox=7.734%2C45.583%2C11.249%2C47.517&cursor=cD1zd2lzc2FsdGkzZF8yMDE5XzI2NTctMTI1Ng%3D%3D\n",
      "GET https://data.geo.admin.ch/api/stac/v0.9/collections/ch.swisstopo.swissalti3d/items?bbox=7.734%2C45.583%2C11.249%2C47.517&cursor=cD1zd2lzc2FsdGkzZF8yMDE5XzI2NTgtMTIyMA%3D%3D\n",
      "GET https://data.geo.admin.ch/api/stac/v0.9/collections/ch.swisstopo.swissalti3d/items?bbox=7.734%2C45.583%2C11.249%2C47.517&cursor=cD1zd2lzc2FsdGkzZF8yMDE5XzI2NTktMTE4NA%3D%3D\n",
      "GET https://data.geo.admin.ch/api/stac/v0.9/collections/ch.swisstopo.swissalti3d/items?bbox=7.734%2C45.583%2C11.249%2C47.517&cursor=cD1zd2lzc2FsdGkzZF8yMDE5XzI2NjAtMTE1MA%3D%3D\n",
      "GET https://data.geo.admin.ch/api/stac/v0.9/collections/ch.swisstopo.swissalti3d/items?bbox=7.734%2C45.583%2C11.249%2C47.517&cursor=cD1zd2lzc2FsdGkzZF8yMDE5XzI2NjAtMTI1MA%3D%3D\n",
      "GET https://data.geo.admin.ch/api/stac/v0.9/collections/ch.swisstopo.swissalti3d/items?bbox=7.734%2C45.583%2C11.249%2C47.517&cursor=cD1zd2lzc2FsdGkzZF8yMDE5XzI2NjEtMTIxOA%3D%3D\n",
      "GET https://data.geo.admin.ch/api/stac/v0.9/collections/ch.swisstopo.swissalti3d/items?bbox=7.734%2C45.583%2C11.249%2C47.517&cursor=cD1zd2lzc2FsdGkzZF8yMDE5XzI2NjItMTE4Ng%3D%3D\n",
      "GET https://data.geo.admin.ch/api/stac/v0.9/collections/ch.swisstopo.swissalti3d/items?bbox=7.734%2C45.583%2C11.249%2C47.517&cursor=cD1zd2lzc2FsdGkzZF8yMDE5XzI2NjMtMTE1NA%3D%3D\n",
      "GET https://data.geo.admin.ch/api/stac/v0.9/collections/ch.swisstopo.swissalti3d/items?bbox=7.734%2C45.583%2C11.249%2C47.517&cursor=cD1zd2lzc2FsdGkzZF8yMDE5XzI2NjMtMTI1NQ%3D%3D\n",
      "GET https://data.geo.admin.ch/api/stac/v0.9/collections/ch.swisstopo.swissalti3d/items?bbox=7.734%2C45.583%2C11.249%2C47.517&cursor=cD1zd2lzc2FsdGkzZF8yMDE5XzI2NjQtMTIyOA%3D%3D\n",
      "GET https://data.geo.admin.ch/api/stac/v0.9/collections/ch.swisstopo.swissalti3d/items?bbox=7.734%2C45.583%2C11.249%2C47.517&cursor=cD1zd2lzc2FsdGkzZF8yMDE5XzI2NjUtMTE5OQ%3D%3D\n",
      "GET https://data.geo.admin.ch/api/stac/v0.9/collections/ch.swisstopo.swissalti3d/items?bbox=7.734%2C45.583%2C11.249%2C47.517&cursor=cD1zd2lzc2FsdGkzZF8yMDE5XzI2NjYtMTE3NA%3D%3D\n",
      "GET https://data.geo.admin.ch/api/stac/v0.9/collections/ch.swisstopo.swissalti3d/items?bbox=7.734%2C45.583%2C11.249%2C47.517&cursor=cD1zd2lzc2FsdGkzZF8yMDE5XzI2NjctMTE1Nw%3D%3D\n",
      "GET https://data.geo.admin.ch/api/stac/v0.9/collections/ch.swisstopo.swissalti3d/items?bbox=7.734%2C45.583%2C11.249%2C47.517&cursor=cD1zd2lzc2FsdGkzZF8yMDE5XzI2NjgtMTE0Mg%3D%3D\n",
      "GET https://data.geo.admin.ch/api/stac/v0.9/collections/ch.swisstopo.swissalti3d/items?bbox=7.734%2C45.583%2C11.249%2C47.517&cursor=cD1zd2lzc2FsdGkzZF8yMDE5XzI2NjgtMTI1MA%3D%3D\n",
      "GET https://data.geo.admin.ch/api/stac/v0.9/collections/ch.swisstopo.swissalti3d/items?bbox=7.734%2C45.583%2C11.249%2C47.517&cursor=cD1zd2lzc2FsdGkzZF8yMDE5XzI2NjktMTIzMw%3D%3D\n",
      "GET https://data.geo.admin.ch/api/stac/v0.9/collections/ch.swisstopo.swissalti3d/items?bbox=7.734%2C45.583%2C11.249%2C47.517&cursor=cD1zd2lzc2FsdGkzZF8yMDE5XzI2NzAtMTIxNw%3D%3D\n",
      "GET https://data.geo.admin.ch/api/stac/v0.9/collections/ch.swisstopo.swissalti3d/items?bbox=7.734%2C45.583%2C11.249%2C47.517&cursor=cD1zd2lzc2FsdGkzZF8yMDE5XzI2NzEtMTIwMQ%3D%3D\n",
      "GET https://data.geo.admin.ch/api/stac/v0.9/collections/ch.swisstopo.swissalti3d/items?bbox=7.734%2C45.583%2C11.249%2C47.517&cursor=cD1zd2lzc2FsdGkzZF8yMDE5XzI2NzItMTIwMw%3D%3D\n",
      "GET https://data.geo.admin.ch/api/stac/v0.9/collections/ch.swisstopo.swissalti3d/items?bbox=7.734%2C45.583%2C11.249%2C47.517&cursor=cD1zd2lzc2FsdGkzZF8yMDE5XzI2NzQtMTE2MA%3D%3D\n",
      "GET https://data.geo.admin.ch/api/stac/v0.9/collections/ch.swisstopo.swissalti3d/items?bbox=7.734%2C45.583%2C11.249%2C47.517&cursor=cD1zd2lzc2FsdGkzZF8yMDE5XzI2NzUtMTE5Ng%3D%3D\n",
      "GET https://data.geo.admin.ch/api/stac/v0.9/collections/ch.swisstopo.swissalti3d/items?bbox=7.734%2C45.583%2C11.249%2C47.517&cursor=cD1zd2lzc2FsdGkzZF8yMDE5XzI2NzctMTE4MA%3D%3D\n",
      "GET https://data.geo.admin.ch/api/stac/v0.9/collections/ch.swisstopo.swissalti3d/items?bbox=7.734%2C45.583%2C11.249%2C47.517&cursor=cD1zd2lzc2FsdGkzZF8yMDE5XzI2NzgtMTI0Mw%3D%3D\n",
      "GET https://data.geo.admin.ch/api/stac/v0.9/collections/ch.swisstopo.swissalti3d/items?bbox=7.734%2C45.583%2C11.249%2C47.517&cursor=cD1zd2lzc2FsdGkzZF8yMDE5XzI2ODAtMTE3OQ%3D%3D\n",
      "GET https://data.geo.admin.ch/api/stac/v0.9/collections/ch.swisstopo.swissalti3d/items?bbox=7.734%2C45.583%2C11.249%2C47.517&cursor=cD1zd2lzc2FsdGkzZF8yMDE5XzI2ODEtMTIwMw%3D%3D\n",
      "GET https://data.geo.admin.ch/api/stac/v0.9/collections/ch.swisstopo.swissalti3d/items?bbox=7.734%2C45.583%2C11.249%2C47.517&cursor=cD1zd2lzc2FsdGkzZF8yMDE5XzI2ODMtMTE2OA%3D%3D\n",
      "GET https://data.geo.admin.ch/api/stac/v0.9/collections/ch.swisstopo.swissalti3d/items?bbox=7.734%2C45.583%2C11.249%2C47.517&cursor=cD1zd2lzc2FsdGkzZF8yMDE5XzI2ODQtMTIwOQ%3D%3D\n",
      "GET https://data.geo.admin.ch/api/stac/v0.9/collections/ch.swisstopo.swissalti3d/items?bbox=7.734%2C45.583%2C11.249%2C47.517&cursor=cD1zd2lzc2FsdGkzZF8yMDE5XzI2ODYtMTA2OQ%3D%3D\n",
      "GET https://data.geo.admin.ch/api/stac/v0.9/collections/ch.swisstopo.swissalti3d/items?bbox=7.734%2C45.583%2C11.249%2C47.517&cursor=cD1zd2lzc2FsdGkzZF8yMDE5XzI2ODctMTE2OA%3D%3D\n",
      "GET https://data.geo.admin.ch/api/stac/v0.9/collections/ch.swisstopo.swissalti3d/items?bbox=7.734%2C45.583%2C11.249%2C47.517&cursor=cD1zd2lzc2FsdGkzZF8yMDE5XzI2ODgtMTE5MQ%3D%3D\n",
      "GET https://data.geo.admin.ch/api/stac/v0.9/collections/ch.swisstopo.swissalti3d/items?bbox=7.734%2C45.583%2C11.249%2C47.517&cursor=cD1zd2lzc2FsdGkzZF8yMDE5XzI2ODktMTI0NA%3D%3D\n",
      "GET https://data.geo.admin.ch/api/stac/v0.9/collections/ch.swisstopo.swissalti3d/items?bbox=7.734%2C45.583%2C11.249%2C47.517&cursor=cD1zd2lzc2FsdGkzZF8yMDE5XzI2OTEtMTE2MQ%3D%3D\n",
      "GET https://data.geo.admin.ch/api/stac/v0.9/collections/ch.swisstopo.swissalti3d/items?bbox=7.734%2C45.583%2C11.249%2C47.517&cursor=cD1zd2lzc2FsdGkzZF8yMDE5XzI2OTItMTE4Mg%3D%3D\n",
      "GET https://data.geo.admin.ch/api/stac/v0.9/collections/ch.swisstopo.swissalti3d/items?bbox=7.734%2C45.583%2C11.249%2C47.517&cursor=cD1zd2lzc2FsdGkzZF8yMDE5XzI2OTMtMTIxMA%3D%3D\n",
      "GET https://data.geo.admin.ch/api/stac/v0.9/collections/ch.swisstopo.swissalti3d/items?bbox=7.734%2C45.583%2C11.249%2C47.517&cursor=cD1zd2lzc2FsdGkzZF8yMDE5XzI2OTUtMTEwNw%3D%3D\n",
      "GET https://data.geo.admin.ch/api/stac/v0.9/collections/ch.swisstopo.swissalti3d/items?bbox=7.734%2C45.583%2C11.249%2C47.517&cursor=cD1zd2lzc2FsdGkzZF8yMDE5XzI2OTYtMTE3NA%3D%3D\n",
      "GET https://data.geo.admin.ch/api/stac/v0.9/collections/ch.swisstopo.swissalti3d/items?bbox=7.734%2C45.583%2C11.249%2C47.517&cursor=cD1zd2lzc2FsdGkzZF8yMDE5XzI2OTctMTE5MA%3D%3D\n",
      "GET https://data.geo.admin.ch/api/stac/v0.9/collections/ch.swisstopo.swissalti3d/items?bbox=7.734%2C45.583%2C11.249%2C47.517&cursor=cD1zd2lzc2FsdGkzZF8yMDE5XzI2OTgtMTIxNA%3D%3D\n",
      "GET https://data.geo.admin.ch/api/stac/v0.9/collections/ch.swisstopo.swissalti3d/items?bbox=7.734%2C45.583%2C11.249%2C47.517&cursor=cD1zd2lzc2FsdGkzZF8yMDE5XzI3MDAtMTA5NQ%3D%3D\n",
      "GET https://data.geo.admin.ch/api/stac/v0.9/collections/ch.swisstopo.swissalti3d/items?bbox=7.734%2C45.583%2C11.249%2C47.517&cursor=cD1zd2lzc2FsdGkzZF8yMDE5XzI3MDEtMTE2Mw%3D%3D\n",
      "10000\n",
      "GET https://data.geo.admin.ch/api/stac/v0.9/collections/ch.swisstopo.swissalti3d/items?bbox=7.734%2C45.583%2C11.249%2C47.517&cursor=cD1zd2lzc2FsdGkzZF8yMDE5XzI3MDItMTE4Nw%3D%3D\n",
      "GET https://data.geo.admin.ch/api/stac/v0.9/collections/ch.swisstopo.swissalti3d/items?bbox=7.734%2C45.583%2C11.249%2C47.517&cursor=cD1zd2lzc2FsdGkzZF8yMDE5XzI3MDQtMTA5Mw%3D%3D\n",
      "GET https://data.geo.admin.ch/api/stac/v0.9/collections/ch.swisstopo.swissalti3d/items?bbox=7.734%2C45.583%2C11.249%2C47.517&cursor=cD1zd2lzc2FsdGkzZF8yMDE5XzI3MDUtMTE2Nw%3D%3D\n",
      "GET https://data.geo.admin.ch/api/stac/v0.9/collections/ch.swisstopo.swissalti3d/items?bbox=7.734%2C45.583%2C11.249%2C47.517&cursor=cD1zd2lzc2FsdGkzZF8yMDE5XzI3MDYtMTE5MA%3D%3D\n",
      "GET https://data.geo.admin.ch/api/stac/v0.9/collections/ch.swisstopo.swissalti3d/items?bbox=7.734%2C45.583%2C11.249%2C47.517&cursor=cD1zd2lzc2FsdGkzZF8yMDE5XzI3MDctMTIxOA%3D%3D\n",
      "GET https://data.geo.admin.ch/api/stac/v0.9/collections/ch.swisstopo.swissalti3d/items?bbox=7.734%2C45.583%2C11.249%2C47.517&cursor=cD1zd2lzc2FsdGkzZF8yMDE5XzI3MDgtMTI0OQ%3D%3D\n",
      "GET https://data.geo.admin.ch/api/stac/v0.9/collections/ch.swisstopo.swissalti3d/items?bbox=7.734%2C45.583%2C11.249%2C47.517&cursor=cD1zd2lzc2FsdGkzZF8yMDE5XzI3MTAtMTA5Nw%3D%3D\n",
      "GET https://data.geo.admin.ch/api/stac/v0.9/collections/ch.swisstopo.swissalti3d/items?bbox=7.734%2C45.583%2C11.249%2C47.517&cursor=cD1zd2lzc2FsdGkzZF8yMDE5XzI3MTEtMTEwNQ%3D%3D\n",
      "GET https://data.geo.admin.ch/api/stac/v0.9/collections/ch.swisstopo.swissalti3d/items?bbox=7.734%2C45.583%2C11.249%2C47.517&cursor=cD1zd2lzc2FsdGkzZF8yMDE5XzI3MTItMTE1MA%3D%3D\n",
      "GET https://data.geo.admin.ch/api/stac/v0.9/collections/ch.swisstopo.swissalti3d/items?bbox=7.734%2C45.583%2C11.249%2C47.517&cursor=cD1zd2lzc2FsdGkzZF8yMDE5XzI3MTMtMTE3Mg%3D%3D\n",
      "GET https://data.geo.admin.ch/api/stac/v0.9/collections/ch.swisstopo.swissalti3d/items?bbox=7.734%2C45.583%2C11.249%2C47.517&cursor=cD1zd2lzc2FsdGkzZF8yMDE5XzI3MTQtMTE3NA%3D%3D\n",
      "GET https://data.geo.admin.ch/api/stac/v0.9/collections/ch.swisstopo.swissalti3d/items?bbox=7.734%2C45.583%2C11.249%2C47.517&cursor=cD1zd2lzc2FsdGkzZF8yMDE5XzI3MTUtMTE3Mw%3D%3D\n",
      "GET https://data.geo.admin.ch/api/stac/v0.9/collections/ch.swisstopo.swissalti3d/items?bbox=7.734%2C45.583%2C11.249%2C47.517&cursor=cD1zd2lzc2FsdGkzZF8yMDE5XzI3MTYtMTE3NA%3D%3D\n",
      "GET https://data.geo.admin.ch/api/stac/v0.9/collections/ch.swisstopo.swissalti3d/items?bbox=7.734%2C45.583%2C11.249%2C47.517&cursor=cD1zd2lzc2FsdGkzZF8yMDE5XzI3MTctMTE3NQ%3D%3D\n",
      "GET https://data.geo.admin.ch/api/stac/v0.9/collections/ch.swisstopo.swissalti3d/items?bbox=7.734%2C45.583%2C11.249%2C47.517&cursor=cD1zd2lzc2FsdGkzZF8yMDE5XzI3MTgtMTE3Mw%3D%3D\n",
      "GET https://data.geo.admin.ch/api/stac/v0.9/collections/ch.swisstopo.swissalti3d/items?bbox=7.734%2C45.583%2C11.249%2C47.517&cursor=cD1zd2lzc2FsdGkzZF8yMDE5XzI3MTktMTE3Nw%3D%3D\n",
      "GET https://data.geo.admin.ch/api/stac/v0.9/collections/ch.swisstopo.swissalti3d/items?bbox=7.734%2C45.583%2C11.249%2C47.517&cursor=cD1zd2lzc2FsdGkzZF8yMDE5XzI3MjAtMTE3NQ%3D%3D\n",
      "GET https://data.geo.admin.ch/api/stac/v0.9/collections/ch.swisstopo.swissalti3d/items?bbox=7.734%2C45.583%2C11.249%2C47.517&cursor=cD1zd2lzc2FsdGkzZF8yMDE5XzI3MjEtMTE3OQ%3D%3D\n",
      "GET https://data.geo.admin.ch/api/stac/v0.9/collections/ch.swisstopo.swissalti3d/items?bbox=7.734%2C45.583%2C11.249%2C47.517&cursor=cD1zd2lzc2FsdGkzZF8yMDE5XzI3MjItMTE4NQ%3D%3D\n",
      "GET https://data.geo.admin.ch/api/stac/v0.9/collections/ch.swisstopo.swissalti3d/items?bbox=7.734%2C45.583%2C11.249%2C47.517&cursor=cD1zd2lzc2FsdGkzZF8yMDE5XzI3MjMtMTIxNA%3D%3D\n",
      "GET https://data.geo.admin.ch/api/stac/v0.9/collections/ch.swisstopo.swissalti3d/items?bbox=7.734%2C45.583%2C11.249%2C47.517&cursor=cD1zd2lzc2FsdGkzZF8yMDE5XzI3MjUtMTA4MQ%3D%3D\n",
      "GET https://data.geo.admin.ch/api/stac/v0.9/collections/ch.swisstopo.swissalti3d/items?bbox=7.734%2C45.583%2C11.249%2C47.517&cursor=cD1zd2lzc2FsdGkzZF8yMDE5XzI3MjUtMTI2MQ%3D%3D\n",
      "GET https://data.geo.admin.ch/api/stac/v0.9/collections/ch.swisstopo.swissalti3d/items?bbox=7.734%2C45.583%2C11.249%2C47.517&cursor=cD1zd2lzc2FsdGkzZF8yMDE5XzI3MjYtMTE4OQ%3D%3D\n",
      "GET https://data.geo.admin.ch/api/stac/v0.9/collections/ch.swisstopo.swissalti3d/items?bbox=7.734%2C45.583%2C11.249%2C47.517&cursor=cD1zd2lzc2FsdGkzZF8yMDE5XzI3MjctMTE2OQ%3D%3D\n",
      "GET https://data.geo.admin.ch/api/stac/v0.9/collections/ch.swisstopo.swissalti3d/items?bbox=7.734%2C45.583%2C11.249%2C47.517&cursor=cD1zd2lzc2FsdGkzZF8yMDE5XzI3MjgtMTE1Mw%3D%3D\n",
      "GET https://data.geo.admin.ch/api/stac/v0.9/collections/ch.swisstopo.swissalti3d/items?bbox=7.734%2C45.583%2C11.249%2C47.517&cursor=cD1zd2lzc2FsdGkzZF8yMDE5XzI3MjktMTE0MQ%3D%3D\n",
      "GET https://data.geo.admin.ch/api/stac/v0.9/collections/ch.swisstopo.swissalti3d/items?bbox=7.734%2C45.583%2C11.249%2C47.517&cursor=cD1zd2lzc2FsdGkzZF8yMDE5XzI3MzAtMTEzMw%3D%3D\n",
      "GET https://data.geo.admin.ch/api/stac/v0.9/collections/ch.swisstopo.swissalti3d/items?bbox=7.734%2C45.583%2C11.249%2C47.517&cursor=cD1zd2lzc2FsdGkzZF8yMDE5XzI3MzEtMTEyOA%3D%3D\n",
      "GET https://data.geo.admin.ch/api/stac/v0.9/collections/ch.swisstopo.swissalti3d/items?bbox=7.734%2C45.583%2C11.249%2C47.517&cursor=cD1zd2lzc2FsdGkzZF8yMDE5XzI3MzItMTExNw%3D%3D\n",
      "GET https://data.geo.admin.ch/api/stac/v0.9/collections/ch.swisstopo.swissalti3d/items?bbox=7.734%2C45.583%2C11.249%2C47.517&cursor=cD1zd2lzc2FsdGkzZF8yMDE5XzI3MzItMTI0NQ%3D%3D\n",
      "GET https://data.geo.admin.ch/api/stac/v0.9/collections/ch.swisstopo.swissalti3d/items?bbox=7.734%2C45.583%2C11.249%2C47.517&cursor=cD1zd2lzc2FsdGkzZF8yMDE5XzI3MzMtMTIyMg%3D%3D\n",
      "GET https://data.geo.admin.ch/api/stac/v0.9/collections/ch.swisstopo.swissalti3d/items?bbox=7.734%2C45.583%2C11.249%2C47.517&cursor=cD1zd2lzc2FsdGkzZF8yMDE5XzI3MzQtMTIwMw%3D%3D\n",
      "GET https://data.geo.admin.ch/api/stac/v0.9/collections/ch.swisstopo.swissalti3d/items?bbox=7.734%2C45.583%2C11.249%2C47.517&cursor=cD1zd2lzc2FsdGkzZF8yMDE5XzI3MzUtMTE4OA%3D%3D\n",
      "GET https://data.geo.admin.ch/api/stac/v0.9/collections/ch.swisstopo.swissalti3d/items?bbox=7.734%2C45.583%2C11.249%2C47.517&cursor=cD1zd2lzc2FsdGkzZF8yMDE5XzI3MzYtMTE4Mw%3D%3D\n",
      "GET https://data.geo.admin.ch/api/stac/v0.9/collections/ch.swisstopo.swissalti3d/items?bbox=7.734%2C45.583%2C11.249%2C47.517&cursor=cD1zd2lzc2FsdGkzZF8yMDE5XzI3MzctMTE4Nw%3D%3D\n",
      "GET https://data.geo.admin.ch/api/stac/v0.9/collections/ch.swisstopo.swissalti3d/items?bbox=7.734%2C45.583%2C11.249%2C47.517&cursor=cD1zd2lzc2FsdGkzZF8yMDE5XzI3MzgtMTE4Mg%3D%3D\n",
      "GET https://data.geo.admin.ch/api/stac/v0.9/collections/ch.swisstopo.swissalti3d/items?bbox=7.734%2C45.583%2C11.249%2C47.517&cursor=cD1zd2lzc2FsdGkzZF8yMDE5XzI3MzktMTE3OA%3D%3D\n",
      "GET https://data.geo.admin.ch/api/stac/v0.9/collections/ch.swisstopo.swissalti3d/items?bbox=7.734%2C45.583%2C11.249%2C47.517&cursor=cD1zd2lzc2FsdGkzZF8yMDE5XzI3NDAtMTE4Mg%3D%3D\n",
      "GET https://data.geo.admin.ch/api/stac/v0.9/collections/ch.swisstopo.swissalti3d/items?bbox=7.734%2C45.583%2C11.249%2C47.517&cursor=cD1zd2lzc2FsdGkzZF8yMDE5XzI3NDEtMTE4OA%3D%3D\n",
      "GET https://data.geo.admin.ch/api/stac/v0.9/collections/ch.swisstopo.swissalti3d/items?bbox=7.734%2C45.583%2C11.249%2C47.517&cursor=cD1zd2lzc2FsdGkzZF8yMDE5XzI3NDItMTIxMg%3D%3D\n",
      "GET https://data.geo.admin.ch/api/stac/v0.9/collections/ch.swisstopo.swissalti3d/items?bbox=7.734%2C45.583%2C11.249%2C47.517&cursor=cD1zd2lzc2FsdGkzZF8yMDE5XzI3NDMtMTI2Mw%3D%3D\n",
      "GET https://data.geo.admin.ch/api/stac/v0.9/collections/ch.swisstopo.swissalti3d/items?bbox=7.734%2C45.583%2C11.249%2C47.517&cursor=cD1zd2lzc2FsdGkzZF8yMDE5XzI3NDUtMTE3Nw%3D%3D\n",
      "GET https://data.geo.admin.ch/api/stac/v0.9/collections/ch.swisstopo.swissalti3d/items?bbox=7.734%2C45.583%2C11.249%2C47.517&cursor=cD1zd2lzc2FsdGkzZF8yMDE5XzI3NDYtMTE5NQ%3D%3D\n",
      "GET https://data.geo.admin.ch/api/stac/v0.9/collections/ch.swisstopo.swissalti3d/items?bbox=7.734%2C45.583%2C11.249%2C47.517&cursor=cD1zd2lzc2FsdGkzZF8yMDE5XzI3NDctMTIzMA%3D%3D\n",
      "GET https://data.geo.admin.ch/api/stac/v0.9/collections/ch.swisstopo.swissalti3d/items?bbox=7.734%2C45.583%2C11.249%2C47.517&cursor=cD1zd2lzc2FsdGkzZF8yMDE5XzI3NDktMTE1Ng%3D%3D\n",
      "GET https://data.geo.admin.ch/api/stac/v0.9/collections/ch.swisstopo.swissalti3d/items?bbox=7.734%2C45.583%2C11.249%2C47.517&cursor=cD1zd2lzc2FsdGkzZF8yMDE5XzI3NTAtMTE2Ng%3D%3D\n",
      "GET https://data.geo.admin.ch/api/stac/v0.9/collections/ch.swisstopo.swissalti3d/items?bbox=7.734%2C45.583%2C11.249%2C47.517&cursor=cD1zd2lzc2FsdGkzZF8yMDE5XzI3NTEtMTE5MQ%3D%3D\n",
      "GET https://data.geo.admin.ch/api/stac/v0.9/collections/ch.swisstopo.swissalti3d/items?bbox=7.734%2C45.583%2C11.249%2C47.517&cursor=cD1zd2lzc2FsdGkzZF8yMDE5XzI3NTItMTIxNw%3D%3D\n",
      "GET https://data.geo.admin.ch/api/stac/v0.9/collections/ch.swisstopo.swissalti3d/items?bbox=7.734%2C45.583%2C11.249%2C47.517&cursor=cD1zd2lzc2FsdGkzZF8yMDE5XzI3NTQtMTE1MQ%3D%3D\n",
      "GET https://data.geo.admin.ch/api/stac/v0.9/collections/ch.swisstopo.swissalti3d/items?bbox=7.734%2C45.583%2C11.249%2C47.517&cursor=cD1zd2lzc2FsdGkzZF8yMDE5XzI3NTUtMTE2Mw%3D%3D\n",
      "GET https://data.geo.admin.ch/api/stac/v0.9/collections/ch.swisstopo.swissalti3d/items?bbox=7.734%2C45.583%2C11.249%2C47.517&cursor=cD1zd2lzc2FsdGkzZF8yMDE5XzI3NTYtMTE3MQ%3D%3D\n",
      "GET https://data.geo.admin.ch/api/stac/v0.9/collections/ch.swisstopo.swissalti3d/items?bbox=7.734%2C45.583%2C11.249%2C47.517&cursor=cD1zd2lzc2FsdGkzZF8yMDE5XzI3NTctMTE4MA%3D%3D\n",
      "GET https://data.geo.admin.ch/api/stac/v0.9/collections/ch.swisstopo.swissalti3d/items?bbox=7.734%2C45.583%2C11.249%2C47.517&cursor=cD1zd2lzc2FsdGkzZF8yMDE5XzI3NTgtMTE5MA%3D%3D\n",
      "GET https://data.geo.admin.ch/api/stac/v0.9/collections/ch.swisstopo.swissalti3d/items?bbox=7.734%2C45.583%2C11.249%2C47.517&cursor=cD1zd2lzc2FsdGkzZF8yMDE5XzI3NTktMTIwMQ%3D%3D\n",
      "GET https://data.geo.admin.ch/api/stac/v0.9/collections/ch.swisstopo.swissalti3d/items?bbox=7.734%2C45.583%2C11.249%2C47.517&cursor=cD1zd2lzc2FsdGkzZF8yMDE5XzI3NjAtMTIxMA%3D%3D\n",
      "GET https://data.geo.admin.ch/api/stac/v0.9/collections/ch.swisstopo.swissalti3d/items?bbox=7.734%2C45.583%2C11.249%2C47.517&cursor=cD1zd2lzc2FsdGkzZF8yMDE5XzI3NjEtMTIxMg%3D%3D\n",
      "GET https://data.geo.admin.ch/api/stac/v0.9/collections/ch.swisstopo.swissalti3d/items?bbox=7.734%2C45.583%2C11.249%2C47.517&cursor=cD1zd2lzc2FsdGkzZF8yMDE5XzI3NjItMTIwOQ%3D%3D\n",
      "GET https://data.geo.admin.ch/api/stac/v0.9/collections/ch.swisstopo.swissalti3d/items?bbox=7.734%2C45.583%2C11.249%2C47.517&cursor=cD1zd2lzc2FsdGkzZF8yMDE5XzI3NjMtMTIxMw%3D%3D\n",
      "GET https://data.geo.admin.ch/api/stac/v0.9/collections/ch.swisstopo.swissalti3d/items?bbox=7.734%2C45.583%2C11.249%2C47.517&cursor=cD1zd2lzc2FsdGkzZF8yMDE5XzI3NjQtMTIxNQ%3D%3D\n",
      "GET https://data.geo.admin.ch/api/stac/v0.9/collections/ch.swisstopo.swissalti3d/items?bbox=7.734%2C45.583%2C11.249%2C47.517&cursor=cD1zd2lzc2FsdGkzZF8yMDE5XzI3NjYtMTEzMg%3D%3D\n",
      "GET https://data.geo.admin.ch/api/stac/v0.9/collections/ch.swisstopo.swissalti3d/items?bbox=7.734%2C45.583%2C11.249%2C47.517&cursor=cD1zd2lzc2FsdGkzZF8yMDE5XzI3NjctMTE0MQ%3D%3D\n",
      "GET https://data.geo.admin.ch/api/stac/v0.9/collections/ch.swisstopo.swissalti3d/items?bbox=7.734%2C45.583%2C11.249%2C47.517&cursor=cD1zd2lzc2FsdGkzZF8yMDE5XzI3NjgtMTE1NA%3D%3D\n",
      "GET https://data.geo.admin.ch/api/stac/v0.9/collections/ch.swisstopo.swissalti3d/items?bbox=7.734%2C45.583%2C11.249%2C47.517&cursor=cD1zd2lzc2FsdGkzZF8yMDE5XzI3NjktMTE2Ng%3D%3D\n",
      "GET https://data.geo.admin.ch/api/stac/v0.9/collections/ch.swisstopo.swissalti3d/items?bbox=7.734%2C45.583%2C11.249%2C47.517&cursor=cD1zd2lzc2FsdGkzZF8yMDE5XzI3NzAtMTE3Nw%3D%3D\n",
      "GET https://data.geo.admin.ch/api/stac/v0.9/collections/ch.swisstopo.swissalti3d/items?bbox=7.734%2C45.583%2C11.249%2C47.517&cursor=cD1zd2lzc2FsdGkzZF8yMDE5XzI3NzEtMTE5MA%3D%3D\n",
      "GET https://data.geo.admin.ch/api/stac/v0.9/collections/ch.swisstopo.swissalti3d/items?bbox=7.734%2C45.583%2C11.249%2C47.517&cursor=cD1zd2lzc2FsdGkzZF8yMDE5XzI3NzItMTIwMw%3D%3D\n",
      "GET https://data.geo.admin.ch/api/stac/v0.9/collections/ch.swisstopo.swissalti3d/items?bbox=7.734%2C45.583%2C11.249%2C47.517&cursor=cD1zd2lzc2FsdGkzZF8yMDE5XzI3NzQtMTEzMg%3D%3D\n",
      "GET https://data.geo.admin.ch/api/stac/v0.9/collections/ch.swisstopo.swissalti3d/items?bbox=7.734%2C45.583%2C11.249%2C47.517&cursor=cD1zd2lzc2FsdGkzZF8yMDE5XzI3NzUtMTE0OA%3D%3D\n",
      "GET https://data.geo.admin.ch/api/stac/v0.9/collections/ch.swisstopo.swissalti3d/items?bbox=7.734%2C45.583%2C11.249%2C47.517&cursor=cD1zd2lzc2FsdGkzZF8yMDE5XzI3NzYtMTE2Ng%3D%3D\n",
      "GET https://data.geo.admin.ch/api/stac/v0.9/collections/ch.swisstopo.swissalti3d/items?bbox=7.734%2C45.583%2C11.249%2C47.517&cursor=cD1zd2lzc2FsdGkzZF8yMDE5XzI3NzctMTE4OA%3D%3D\n",
      "GET https://data.geo.admin.ch/api/stac/v0.9/collections/ch.swisstopo.swissalti3d/items?bbox=7.734%2C45.583%2C11.249%2C47.517&cursor=cD1zd2lzc2FsdGkzZF8yMDE5XzI3NzgtMTIwOQ%3D%3D\n",
      "GET https://data.geo.admin.ch/api/stac/v0.9/collections/ch.swisstopo.swissalti3d/items?bbox=7.734%2C45.583%2C11.249%2C47.517&cursor=cD1zd2lzc2FsdGkzZF8yMDE5XzI3ODAtMTE1Mg%3D%3D\n",
      "GET https://data.geo.admin.ch/api/stac/v0.9/collections/ch.swisstopo.swissalti3d/items?bbox=7.734%2C45.583%2C11.249%2C47.517&cursor=cD1zd2lzc2FsdGkzZF8yMDE5XzI3ODEtMTE3NQ%3D%3D\n",
      "GET https://data.geo.admin.ch/api/stac/v0.9/collections/ch.swisstopo.swissalti3d/items?bbox=7.734%2C45.583%2C11.249%2C47.517&cursor=cD1zd2lzc2FsdGkzZF8yMDE5XzI3ODItMTE5OQ%3D%3D\n",
      "GET https://data.geo.admin.ch/api/stac/v0.9/collections/ch.swisstopo.swissalti3d/items?bbox=7.734%2C45.583%2C11.249%2C47.517&cursor=cD1zd2lzc2FsdGkzZF8yMDE5XzI3ODQtMTE0OA%3D%3D\n",
      "GET https://data.geo.admin.ch/api/stac/v0.9/collections/ch.swisstopo.swissalti3d/items?bbox=7.734%2C45.583%2C11.249%2C47.517&cursor=cD1zd2lzc2FsdGkzZF8yMDE5XzI3ODUtMTE3NA%3D%3D\n",
      "GET https://data.geo.admin.ch/api/stac/v0.9/collections/ch.swisstopo.swissalti3d/items?bbox=7.734%2C45.583%2C11.249%2C47.517&cursor=cD1zd2lzc2FsdGkzZF8yMDE5XzI3ODYtMTIwMA%3D%3D\n",
      "GET https://data.geo.admin.ch/api/stac/v0.9/collections/ch.swisstopo.swissalti3d/items?bbox=7.734%2C45.583%2C11.249%2C47.517&cursor=cD1zd2lzc2FsdGkzZF8yMDE5XzI3ODgtMTE2OQ%3D%3D\n",
      "GET https://data.geo.admin.ch/api/stac/v0.9/collections/ch.swisstopo.swissalti3d/items?bbox=7.734%2C45.583%2C11.249%2C47.517&cursor=cD1zd2lzc2FsdGkzZF8yMDE5XzI3OTAtMTE0NQ%3D%3D\n",
      "GET https://data.geo.admin.ch/api/stac/v0.9/collections/ch.swisstopo.swissalti3d/items?bbox=7.734%2C45.583%2C11.249%2C47.517&cursor=cD1zd2lzc2FsdGkzZF8yMDE5XzI3OTEtMTE4Mg%3D%3D\n",
      "GET https://data.geo.admin.ch/api/stac/v0.9/collections/ch.swisstopo.swissalti3d/items?bbox=7.734%2C45.583%2C11.249%2C47.517&cursor=cD1zd2lzc2FsdGkzZF8yMDE5XzI3OTMtMTE1OA%3D%3D\n",
      "GET https://data.geo.admin.ch/api/stac/v0.9/collections/ch.swisstopo.swissalti3d/items?bbox=7.734%2C45.583%2C11.249%2C47.517&cursor=cD1zd2lzc2FsdGkzZF8yMDE5XzI3OTQtMTE5NQ%3D%3D\n",
      "GET https://data.geo.admin.ch/api/stac/v0.9/collections/ch.swisstopo.swissalti3d/items?bbox=7.734%2C45.583%2C11.249%2C47.517&cursor=cD1zd2lzc2FsdGkzZF8yMDE5XzI3OTYtMTE2MQ%3D%3D\n",
      "GET https://data.geo.admin.ch/api/stac/v0.9/collections/ch.swisstopo.swissalti3d/items?bbox=7.734%2C45.583%2C11.249%2C47.517&cursor=cD1zd2lzc2FsdGkzZF8yMDE5XzI3OTctMTE5MQ%3D%3D\n",
      "GET https://data.geo.admin.ch/api/stac/v0.9/collections/ch.swisstopo.swissalti3d/items?bbox=7.734%2C45.583%2C11.249%2C47.517&cursor=cD1zd2lzc2FsdGkzZF8yMDE5XzI3OTktMTE1Mg%3D%3D\n",
      "GET https://data.geo.admin.ch/api/stac/v0.9/collections/ch.swisstopo.swissalti3d/items?bbox=7.734%2C45.583%2C11.249%2C47.517&cursor=cD1zd2lzc2FsdGkzZF8yMDE5XzI4MDAtMTE4Mg%3D%3D\n",
      "GET https://data.geo.admin.ch/api/stac/v0.9/collections/ch.swisstopo.swissalti3d/items?bbox=7.734%2C45.583%2C11.249%2C47.517&cursor=cD1zd2lzc2FsdGkzZF8yMDE5XzI4MDItMTE2MQ%3D%3D\n",
      "GET https://data.geo.admin.ch/api/stac/v0.9/collections/ch.swisstopo.swissalti3d/items?bbox=7.734%2C45.583%2C11.249%2C47.517&cursor=cD1zd2lzc2FsdGkzZF8yMDE5XzI4MDQtMTEzMw%3D%3D\n",
      "GET https://data.geo.admin.ch/api/stac/v0.9/collections/ch.swisstopo.swissalti3d/items?bbox=7.734%2C45.583%2C11.249%2C47.517&cursor=cD1zd2lzc2FsdGkzZF8yMDE5XzI4MDYtMTEyNg%3D%3D\n",
      "GET https://data.geo.admin.ch/api/stac/v0.9/collections/ch.swisstopo.swissalti3d/items?bbox=7.734%2C45.583%2C11.249%2C47.517&cursor=cD1zd2lzc2FsdGkzZF8yMDE5XzI4MDgtMTEyOQ%3D%3D\n",
      "GET https://data.geo.admin.ch/api/stac/v0.9/collections/ch.swisstopo.swissalti3d/items?bbox=7.734%2C45.583%2C11.249%2C47.517&cursor=cD1zd2lzc2FsdGkzZF8yMDE5XzI4MTAtMTE4NQ%3D%3D\n",
      "GET https://data.geo.admin.ch/api/stac/v0.9/collections/ch.swisstopo.swissalti3d/items?bbox=7.734%2C45.583%2C11.249%2C47.517&cursor=cD1zd2lzc2FsdGkzZF8yMDE5XzI4MTMtMTE5Mw%3D%3D\n",
      "GET https://data.geo.admin.ch/api/stac/v0.9/collections/ch.swisstopo.swissalti3d/items?bbox=7.734%2C45.583%2C11.249%2C47.517&cursor=cD1zd2lzc2FsdGkzZF8yMDE5XzI4MTYtMTE3Mw%3D%3D\n",
      "GET https://data.geo.admin.ch/api/stac/v0.9/collections/ch.swisstopo.swissalti3d/items?bbox=7.734%2C45.583%2C11.249%2C47.517&cursor=cD1zd2lzc2FsdGkzZF8yMDE5XzI4MTgtMTE4OQ%3D%3D\n",
      "GET https://data.geo.admin.ch/api/stac/v0.9/collections/ch.swisstopo.swissalti3d/items?bbox=7.734%2C45.583%2C11.249%2C47.517&cursor=cD1zd2lzc2FsdGkzZF8yMDE5XzI4MjAtMTE5Ng%3D%3D\n",
      "GET https://data.geo.admin.ch/api/stac/v0.9/collections/ch.swisstopo.swissalti3d/items?bbox=7.734%2C45.583%2C11.249%2C47.517&cursor=cD1zd2lzc2FsdGkzZF8yMDE5XzI4MjItMTE5Ng%3D%3D\n",
      "GET https://data.geo.admin.ch/api/stac/v0.9/collections/ch.swisstopo.swissalti3d/items?bbox=7.734%2C45.583%2C11.249%2C47.517&cursor=cD1zd2lzc2FsdGkzZF8yMDE5XzI4MjQtMTE5NQ%3D%3D\n",
      "GET https://data.geo.admin.ch/api/stac/v0.9/collections/ch.swisstopo.swissalti3d/items?bbox=7.734%2C45.583%2C11.249%2C47.517&cursor=cD1zd2lzc2FsdGkzZF8yMDE5XzI4MjYtMTE5NA%3D%3D\n",
      "GET https://data.geo.admin.ch/api/stac/v0.9/collections/ch.swisstopo.swissalti3d/items?bbox=7.734%2C45.583%2C11.249%2C47.517&cursor=cD1zd2lzc2FsdGkzZF8yMDE5XzI4MjktMTE2NQ%3D%3D\n",
      "GET https://data.geo.admin.ch/api/stac/v0.9/collections/ch.swisstopo.swissalti3d/items?bbox=7.734%2C45.583%2C11.249%2C47.517&cursor=cD1zd2lzc2FsdGkzZF8yMDE5XzI4MzMtMTE2NQ%3D%3D\n",
      "20000\n",
      "GET https://data.geo.admin.ch/api/stac/v0.9/collections/ch.swisstopo.swissalti3d/items?bbox=7.734%2C45.583%2C11.249%2C47.517&cursor=cD1zd2lzc2FsdGkzZF8yMDIwXzI2NzItMTI0MQ%3D%3D\n",
      "GET https://data.geo.admin.ch/api/stac/v0.9/collections/ch.swisstopo.swissalti3d/items?bbox=7.734%2C45.583%2C11.249%2C47.517&cursor=cD1zd2lzc2FsdGkzZF8yMDIwXzI2NzQtMTI0MQ%3D%3D\n",
      "GET https://data.geo.admin.ch/api/stac/v0.9/collections/ch.swisstopo.swissalti3d/items?bbox=7.734%2C45.583%2C11.249%2C47.517&cursor=cD1zd2lzc2FsdGkzZF8yMDIwXzI2NzYtMTIxOQ%3D%3D\n",
      "GET https://data.geo.admin.ch/api/stac/v0.9/collections/ch.swisstopo.swissalti3d/items?bbox=7.734%2C45.583%2C11.249%2C47.517&cursor=cD1zd2lzc2FsdGkzZF8yMDIwXzI2NzctMTI2Mg%3D%3D\n",
      "GET https://data.geo.admin.ch/api/stac/v0.9/collections/ch.swisstopo.swissalti3d/items?bbox=7.734%2C45.583%2C11.249%2C47.517&cursor=cD1zd2lzc2FsdGkzZF8yMDIwXzI2NzktMTE0Ng%3D%3D\n",
      "GET https://data.geo.admin.ch/api/stac/v0.9/collections/ch.swisstopo.swissalti3d/items?bbox=7.734%2C45.583%2C11.249%2C47.517&cursor=cD1zd2lzc2FsdGkzZF8yMDIwXzI2ODAtMTIzNA%3D%3D\n",
      "GET https://data.geo.admin.ch/api/stac/v0.9/collections/ch.swisstopo.swissalti3d/items?bbox=7.734%2C45.583%2C11.249%2C47.517&cursor=cD1zd2lzc2FsdGkzZF8yMDIwXzI2ODItMTEyMA%3D%3D\n",
      "GET https://data.geo.admin.ch/api/stac/v0.9/collections/ch.swisstopo.swissalti3d/items?bbox=7.734%2C45.583%2C11.249%2C47.517&cursor=cD1zd2lzc2FsdGkzZF8yMDIwXzI2ODMtMTEzMw%3D%3D\n",
      "GET https://data.geo.admin.ch/api/stac/v0.9/collections/ch.swisstopo.swissalti3d/items?bbox=7.734%2C45.583%2C11.249%2C47.517&cursor=cD1zd2lzc2FsdGkzZF8yMDIwXzI2ODQtMTE0NA%3D%3D\n",
      "GET https://data.geo.admin.ch/api/stac/v0.9/collections/ch.swisstopo.swissalti3d/items?bbox=7.734%2C45.583%2C11.249%2C47.517&cursor=cD1zd2lzc2FsdGkzZF8yMDIwXzI2ODUtMTE1OA%3D%3D\n",
      "GET https://data.geo.admin.ch/api/stac/v0.9/collections/ch.swisstopo.swissalti3d/items?bbox=7.734%2C45.583%2C11.249%2C47.517&cursor=cD1zd2lzc2FsdGkzZF8yMDIwXzI2ODYtMTIzMA%3D%3D\n",
      "GET https://data.geo.admin.ch/api/stac/v0.9/collections/ch.swisstopo.swissalti3d/items?bbox=7.734%2C45.583%2C11.249%2C47.517&cursor=cD1zd2lzc2FsdGkzZF8yMDIwXzI2ODctMTIzMA%3D%3D\n",
      "GET https://data.geo.admin.ch/api/stac/v0.9/collections/ch.swisstopo.swissalti3d/items?bbox=7.734%2C45.583%2C11.249%2C47.517&cursor=cD1zd2lzc2FsdGkzZF8yMDIwXzI2ODgtMTIzOQ%3D%3D\n",
      "GET https://data.geo.admin.ch/api/stac/v0.9/collections/ch.swisstopo.swissalti3d/items?bbox=7.734%2C45.583%2C11.249%2C47.517&cursor=cD1zd2lzc2FsdGkzZF8yMDIwXzI2ODktMTI0MQ%3D%3D\n",
      "GET https://data.geo.admin.ch/api/stac/v0.9/collections/ch.swisstopo.swissalti3d/items?bbox=7.734%2C45.583%2C11.249%2C47.517&cursor=cD1zd2lzc2FsdGkzZF8yMDIwXzI2OTAtMTI0Mg%3D%3D\n",
      "GET https://data.geo.admin.ch/api/stac/v0.9/collections/ch.swisstopo.swissalti3d/items?bbox=7.734%2C45.583%2C11.249%2C47.517&cursor=cD1zd2lzc2FsdGkzZF8yMDIwXzI2OTEtMTI0OQ%3D%3D\n",
      "GET https://data.geo.admin.ch/api/stac/v0.9/collections/ch.swisstopo.swissalti3d/items?bbox=7.734%2C45.583%2C11.249%2C47.517&cursor=cD1zd2lzc2FsdGkzZF8yMDIwXzI2OTMtMTExNw%3D%3D\n",
      "GET https://data.geo.admin.ch/api/stac/v0.9/collections/ch.swisstopo.swissalti3d/items?bbox=7.734%2C45.583%2C11.249%2C47.517&cursor=cD1zd2lzc2FsdGkzZF8yMDIwXzI2OTQtMTEyNg%3D%3D\n",
      "GET https://data.geo.admin.ch/api/stac/v0.9/collections/ch.swisstopo.swissalti3d/items?bbox=7.734%2C45.583%2C11.249%2C47.517&cursor=cD1zd2lzc2FsdGkzZF8yMDIwXzI2OTUtMTEzNw%3D%3D\n",
      "GET https://data.geo.admin.ch/api/stac/v0.9/collections/ch.swisstopo.swissalti3d/items?bbox=7.734%2C45.583%2C11.249%2C47.517&cursor=cD1zd2lzc2FsdGkzZF8yMDIwXzI2OTYtMTE0Ng%3D%3D\n",
      "GET https://data.geo.admin.ch/api/stac/v0.9/collections/ch.swisstopo.swissalti3d/items?bbox=7.734%2C45.583%2C11.249%2C47.517&cursor=cD1zd2lzc2FsdGkzZF8yMDIwXzI2OTctMTIwMA%3D%3D\n",
      "GET https://data.geo.admin.ch/api/stac/v0.9/collections/ch.swisstopo.swissalti3d/items?bbox=7.734%2C45.583%2C11.249%2C47.517&cursor=cD1zd2lzc2FsdGkzZF8yMDIwXzI2OTgtMTIyNw%3D%3D\n",
      "GET https://data.geo.admin.ch/api/stac/v0.9/collections/ch.swisstopo.swissalti3d/items?bbox=7.734%2C45.583%2C11.249%2C47.517&cursor=cD1zd2lzc2FsdGkzZF8yMDIwXzI2OTktMTI0Mg%3D%3D\n",
      "GET https://data.geo.admin.ch/api/stac/v0.9/collections/ch.swisstopo.swissalti3d/items?bbox=7.734%2C45.583%2C11.249%2C47.517&cursor=cD1zd2lzc2FsdGkzZF8yMDIwXzI3MDAtMTI2Mw%3D%3D\n",
      "GET https://data.geo.admin.ch/api/stac/v0.9/collections/ch.swisstopo.swissalti3d/items?bbox=7.734%2C45.583%2C11.249%2C47.517&cursor=cD1zd2lzc2FsdGkzZF8yMDIwXzI3MDItMTEyOA%3D%3D\n",
      "GET https://data.geo.admin.ch/api/stac/v0.9/collections/ch.swisstopo.swissalti3d/items?bbox=7.734%2C45.583%2C11.249%2C47.517&cursor=cD1zd2lzc2FsdGkzZF8yMDIwXzI3MDMtMTEzOA%3D%3D\n",
      "GET https://data.geo.admin.ch/api/stac/v0.9/collections/ch.swisstopo.swissalti3d/items?bbox=7.734%2C45.583%2C11.249%2C47.517&cursor=cD1zd2lzc2FsdGkzZF8yMDIwXzI3MDQtMTE1Mw%3D%3D\n",
      "GET https://data.geo.admin.ch/api/stac/v0.9/collections/ch.swisstopo.swissalti3d/items?bbox=7.734%2C45.583%2C11.249%2C47.517&cursor=cD1zd2lzc2FsdGkzZF8yMDIwXzI3MDUtMTIxNg%3D%3D\n",
      "GET https://data.geo.admin.ch/api/stac/v0.9/collections/ch.swisstopo.swissalti3d/items?bbox=7.734%2C45.583%2C11.249%2C47.517&cursor=cD1zd2lzc2FsdGkzZF8yMDIwXzI3MDYtMTI0MQ%3D%3D\n",
      "GET https://data.geo.admin.ch/api/stac/v0.9/collections/ch.swisstopo.swissalti3d/items?bbox=7.734%2C45.583%2C11.249%2C47.517&cursor=cD1zd2lzc2FsdGkzZF8yMDIwXzI3MDctMTI1Mw%3D%3D\n",
      "GET https://data.geo.admin.ch/api/stac/v0.9/collections/ch.swisstopo.swissalti3d/items?bbox=7.734%2C45.583%2C11.249%2C47.517&cursor=cD1zd2lzc2FsdGkzZF8yMDIwXzI3MDktMTEyMg%3D%3D\n",
      "GET https://data.geo.admin.ch/api/stac/v0.9/collections/ch.swisstopo.swissalti3d/items?bbox=7.734%2C45.583%2C11.249%2C47.517&cursor=cD1zd2lzc2FsdGkzZF8yMDIwXzI3MTAtMTE0MA%3D%3D\n",
      "GET https://data.geo.admin.ch/api/stac/v0.9/collections/ch.swisstopo.swissalti3d/items?bbox=7.734%2C45.583%2C11.249%2C47.517&cursor=cD1zd2lzc2FsdGkzZF8yMDIwXzI3MTEtMTE4Ng%3D%3D\n",
      "GET https://data.geo.admin.ch/api/stac/v0.9/collections/ch.swisstopo.swissalti3d/items?bbox=7.734%2C45.583%2C11.249%2C47.517&cursor=cD1zd2lzc2FsdGkzZF8yMDIwXzI3MTItMTIxOA%3D%3D\n",
      "GET https://data.geo.admin.ch/api/stac/v0.9/collections/ch.swisstopo.swissalti3d/items?bbox=7.734%2C45.583%2C11.249%2C47.517&cursor=cD1zd2lzc2FsdGkzZF8yMDIwXzI3MTMtMTIzMA%3D%3D\n",
      "GET https://data.geo.admin.ch/api/stac/v0.9/collections/ch.swisstopo.swissalti3d/items?bbox=7.734%2C45.583%2C11.249%2C47.517&cursor=cD1zd2lzc2FsdGkzZF8yMDIwXzI3MTQtMTI1NQ%3D%3D\n",
      "GET https://data.geo.admin.ch/api/stac/v0.9/collections/ch.swisstopo.swissalti3d/items?bbox=7.734%2C45.583%2C11.249%2C47.517&cursor=cD1zd2lzc2FsdGkzZF8yMDIwXzI3MTYtMTExNw%3D%3D\n",
      "GET https://data.geo.admin.ch/api/stac/v0.9/collections/ch.swisstopo.swissalti3d/items?bbox=7.734%2C45.583%2C11.249%2C47.517&cursor=cD1zd2lzc2FsdGkzZF8yMDIwXzI3MTctMTEyOQ%3D%3D\n",
      "GET https://data.geo.admin.ch/api/stac/v0.9/collections/ch.swisstopo.swissalti3d/items?bbox=7.734%2C45.583%2C11.249%2C47.517&cursor=cD1zd2lzc2FsdGkzZF8yMDIwXzI3MTgtMTE0Mg%3D%3D\n",
      "GET https://data.geo.admin.ch/api/stac/v0.9/collections/ch.swisstopo.swissalti3d/items?bbox=7.734%2C45.583%2C11.249%2C47.517&cursor=cD1zd2lzc2FsdGkzZF8yMDIwXzI3MTktMTE1MA%3D%3D\n",
      "GET https://data.geo.admin.ch/api/stac/v0.9/collections/ch.swisstopo.swissalti3d/items?bbox=7.734%2C45.583%2C11.249%2C47.517&cursor=cD1zd2lzc2FsdGkzZF8yMDIwXzI3MjAtMTE5MA%3D%3D\n",
      "GET https://data.geo.admin.ch/api/stac/v0.9/collections/ch.swisstopo.swissalti3d/items?bbox=7.734%2C45.583%2C11.249%2C47.517&cursor=cD1zd2lzc2FsdGkzZF8yMDIwXzI3MjEtMTIxMQ%3D%3D\n",
      "GET https://data.geo.admin.ch/api/stac/v0.9/collections/ch.swisstopo.swissalti3d/items?bbox=7.734%2C45.583%2C11.249%2C47.517&cursor=cD1zd2lzc2FsdGkzZF8yMDIwXzI3MjItMTIxNw%3D%3D\n",
      "GET https://data.geo.admin.ch/api/stac/v0.9/collections/ch.swisstopo.swissalti3d/items?bbox=7.734%2C45.583%2C11.249%2C47.517&cursor=cD1zd2lzc2FsdGkzZF8yMDIwXzI3MjMtMTIyMw%3D%3D\n",
      "GET https://data.geo.admin.ch/api/stac/v0.9/collections/ch.swisstopo.swissalti3d/items?bbox=7.734%2C45.583%2C11.249%2C47.517&cursor=cD1zd2lzc2FsdGkzZF8yMDIwXzI3MjQtMTIzNw%3D%3D\n",
      "GET https://data.geo.admin.ch/api/stac/v0.9/collections/ch.swisstopo.swissalti3d/items?bbox=7.734%2C45.583%2C11.249%2C47.517&cursor=cD1zd2lzc2FsdGkzZF8yMDIwXzI3MjYtMTIwMQ%3D%3D\n",
      "GET https://data.geo.admin.ch/api/stac/v0.9/collections/ch.swisstopo.swissalti3d/items?bbox=7.734%2C45.583%2C11.249%2C47.517&cursor=cD1zd2lzc2FsdGkzZF8yMDIwXzI3MjgtMTIyMg%3D%3D\n",
      "GET https://data.geo.admin.ch/api/stac/v0.9/collections/ch.swisstopo.swissalti3d/items?bbox=7.734%2C45.583%2C11.249%2C47.517&cursor=cD1zd2lzc2FsdGkzZF8yMDIwXzI3MzAtMTIyNA%3D%3D\n",
      "GET https://data.geo.admin.ch/api/stac/v0.9/collections/ch.swisstopo.swissalti3d/items?bbox=7.734%2C45.583%2C11.249%2C47.517&cursor=cD1zd2lzc2FsdGkzZF8yMDIwXzI3MzItMTI1Mg%3D%3D\n",
      "GET https://data.geo.admin.ch/api/stac/v0.9/collections/ch.swisstopo.swissalti3d/items?bbox=7.734%2C45.583%2C11.249%2C47.517&cursor=cD1zd2lzc2FsdGkzZF8yMDIwXzI3MzUtMTIwOQ%3D%3D\n",
      "GET https://data.geo.admin.ch/api/stac/v0.9/collections/ch.swisstopo.swissalti3d/items?bbox=7.734%2C45.583%2C11.249%2C47.517&cursor=cD1zd2lzc2FsdGkzZF8yMDIwXzI3MzctMTIyOQ%3D%3D\n",
      "GET https://data.geo.admin.ch/api/stac/v0.9/collections/ch.swisstopo.swissalti3d/items?bbox=7.734%2C45.583%2C11.249%2C47.517&cursor=cD1zd2lzc2FsdGkzZF8yMDIwXzI3MzktMTI1OQ%3D%3D\n",
      "GET https://data.geo.admin.ch/api/stac/v0.9/collections/ch.swisstopo.swissalti3d/items?bbox=7.734%2C45.583%2C11.249%2C47.517&cursor=cD1zd2lzc2FsdGkzZF8yMDIwXzI3NDItMTIyNw%3D%3D\n",
      "GET https://data.geo.admin.ch/api/stac/v0.9/collections/ch.swisstopo.swissalti3d/items?bbox=7.734%2C45.583%2C11.249%2C47.517&cursor=cD1zd2lzc2FsdGkzZF8yMDIwXzI3NDQtMTI2Mg%3D%3D\n",
      "GET https://data.geo.admin.ch/api/stac/v0.9/collections/ch.swisstopo.swissalti3d/items?bbox=7.734%2C45.583%2C11.249%2C47.517&cursor=cD1zd2lzc2FsdGkzZF8yMDIwXzI3NDctMTI1OQ%3D%3D\n",
      "GET https://data.geo.admin.ch/api/stac/v0.9/collections/ch.swisstopo.swissalti3d/items?bbox=7.734%2C45.583%2C11.249%2C47.517&cursor=cD1zd2lzc2FsdGkzZF8yMDIwXzI3NTAtMTI1NA%3D%3D\n",
      "GET https://data.geo.admin.ch/api/stac/v0.9/collections/ch.swisstopo.swissalti3d/items?bbox=7.734%2C45.583%2C11.249%2C47.517&cursor=cD1zd2lzc2FsdGkzZF8yMDIwXzI3NTMtMTIzMg%3D%3D\n",
      "GET https://data.geo.admin.ch/api/stac/v0.9/collections/ch.swisstopo.swissalti3d/items?bbox=7.734%2C45.583%2C11.249%2C47.517&cursor=cD1zd2lzc2FsdGkzZF8yMDIwXzI3NTYtMTIxMA%3D%3D\n",
      "GET https://data.geo.admin.ch/api/stac/v0.9/collections/ch.swisstopo.swissalti3d/items?bbox=7.734%2C45.583%2C11.249%2C47.517&cursor=cD1zd2lzc2FsdGkzZF8yMDIwXzI3NTgtMTI0MQ%3D%3D\n",
      "GET https://data.geo.admin.ch/api/stac/v0.9/collections/ch.swisstopo.swissalti3d/items?bbox=7.734%2C45.583%2C11.249%2C47.517&cursor=cD1zd2lzc2FsdGkzZF8yMDIwXzI3NjEtMTIyMg%3D%3D\n",
      "GET https://data.geo.admin.ch/api/stac/v0.9/collections/ch.swisstopo.swissalti3d/items?bbox=7.734%2C45.583%2C11.249%2C47.517&cursor=cD1zd2lzc2FsdGkzZF8yMDIwXzI3NjUtMTIyMg%3D%3D\n",
      "26064\n"
     ]
    }
   ],
   "source": [
    "features = []\n",
    "while True:\n",
    "    features += items['features']\n",
    "    if len(features) % 10000 == 0:\n",
    "        print(len(features))\n",
    "    try:\n",
    "        items = apiget(get_first_link(items, 'next'))\n",
    "    except IndexError:\n",
    "        break\n",
    "# Takes ~200 seconds & iterations\n",
    "print(len(features))  #26064"
   ]
  },
  {
   "cell_type": "code",
   "execution_count": 11,
   "metadata": {},
   "outputs": [],
   "source": [
    "# check file integruty with:\n",
    "# !for f in dwn/swissalti3d_*.tif ; do gdalinfo $f >/dev/null ; done\n",
    "\n",
    "# dwn/swissalti3d_2019_2650-1221_2_2056_5728.tif"
   ]
  },
  {
   "cell_type": "code",
   "execution_count": 12,
   "metadata": {},
   "outputs": [
    {
     "data": {
      "text/plain": [
       "26064"
      ]
     },
     "execution_count": 12,
     "metadata": {},
     "output_type": "execute_result"
    }
   ],
   "source": [
    "urls = [url\n",
    "    for feat in features\n",
    "    for url in only_two_meters_tif(feat)\n",
    "] #if Bbox(*feat['bbox']).intersect(bbcalps)]  # <- covered by the bbox parameter\n",
    "len(urls)"
   ]
  },
  {
   "cell_type": "code",
   "execution_count": 13,
   "metadata": {},
   "outputs": [
    {
     "data": {
      "text/plain": [
       "('https://data.geo.admin.ch/ch.swisstopo.swissalti3d/swissalti3d_2019_2622-1085/swissalti3d_2019_2622-1085_2_2056_5728.tif',\n",
       " 'https://data.geo.admin.ch/ch.swisstopo.swissalti3d/swissalti3d_2019_2622-1086/swissalti3d_2019_2622-1086_2_2056_5728.tif')"
      ]
     },
     "execution_count": 13,
     "metadata": {},
     "output_type": "execute_result"
    }
   ],
   "source": [
    "urls[0], urls[1]"
   ]
  },
  {
   "cell_type": "code",
   "execution_count": 14,
   "metadata": {},
   "outputs": [],
   "source": [
    "for cururl in urls:\n",
    "    destpath = '/'.join((dwndir, cururl.split('/')[-1]))\n",
    "    if not os.path.exists(destpath):\n",
    "        urlretrieve(cururl, destpath)\n",
    "\n",
    "# follow download of 26064 files in eslope/development/data/ch/\n",
    "# at around 3 files/second it takes >2h\n",
    "# feel free to symlink in case of disk space issue"
   ]
  },
  {
   "cell_type": "code",
   "execution_count": 15,
   "metadata": {},
   "outputs": [
    {
     "name": "stdout",
     "output_type": "stream",
     "text": [
      "26064\n"
     ]
    }
   ],
   "source": [
    "! ls -1 $dwndir | wc -l"
   ]
  },
  {
   "cell_type": "code",
   "execution_count": 16,
   "metadata": {},
   "outputs": [],
   "source": [
    "# print('''{\n",
    "#   \"type\": \"FeatureCollection\",\n",
    "#   \"features\": [''')\n",
    "# for bb in (bbcalps, *(Bbox(*feat['bbox']) for feat in items['features'])):\n",
    "#     print('''    {   \"type\": \"Feature\",\n",
    "#         \"geometry\": { \"type\": \"LineString\",\n",
    "#             \"coordinates\": [ [%s, %s], [%s, %s] ] },\n",
    "#         \"properties\": {}\n",
    "#     },''' % (bb.w, bb.s, bb.e, bb.n))\n",
    "# print(''']}''')"
   ]
  },
  {
   "cell_type": "code",
   "execution_count": 17,
   "metadata": {},
   "outputs": [
    {
     "name": "stdout",
     "output_type": "stream",
     "text": [
      "5.9503666 45.7213375 10.4998461 47.8216742\n",
      "7.734 45.583 11.249 47.517\n",
      "7.734 45.7213375 10.4998461 47.517\n"
     ]
    }
   ],
   "source": [
    "bb = bb_swissalti.intersection(bbox.bbcalps)\n",
    "print(bb_swissalti, bbox.bbcalps, bb, sep='\\n')"
   ]
  },
  {
   "cell_type": "code",
   "execution_count": 18,
   "metadata": {},
   "outputs": [
    {
     "name": "stdout",
     "output_type": "stream",
     "text": [
      "2622998.64917026 1063298.09713657 0\n",
      "2830535.57296033 1267415.86684333 0\n"
     ]
    }
   ],
   "source": [
    "!echo \"7.734 45.721\\n10.500 47.517\" | gdaltransform -s_srs EPSG:4326 -t_srs EPSG:2056"
   ]
  },
  {
   "cell_type": "code",
   "execution_count": 19,
   "metadata": {},
   "outputs": [
    {
     "name": "stdout",
     "output_type": "stream",
     "text": [
      "/home/me/code/eddy-geek/slope-ign-alti/chc\n",
      "26064 vrt_input_files.txt\n",
      "0...10...20...30...40...50...60...70...80...90...100 - done.\n",
      "/home/me/code/eddy-geek/eslope/development\n"
     ]
    }
   ],
   "source": [
    "%cd data/chc\n",
    "# basenames = [url.split('/')[-1] + '\\n' for url in urls]\n",
    "basenames = [str(p) + '\\n' for p in Path('dwn').glob('swissalti3d_*.tif')]\n",
    "vrtpieces = 'vrt_input_files.txt'\n",
    "vrt = 'chc-dtm.vrt'\n",
    "with open(vrtpieces, 'w') as f:\n",
    "    f.writelines(basenames)\n",
    "!wc -l $vrtpieces\n",
    "\n",
    "!gdalbuildvrt -overwrite\\\n",
    "    -input_file_list $vrtpieces $vrt\n",
    "# -te 2622998 1063298 2830535 1267476 -tr 2 2 -a_srs EPSG:2056 \\\n",
    "\n",
    "%cd $NBROOT"
   ]
  },
  {
   "cell_type": "markdown",
   "metadata": {},
   "source": [
    "⚠️ Generated file is 103763 x 102040 and 17 GB (Valais was 69500 x 40000 and 5 GB)."
   ]
  },
  {
   "cell_type": "code",
   "execution_count": 31,
   "metadata": {},
   "outputs": [
    {
     "name": "stdout",
     "output_type": "stream",
     "text": [
      "\n",
      "        gdalwarp -co COMPRESS=ZSTD -co PREDICTOR=2 -co ZSTD_LEVEL=1 -co TILED=YES -co blockXsize=1024 -co blockYsize=1024 -co BIGTIFF=YES -co SPARSE_OK=TRUE -co NUM_THREADS=ALL_CPUS -multi -wo NUM_THREADS=ALL_CPUS -overwrite \\\n",
      "            -dstnodata -9999 -te_srs WGS84 -te 7.734 45.7213375 10.4998461 47.517  \\\n",
      "            data/chc/chc-dtm.vrt data/dtm_final/chc_dtm.tif\n",
      "    \n",
      "Creating output file that is 103763P x 102040L.\n",
      "Processing data/chc/chc-dtm.vrt [1/1] : 0Using internal nodata values (e.g. -9999) for image data/chc/chc-dtm.vrt.\n",
      "...10...20...30...40...50...60...70...80...90...100 - done.\n"
     ]
    }
   ],
   "source": [
    "if not exists(CHC_DTM):\n",
    "    cmd = f'''\n",
    "        gdalwarp {S.DFLT_WARP_OPT}\\\\\n",
    "            -dstnodata -9999 -te_srs WGS84 -te {str(bb)}  \\\\\n",
    "            data/chc/{vrt} {CHC_DTM}\n",
    "    '''\n",
    "    print(cmd)\n",
    "    S.check_run(cmd)"
   ]
  },
  {
   "cell_type": "code",
   "execution_count": 32,
   "metadata": {},
   "outputs": [
    {
     "name": "stdout",
     "output_type": "stream",
     "text": [
      "Driver: GTiff/GeoTIFF\n",
      "Files: data/dtm_final/chc_dtm.tif\n",
      "       data/dtm_final/chc_dtm.tif.aux.xml\n",
      "Size is 103763, 102040\n",
      "Coordinate System is:\n",
      "Data axis to CRS axis mapping: 1,2\n",
      "Origin = (2622998.508232237305492,1267415.414544902043417)\n",
      "Pixel Size = (1.999995000095153,-1.999998010785012)\n",
      "Metadata:\n",
      "  AREA_OR_POINT=Area\n",
      "Image Structure Metadata:\n",
      "  COMPRESSION=ZSTD\n",
      "  INTERLEAVE=BAND\n",
      "Corner Coordinates:\n",
      "Upper Left  ( 2622998.508, 1267415.415) (  7d44'42.69\"E, 47d33'30.40\"N)\n",
      "Lower Left  ( 2622998.508, 1063335.618) (  7d44' 5.91\"E, 45d43'21.04\"N)\n",
      "Upper Right ( 2830523.989, 1267415.415) ( 10d30' 4.61\"E, 47d31' 6.09\"N)\n",
      "Lower Right ( 2830523.989, 1063335.618) ( 10d23'56.53\"E, 45d41' 1.50\"N)\n",
      "Center      ( 2726761.249, 1165375.516) (  9d 5'42.50\"E, 46d37'43.92\"N)\n",
      "Band 1 Block=1024x1024 Type=Float32, ColorInterp=Gray\n",
      "  Min=3857.896 Max=3898.859 \n",
      "  Minimum=3857.896, Maximum=3898.859, Mean=3877.632, StdDev=14.227\n",
      "  NoData Value=-9999\n",
      "  Metadata:\n",
      "    STATISTICS_MAXIMUM=3898.8591308594\n",
      "    STATISTICS_MEAN=3877.6321327903\n",
      "    STATISTICS_MINIMUM=3857.8957519531\n",
      "    STATISTICS_STDDEV=14.226894858233\n",
      "    STATISTICS_VALID_PERCENT=8.311e-07\n"
     ]
    }
   ],
   "source": [
    "!gdalinfo $CHC_DTM | rg -v '\\['"
   ]
  },
  {
   "cell_type": "code",
   "execution_count": 4,
   "metadata": {},
   "outputs": [
    {
     "name": "stdout",
     "output_type": "stream",
     "text": [
      "Creating output file that is 519P x 510L.\n",
      "Using internal nodata values (e.g. -9999) for image data/dtm_final/chc_dtm.tif.\n",
      "Copying nodata values from source data/dtm_final/chc_dtm.tif to destination .\n",
      "0...10...20...30...40...50...60...70...80...90...100 - done.\n"
     ]
    },
    {
     "data": {
      "text/plain": [
       "0"
      ]
     },
     "execution_count": 4,
     "metadata": {},
     "output_type": "execute_result"
    }
   ],
   "source": [
    "res = 400\n",
    "ram_opt = '--config GDAL_CACHEMAX 512 -wm 1024'  # in MB\n",
    "S.check_run(f'gdalwarp {ram_opt} -overwrite -ot Byte -tr {res} {-res} {CHC_DTM} chc_dtm_ovr.png')\n",
    "# 2 minutes and 5 GB RAM :-("
   ]
  },
  {
   "cell_type": "code",
   "execution_count": 5,
   "metadata": {},
   "outputs": [
    {
     "data": {
      "image/png": "[encoded data removed]",
      "text/plain": [
       "<IPython.core.display.Image object>"
      ]
     },
     "execution_count": 5,
     "metadata": {},
     "output_type": "execute_result"
    }
   ],
   "source": [
    "# If there are holes, go back to the top :)\n",
    "Image('chc_dtm_ovr.png')"
   ]
  },
  {
   "cell_type": "code",
   "execution_count": null,
   "metadata": {},
   "outputs": [],
   "source": []
  }
 ],
 "metadata": {
  "interpreter": {
   "hash": "4913ed92adf4fb24dff325cddf3820899273b13e1364fac2e6040e861e7b0f0a"
  },
  "kernelspec": {
   "display_name": "Python 3.9.1 64-bit (conda)",
   "language": "python",
   "name": "python3"
  },
  "language_info": {
   "codemirror_mode": {
    "name": "ipython",
    "version": 3
   },
   "file_extension": ".py",
   "mimetype": "text/x-python",
   "name": "python",
   "nbconvert_exporter": "python",
   "pygments_lexer": "ipython3",
   "version": "3.9.1"
  },
  "orig_nbformat": 4
 },
 "nbformat": 4,
 "nbformat_minor": 2
}
