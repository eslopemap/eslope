{
 "cells": [
  {
   "cell_type": "markdown",
   "metadata": {},
   "source": [
    "# Sample testing for DEM & slopes\n",
    "\n",
    "This is basically a sandbox. By playing with smaller area, eg, a single tile of TMS zoom 10, we can get accurate comparison of approaches.\n",
    "\n",
    "* The `cut_extent` command will extract from an existing DEM.\n",
    "* The `slope` command converts to mbtile.\n",
    "\n",
    "See [gdal_slope_util.py](../src/gdal_slope_util.py)"
   ]
  },
  {
   "cell_type": "code",
   "execution_count": 1,
   "metadata": {},
   "outputs": [],
   "source": [
    "%load_ext autoreload\n",
    "%autoreload 2\n",
    "\n",
    "import os\n",
    "import sys\n",
    "sys.path.append(os.path.dirname(os.path.abspath(os.curdir)))"
   ]
  },
  {
   "cell_type": "code",
   "execution_count": 2,
   "metadata": {},
   "outputs": [],
   "source": [
    "from src.gdal_slope_util import cut_extent, make_ovr, slope_mbt, make_overviews, mbt_merge\n",
    "\n",
    "ZSTD_OPT='-co COMPRESS=ZSTD -co PREDICTOR=2 -co ZSTD_LEVEL=1 '\n",
    "TILE_OPT='-co TILED=YES -co blockXsize=1024 -co blockYsize=1024 '\n",
    "PARAL_OPT='-co NUM_THREADS=ALL_CPUS -multi -wo NUM_THREADS=ALL_CPUS ' # <- || compression, warp and compute\n",
    "EXTRA_OPT='-co BIGTIFF=YES -overwrite '"
   ]
  },
  {
   "cell_type": "code",
   "execution_count": 3,
   "metadata": {},
   "outputs": [],
   "source": [
    "alpw_dem_path = os.path.realpath('alps/slopes-Lausanne-Jouques-Sanremo-Zermatt.tif')\n",
    "#CMAPDIR = '~/code/eddy-geek/TIL/geo/data'"
   ]
  },
  {
   "cell_type": "markdown",
   "metadata": {},
   "source": [
    "# Mont-Blanc\n",
    "\n",
    "The area covered is 1.5 z10 tiles around Mont-Blanc, from Morillon to Lavachey\n",
    "Covers IGN 20m / Aoste 1m / Swisstopo 2m\n"
   ]
  },
  {
   "cell_type": "code",
   "execution_count": 4,
   "metadata": {},
   "outputs": [
    {
     "name": "stdout",
     "output_type": "stream",
     "text": [
      "/home/me/code/eddy-geek/eslope/development/sample_tests/montblancz10\n"
     ]
    }
   ],
   "source": [
    "!mkdir -p montblancz10\n",
    "%cd montblancz10\n",
    "w, s, e, n = 6.855466, 45.828796, 7.207031, 45.951147"
   ]
  },
  {
   "cell_type": "code",
   "execution_count": 5,
   "metadata": {},
   "outputs": [],
   "source": [
    "#other common extents I used:\n",
    "# see also TIL/geo/src/useful_extents.sh                                           main ⬆ ✱ ◼\n",
    "# mbz10 = '6.855466 45.828796 7.207031 45.951147'\n",
    "# clapier='7.38 44.1 7.44 44.15'\n",
    "# malinvern='7.163085 44.182203 7.207031 44.213709'\n",
    "# paradis_z11='6.855466 45.460132 7.382813 45.583291'"
   ]
  },
  {
   "cell_type": "markdown",
   "metadata": {},
   "source": [
    "## Test compression parameters\n",
    "\n",
    "As per the results below:\n",
    "* Float compression halves size\n",
    "  * ZSTD-L1 provides similar results as DEFLATE-L9 with much better write perf\n",
    "* Float16 halves size with a very small precision cost (<0.06)\n",
    "* **'Rounding' to Byte divides size by >5** (because it makes for much better compressibility)\n",
    "This is why I chose to compress to int, and so, why I need palettes with cutoff points at 0.5° -- so that the rounding does not twists the output.\n",
    "\n",
    "Note: it's important to do this on a representative sample, which is the case here with both low-precision (=good compressibility) and high-precision DEMs."
   ]
  },
  {
   "cell_type": "code",
   "execution_count": 6,
   "metadata": {},
   "outputs": [
    {
     "name": "stdout",
     "output_type": "stream",
     "text": [
      "        f32-:  512 MB ;  3.0 seconds\n",
      "        f16-:  256 MB ;  3.7 seconds\n",
      "        i16-:  256 MB ;  2.7 seconds\n",
      "         i8-:  128 MB ;  2.4 seconds\n",
      " f16-deflate:  108 MB ;  19.7 seconds\n",
      "  i8-deflate:  40 MB ;  13.7 seconds\n",
      "   f32-zstd1:  231 MB ;  3.8 seconds\n",
      "   f16-zstd1:  107 MB ;  3.5 seconds\n",
      "   i16-zstd1:  56 MB ;  2.9 seconds\n",
      "    i8-zstd1:  40 MB ;  2.5 seconds\n",
      "   f32-zstd3:  235 MB ;  5.3 seconds\n",
      "   f16-zstd3:  108 MB ;  4.0 seconds\n",
      "    i8-zstd3:  43 MB ;  2.8 seconds\n",
      "   f32-zstd9:  230 MB ;  14.4 seconds\n",
      "   f16-zstd9:  103 MB ;  9.5 seconds\n",
      "    i8-zstd9:  39 MB ;  5.6 seconds\n"
     ]
    }
   ],
   "source": [
    "from time import time\n",
    "from contextlib import redirect_stderr, redirect_stdout\n",
    "DEFLATE_OPT = ' -co COMPRESS=DEFLATE -co PREDICTOR=2 -co ZLEVEL=9 '\n",
    "ZSTDL_OPT=' -co COMPRESS=ZSTD -co PREDICTOR=2 -co ZSTD_LEVEL=%d '\n",
    "buff = []\n",
    "with open(os.devnull, 'w') as fnull:\n",
    "    with redirect_stderr(fnull), redirect_stdout(fnull):\n",
    "        for name, opt in {\n",
    "            'f32-': '',\n",
    "            'f16-': '-co NBITS=16 ',\n",
    "            'i16-': '-ot UInt16 ',\n",
    "            'i8-': '-ot Byte ',\n",
    "            'f16-deflate': '-co NBITS=16 ' + DEFLATE_OPT,\n",
    "            'i8-deflate': '-ot Byte ' + DEFLATE_OPT,\n",
    "            'f32-zstd1': ZSTDL_OPT % 1,\n",
    "            'f16-zstd1': '-co NBITS=16 ' + ZSTDL_OPT % 1,\n",
    "            'i16-zstd1': '-ot UInt16 ' + ZSTDL_OPT % 1,\n",
    "            'i8-zstd1': '-ot Byte ' + ZSTDL_OPT % 1,\n",
    "            'f32-zstd3': ZSTDL_OPT % 3,\n",
    "            'f16-zstd3': '-co NBITS=16 ' + ZSTDL_OPT % 3,\n",
    "            'i8-zstd3': '-ot Byte ' + ZSTDL_OPT % 3,\n",
    "            'f32-zstd9': ZSTDL_OPT % 9,\n",
    "            'f16-zstd9': '-co NBITS=16 ' + ZSTDL_OPT % 9,\n",
    "            'i8-zstd9': '-ot Byte ' + ZSTDL_OPT % 9\n",
    "        }.items():\n",
    "            dest = f'slopes-z16-cmp-{name}.tif'\n",
    "            startt = time()\n",
    "            cut_extent(w, s, e, n, src=alpw_dem_path, precision='',\n",
    "                       default_opt=opt + TILE_OPT + PARAL_OPT + EXTRA_OPT, dest=dest)\n",
    "            buff += [name.rjust(12), ':  ',\n",
    "                round(os.path.getsize(dest) / 1024**2), ' MB ;  ' ,\n",
    "                round(time()-startt, 1), ' seconds\\n']\n",
    "            os.remove(dest)\n",
    "\n",
    "sys.stdout.writelines(map(str, buff))\n",
    "# test takes 2min"
   ]
  },
  {
   "cell_type": "markdown",
   "metadata": {},
   "source": [
    "## Parallelization test\n",
    "\n",
    "Here is an archive of the results on my laptop:\n",
    "\n",
    "```\n",
    "                                                            :  5.8 seconds\n",
    "                                   -co NUM_THREADS=ALL_CPUS :  4.8 seconds\n",
    "                                                     -multi :  3.9 seconds\n",
    "                                   -wo NUM_THREADS=ALL_CPUS :  3.8 seconds\n",
    "                            -multi -wo NUM_THREADS=ALL_CPUS :  3.6 seconds\n",
    "   -co NUM_THREADS=ALL_CPUS -multi -wo NUM_THREADS=ALL_CPUS :  2.9 seconds\n",
    "```\n",
    "```\n",
    "                                                            :  7.5 seconds\n",
    "                                   -co NUM_THREADS=ALL_CPUS :  7.5 seconds\n",
    "                                                     -multi :  6.7 seconds\n",
    "                                   -wo NUM_THREADS=ALL_CPUS :  2.9 seconds\n",
    "                            -multi -wo NUM_THREADS=ALL_CPUS :  2.6 seconds\n",
    "   -co NUM_THREADS=ALL_CPUS -multi -wo NUM_THREADS=ALL_CPUS :  2.5 seconds\n",
    "```"
   ]
  },
  {
   "cell_type": "code",
   "execution_count": 7,
   "metadata": {},
   "outputs": [
    {
     "name": "stdout",
     "output_type": "stream",
     "text": [
      "gdalwarp -ot Byte \\\n",
      "    -co COMPRESS=ZSTD -co PREDICTOR=2 -co ZSTD_LEVEL=1 -co TILED=YES -co blockXsize=1024 -co blockYsize=1024 -co NUM_THREADS=ALL_CPUS -multi -wo NUM_THREADS=ALL_CPUS -co BIGTIFF=YES -overwrite  \\\n",
      "     \\\n",
      "    -t_srs EPSG:3857 -tr 2.388657133911758 -2.388657133911758 -r nearest \\\n",
      "    -te_srs WGS84 -te 6.855466 45.828796 7.207031 45.951147 \\\n",
      "    ~/code/eddy-geek/slope-ign-alti/alps/slopes-Lausanne-Jouques-Sanremo-Zermatt.tif slopes-z16.tif\n",
      "Creating output file that is 16384P x 8192L.\n",
      "Processing /home/me/code/eddy-geek/slope-ign-alti/alps/slopes-Lausanne-Jouques-Sanremo-Zermatt.tif [1/1] : 0Using internal nodata values (e.g. 255) for image /home/me/code/eddy-geek/slope-ign-alti/alps/slopes-Lausanne-Jouques-Sanremo-Zermatt.tif.\n",
      "Copying nodata values from source /home/me/code/eddy-geek/slope-ign-alti/alps/slopes-Lausanne-Jouques-Sanremo-Zermatt.tif to destination slopes-z16.tif.\n",
      "...10...20...30...40...50...60...70...80...90...100 - done.\n"
     ]
    }
   ],
   "source": [
    "cut_extent(w, s, e, n, src=alpw_dem_path, dest='slopes-z16.tif')"
   ]
  },
  {
   "cell_type": "code",
   "execution_count": 8,
   "metadata": {},
   "outputs": [
    {
     "name": "stdout",
     "output_type": "stream",
     "text": [
      "                                                            :  14 MB ;  5.7 seconds\n",
      "                                   -co NUM_THREADS=ALL_CPUS :  14 MB ;  5.3 seconds\n",
      "                                                     -multi :  14 MB ;  5.1 seconds\n",
      "                                   -wo NUM_THREADS=ALL_CPUS :  14 MB ;  2.4 seconds\n",
      "                            -multi -wo NUM_THREADS=ALL_CPUS :  14 MB ;  2.2 seconds\n",
      "   -co NUM_THREADS=ALL_CPUS -multi -wo NUM_THREADS=ALL_CPUS :  14 MB ;  1.9 seconds\n",
      "                                                            :  40 MB ;  4.0 seconds\n",
      "                                   -co NUM_THREADS=ALL_CPUS :  40 MB ;  3.5 seconds\n",
      "                                                     -multi :  40 MB ;  2.8 seconds\n",
      "                                   -wo NUM_THREADS=ALL_CPUS :  40 MB ;  2.8 seconds\n",
      "                            -multi -wo NUM_THREADS=ALL_CPUS :  40 MB ;  2.5 seconds\n",
      "   -co NUM_THREADS=ALL_CPUS -multi -wo NUM_THREADS=ALL_CPUS :  40 MB ;  2.1 seconds\n"
     ]
    }
   ],
   "source": [
    "pbuff = []\n",
    "base =  ZSTD_OPT + TILE_OPT + EXTRA_OPT\n",
    "pcompress = '-co NUM_THREADS=ALL_CPUS '\n",
    "pwarp = '-multi '\n",
    "pcompute = '-wo NUM_THREADS=ALL_CPUS '\n",
    "dest = './tmp.tif'\n",
    "for fun in (\n",
    "    lambda xopts: make_ovr(src='./slopes-z16.tif', dest=dest, z=15, default_opt=base + xopts),\n",
    "    lambda xopts: cut_extent(w, s, e, n, src=alpw_dem_path, dest=dest, default_opt=base + xopts),\n",
    "):\n",
    "    with open(os.devnull, 'w') as fnull:\n",
    "        with redirect_stderr(fnull), redirect_stdout(fnull):\n",
    "            for xopts in (\n",
    "                '',\n",
    "                pcompress,\n",
    "                pwarp,\n",
    "                pcompute,\n",
    "                pwarp+pcompute,\n",
    "                pcompress+pwarp+pcompute\n",
    "            ):\n",
    "                        if os.path.isfile(dest): os.remove(dest)\n",
    "                        startt = time()\n",
    "                        fun(xopts)\n",
    "                        pbuff += [xopts.rjust(60), ':  ',\n",
    "                            round(os.path.getsize(dest) / 1024**2), ' MB ;  ' ,\n",
    "                            round(time()-startt, 1), ' seconds\\n']\n",
    "\n",
    "sys.stdout.writelines(map(str, pbuff))"
   ]
  },
  {
   "cell_type": "markdown",
   "metadata": {},
   "source": [
    "## Test overview palette"
   ]
  },
  {
   "cell_type": "code",
   "execution_count": 9,
   "metadata": {},
   "outputs": [
    {
     "name": "stdout",
     "output_type": "stream",
     "text": [
      "\n",
      "gdalwarp -r q3 -tr 4.777314267823516 -4.777314267823516 \\\n",
      "  -co COMPRESS=ZSTD -co PREDICTOR=2 -co ZSTD_LEVEL=1 -co TILED=YES -co blockXsize=1024 -co blockYsize=1024 -co NUM_THREADS=ALL_CPUS -multi -wo NUM_THREADS=ALL_CPUS -co BIGTIFF=YES -overwrite  \\\n",
      "   \\\n",
      "  slopes-z16.tif slopes-z15.tif\n",
      "Creating output file that is 8192P x 4096L.\n",
      "Processing slopes-z16.tif [1/1] : 0Using internal nodata values (e.g. 255) for image slopes-z16.tif.\n",
      "Copying nodata values from source slopes-z16.tif to destination slopes-z15.tif.\n",
      "...10...20...30...40...50...60...70...80...90...100 - done.\n"
     ]
    },
    {
     "data": {
      "text/plain": [
       "'slopes-z15.tif'"
      ]
     },
     "execution_count": 9,
     "metadata": {},
     "output_type": "execute_result"
    }
   ],
   "source": [
    "make_ovr(src='slopes-z16.tif', z=15)\n"
   ]
  },
  {
   "cell_type": "code",
   "execution_count": 10,
   "metadata": {},
   "outputs": [
    {
     "name": "stdout",
     "output_type": "stream",
     "text": [
      "\n",
      "gdalwarp -r q3 -tr 38.21851414258813 -38.21851414258813 \\\n",
      "  -co COMPRESS=ZSTD -co PREDICTOR=2 -co ZSTD_LEVEL=1 -co TILED=YES -co blockXsize=1024 -co blockYsize=1024 -co NUM_THREADS=ALL_CPUS -multi -wo NUM_THREADS=ALL_CPUS -co BIGTIFF=YES -overwrite  \\\n",
      "   \\\n",
      "  slopes-z16.tif slopes-z15.tif\n",
      "Creating output file that is 1024P x 512L.\n",
      "Processing slopes-z16.tif [1/1] : 0Using internal nodata values (e.g. 255) for image slopes-z16.tif.\n",
      "Copying nodata values from source slopes-z16.tif to destination slopes-z15.tif.\n",
      "...10...20...30...40...50...60...70...80...90...100 - done.\n",
      "sed 's/nv    0   0   0   0/nv  255 255 255 255/g' \\\n",
      "    ~/code/eddy-geek/TIL/geo/data/gdaldem-slope-eslo4near.clr >! /tmp/gdaldem-slope-eslo4near.clr && \\\n",
      "gdaldem color-relief ./slopes-z14.tif /tmp/gdaldem-slope-eslo4near.clr ./eslo4near-z14.mbtiles \\\n",
      "    -nearest_color_entry -co TILE_FORMAT=png8 \n",
      "0...10...20...30...40...50...60...70...80...90...100 - done.\n"
     ]
    },
    {
     "data": {
      "text/plain": [
       "'./eslo4near-z14.mbtiles'"
      ]
     },
     "execution_count": 10,
     "metadata": {},
     "output_type": "execute_result"
    }
   ],
   "source": [
    "make_ovr(src='slopes-z16.tif', z=12)\n",
    "slope_mbt('eslo4near', z=14)\n"
   ]
  },
  {
   "cell_type": "code",
   "execution_count": 11,
   "metadata": {},
   "outputs": [
    {
     "name": "stdout",
     "output_type": "stream",
     "text": [
      "\n",
      "gdalwarp -r q3 -tr 38.21851414258813 -38.21851414258813 \\\n",
      "  -co COMPRESS=ZSTD -co PREDICTOR=2 -co ZSTD_LEVEL=1 -co TILED=YES -co blockXsize=1024 -co blockYsize=1024 -co NUM_THREADS=ALL_CPUS -multi -wo NUM_THREADS=ALL_CPUS -co BIGTIFF=YES -overwrite  \\\n",
      "   \\\n",
      "  slopes-z16.tif slopes-z15.tif\n",
      "Creating output file that is 1024P x 512L.\n",
      "Processing slopes-z16.tif [1/1] : 0Using internal nodata values (e.g. 255) for image slopes-z16.tif.\n",
      "Copying nodata values from source slopes-z16.tif to destination slopes-z15.tif.\n",
      "...10...20...30...40...50...60...70...80...90...100 - done.\n",
      "sed 's/nv    0   0   0   0/nv  255 255 255 255/g' \\\n",
      "    ~/code/eddy-geek/TIL/geo/data/gdaldem-slope-eslo4near.clr >! /tmp/gdaldem-slope-eslo4near.clr && \\\n",
      "gdaldem color-relief ./slopes-z12.tif /tmp/gdaldem-slope-eslo4near.clr ./eslo4near-z12.mbtiles \\\n",
      "    -nearest_color_entry -co TILE_FORMAT=png8 \n",
      "0...10...20...30...40...50...60...70...80...90...100 - done.\n"
     ]
    },
    {
     "data": {
      "text/plain": [
       "'./eslo4near-z12.mbtiles'"
      ]
     },
     "execution_count": 11,
     "metadata": {},
     "output_type": "execute_result"
    }
   ],
   "source": [
    "make_ovr(src='slopes-z16.tif', z=12)\n",
    "slope_mbt('eslo4near', z=12)"
   ]
  },
  {
   "cell_type": "code",
   "execution_count": 12,
   "metadata": {},
   "outputs": [],
   "source": [
    "# !pip install pymbtiles\n",
    "# from pymbtiles.ops import extend\n",
    "# !cp -f eslo13-z16.mbtiles eslo.mbtiles\n",
    "# extend('eslo4-z14.mbtiles', 'eslo.mbtiles')\n",
    "# extend('eslo4near-z12.mbtiles', 'eslo.mbtiles')\n",
    "# with MBtiles('eslo.mbtiles', 'w+') as m:\n",
    "#     m.meta['...'] = ...\n",
    "\n",
    "# !rm eslo.mbtiles\n",
    "# mbt_merge('eslo13near-z16.mbtiles', 'eslo4near-z14.mbtiles', 'eslo4near-z12.mbtiles', dest='eslo.mbtiles')"
   ]
  },
  {
   "cell_type": "code",
   "execution_count": 18,
   "metadata": {},
   "outputs": [
    {
     "name": "stdout",
     "output_type": "stream",
     "text": [
      "./eslo.mbtiles\n",
      "      sed 's/nv    0   0   0   0/nv  255 255 255 255/g' \\\n",
      "          ~/code/eddy-geek/TIL/geo/data/gdaldem-slope-eslo13near.clr >! /tmp/gdaldem-slope-eslo13near.clr && \\\n",
      "      gdaldem color-relief ./slopes-z16.tif /tmp/gdaldem-slope-eslo13near.clr ./eslo13near-z16.mbtiles \\\n",
      "          -nearest_color_entry -co TILE_FORMAT=png8 \n",
      "0...10...20...30...40...50...60...70...80...90...100 - done.\n",
      "Step 1/3 completed in 13.0 seconds\n",
      "      gdalwarp -r q3 -tr 4.777314267823516 -4.777314267823516 \\\n",
      "        -co COMPRESS=ZSTD -co PREDICTOR=2 -co ZSTD_LEVEL=1 -co TILED=YES -co blockXsize=1024 -co blockYsize=1024 -co NUM_THREADS=ALL_CPUS -multi -wo NUM_THREADS=ALL_CPUS -co BIGTIFF=YES -overwrite   \\\n",
      "        ./slopes-z16.tif ./slopes-z15.tif\n",
      "Creating output file that is 8192P x 4096L.\n",
      "Processing ./slopes-z16.tif [1/1] : 0Using internal nodata values (e.g. 255) for image ./slopes-z16.tif.\n",
      "Copying nodata values from source ./slopes-z16.tif to destination ./slopes-z15.tif.\n",
      "...10...20...30...40...50...60...70...80...90...100 - done.\n",
      "      sed 's/nv    0   0   0   0/nv  255 255 255 255/g' \\\n",
      "          ~/code/eddy-geek/TIL/geo/data/gdaldem-slope-eslo13near.clr >! /tmp/gdaldem-slope-eslo13near.clr && \\\n",
      "      gdaldem color-relief ./slopes-z15.tif /tmp/gdaldem-slope-eslo13near.clr ./eslo13near-z15.mbtiles \\\n",
      "          -nearest_color_entry -co TILE_FORMAT=png8 \n",
      "0...10...20...30...40...50...60...70...80...90...100 - done.\n",
      "Step 2/3 completed in 7.7 seconds\n",
      "      gdalwarp -r q3 -tr 9.554628535647032 -9.554628535647032 \\\n",
      "        -co COMPRESS=ZSTD -co PREDICTOR=2 -co ZSTD_LEVEL=1 -co TILED=YES -co blockXsize=1024 -co blockYsize=1024 -co NUM_THREADS=ALL_CPUS -multi -wo NUM_THREADS=ALL_CPUS -co BIGTIFF=YES -overwrite   \\\n",
      "        ./slopes-z16.tif ./slopes-z15.tif\n",
      "Creating output file that is 4096P x 2048L.\n",
      "Processing ./slopes-z16.tif [1/1] : 0Using internal nodata values (e.g. 255) for image ./slopes-z16.tif.\n",
      "Copying nodata values from source ./slopes-z16.tif to destination ./slopes-z15.tif.\n",
      "...10...20...30...40...50...60...70...80...90...100 - done.\n",
      "      sed 's/nv    0   0   0   0/nv  255 255 255 255/g' \\\n",
      "          ~/code/eddy-geek/TIL/geo/data/gdaldem-slope-eslo4near.clr >! /tmp/gdaldem-slope-eslo4near.clr && \\\n",
      "      gdaldem color-relief ./slopes-z15.tif /tmp/gdaldem-slope-eslo4near.clr ./eslo4near-z14.mbtiles \\\n",
      "          -nearest_color_entry -co TILE_FORMAT=png8 \n",
      "0...10...20...30...40...50...60...70...80...90...100 - done.\n",
      "Step 3/3 completed in 3.5 seconds\n",
      "cp ./eslo13near-z16.mbtiles ./eslo.mbtiles\n",
      "<<>> ./eslo13near-z16 : zoom = 16 16 ; n = 2048 ; format = png ; bounds = 6.85546599999999984,45.8287965593051467,7.20702849999999984,45.9511469999999989\n",
      "<< ./eslo13near-z15 : zoom = 15 15 ; n = 512 ; format = png ; bounds = 6.85546599999999984,45.8287965593051467,7.20702849999999984,45.9511469999999989\n",
      ">> ./eslo : zoom = 15 16 ; n = 2560 ; format = png ; bounds = 6.85546599999999984,45.8287965593051467,7.20702849999999984,45.9511469999999989\n",
      "<< ./eslo4near-z14 : zoom = 14 14 ; n = 128 ; format = png ; bounds = 6.85546599999999984,45.8287965593051467,7.20702849999999984,45.9511469999999989\n",
      ">> ./eslo : zoom = 14 16 ; n = 2688 ; format = png ; bounds = 6.85546599999999984,45.8287965593051467,7.20702849999999984,45.9511469999999989\n",
      "./eslo Merge of the following files:\n",
      "* eslo13near-z16 : eslo13near-z16\n",
      "* eslo13near-z15 : eslo13near-z15\n",
      "* eslo4near-z14 : eslo4near-z14\n",
      "\n"
     ]
    }
   ],
   "source": [
    "make_overviews('./slopes-z16.tif') #, reuse=True)"
   ]
  },
  {
   "cell_type": "code",
   "execution_count": null,
   "metadata": {},
   "outputs": [
    {
     "data": {
      "text/plain": [
       "0"
      ]
     },
     "execution_count": 7,
     "metadata": {},
     "output_type": "execute_result"
    }
   ],
   "source": [
    "os.system('gpxsee eslo.mbtiles &')"
   ]
  },
  {
   "cell_type": "markdown",
   "metadata": {},
   "source": [
    "# Note on PNG8 in GDAL\n",
    "> at that time, such an 8-bit PNG formulation is **only used for fully opaque tiles** [...] even if PNG8 format would potentially allow color table with transparency.\n",
    "\n",
    "but actually, since we use blend-multiply, to make the data transparent-*like* we can just (weight-)average with 255\n",
    "\n",
    "\n",
    "eg for 60% transparency:\n",
    "```\n",
    "34.5     245 191   0 170\n",
    "44.5     220   0 245 170\n",
    "54.5      77  77  77 170\n",
    "```\n",
    "to\n",
    "```\n",
    "34.5     248 212 85 \n",
    "44.5     231 85 248 \n",
    "54.5     136 136 136\n",
    "```"
   ]
  },
  {
   "cell_type": "code",
   "execution_count": null,
   "metadata": {},
   "outputs": [
    {
     "name": "stdout",
     "output_type": "stream",
     "text": [
      "248 212 85 \n",
      "231 85 248 \n",
      "136 136 136 \n"
     ]
    }
   ],
   "source": [
    "for row in ((245, 191,   0),  (220,   0, 245),  (77,  77,  77)):\n",
    "    for i in row:\n",
    "        print ('%d ' % ((i*2+255)/3), end='')\n",
    "    print()"
   ]
  },
  {
   "cell_type": "markdown",
   "metadata": {},
   "source": [
    "# Make overviews, for real!"
   ]
  },
  {
   "cell_type": "code",
   "execution_count": 19,
   "metadata": {},
   "outputs": [
    {
     "name": "stdout",
     "output_type": "stream",
     "text": [
      "/home/me/code/eddy-geek/slope-ign-alti\n"
     ]
    }
   ],
   "source": [
    "%cd ../../data"
   ]
  },
  {
   "cell_type": "code",
   "execution_count": 25,
   "metadata": {},
   "outputs": [
    {
     "name": "stdout",
     "output_type": "stream",
     "text": [
      "Reuse ./eslo13near-z16.mbtiles\n",
      "Step 1/3 completed in 0.0 seconds\n",
      "Reuse alps/slopes-AlpsWz15.tif\n",
      "Reuse ./eslo13near-z15.mbtiles\n",
      "Step 2/3 completed in 0.0 seconds\n",
      "Reuse alps/slopes-AlpsWz15.tif\n",
      "Reuse ./eslo4near-z14.mbtiles\n",
      "Step 3/3 completed in 0.0 seconds\n",
      "cp ./eslo13near-z16.mbtiles alps/esloAlpsW.mbtiles\n",
      "<<>> ./eslo13near-z16 : zoom = 16 16 ; n = 294912 ; format = png ; bounds = 5.62500000000000089,43.5804016210360174,7.73431062698364258,46.558000000000014\n",
      "<< ./eslo13near-z15 : zoom = 15 15 ; n = 73728 ; format = png ; bounds = 5.62500000000000089,43.580417165137078,7.73433208465576261,46.558000000000014\n",
      ">> alps/esloAlpsW : zoom = 15 16 ; n = 368640 ; format = png ; bounds = 5.62500000000000089,43.5804016210360174,7.73433208465576261,46.558000000000014\n",
      "<< ./eslo4near-z14 : zoom = 14 14 ; n = 18432 ; format = png ; bounds = 5.62500000000000089,43.580417165137078,7.73428916931152433,46.558000000000014\n",
      ">> alps/esloAlpsW : zoom = 14 16 ; n = 387072 ; format = png ; bounds = 5.62500000000000089,43.5804016210360174,7.73433208465576261,46.558000000000014\n",
      "alps/esloAlpsW Merge of the following files:\n",
      "* eslo13near-z16 : eslo13near-z16\n",
      "* eslo13near-z15 : eslo13near-z15\n",
      "* eslo4near-z14 : eslo4near-z14\n",
      "\n"
     ]
    }
   ],
   "source": [
    "make_overviews('alps/slopes-AlpsW.tif', reuse=True)\n",
    "# time is 40 / 20 / 10 minutes for 16/15/14"
   ]
  },
  {
   "cell_type": "code",
   "execution_count": 26,
   "metadata": {},
   "outputs": [
    {
     "name": "stdout",
     "output_type": "stream",
     "text": [
      "<< alps/white9 : zoom = 9 9 ; n = 18 ; format = png ; bounds = 5.62499878087688998,43.5797725532024245,7.73437378087689087,46.3159946727953837\n",
      ">> alps/esloAlpsW : zoom = 9 16 ; n = 387090 ; format = png ; bounds = 5.62499878087688998,43.5797725532024245,7.73437378087689087,46.558000000000014\n",
      "alps/esloAlpsW Merge of the following files:\n",
      "* alps/esloAlpsW : Merge of the following files:\n",
      "* eslo13near-z16 : eslo13near-z16\n",
      "* eslo13near-z15 : eslo13near-z15\n",
      "* eslo4near-z14 : eslo4near-z14\n",
      "\n",
      "* white9 : white9\n",
      "\n"
     ]
    }
   ],
   "source": [
    "mbt_merge('alps/white9.mbtiles', dest='alps/esloAlpsW.mbtiles')"
   ]
  },
  {
   "cell_type": "code",
   "execution_count": 27,
   "metadata": {},
   "outputs": [
    {
     "data": {
      "text/plain": [
       "0"
      ]
     },
     "execution_count": 27,
     "metadata": {},
     "output_type": "execute_result"
    }
   ],
   "source": [
    "os.system('gpxsee alps/esloAlpsW.mbtiles &')"
   ]
  },
  {
   "cell_type": "code",
   "execution_count": 29,
   "metadata": {},
   "outputs": [
    {
     "name": "stdout",
     "output_type": "stream",
     "text": [
      "      sed 's/nv    0   0   0   0/nv  255 255 255 255/g' \\\n",
      "          ~/code/eddy-geek/TIL/geo/data/gdaldem-slope-eslo4near.clr >! /tmp/gdaldem-slope-eslo4near.clr && \\\n",
      "      gdaldem color-relief alps/slopes-AlpsWz13.tif /tmp/gdaldem-slope-eslo4near.clr ./eslo4near-z13.mbtiles \\\n",
      "          -nearest_color_entry -co TILE_FORMAT=png8 \n",
      "0...10...20...30...40...50...60...70...80...90...100 - done.\n"
     ]
    },
    {
     "data": {
      "text/plain": [
       "'./eslo4near-z13.mbtiles'"
      ]
     },
     "execution_count": 29,
     "metadata": {},
     "output_type": "execute_result"
    }
   ],
   "source": [
    "# make_ovr(src='alps/slopes-AlpsWz14.tif', z=13)\n",
    "slope_mbt('eslo4near', z=13, src='alps/slopes-AlpsWz13.tif')"
   ]
  },
  {
   "cell_type": "code",
   "execution_count": 31,
   "metadata": {},
   "outputs": [
    {
     "name": "stdout",
     "output_type": "stream",
     "text": [
      "      sed 's/nv    0   0   0   0/nv  255 255 255 255/g' \\\n",
      "          ~/code/eddy-geek/TIL/geo/data/gdaldem-slope-eslo4uv.clr >! /tmp/gdaldem-slope-eslo4uv.clr && \\\n",
      "      gdaldem color-relief alps/slopes-AlpsWz13.tif /tmp/gdaldem-slope-eslo4uv.clr ./eslo4uv-z13.mbtiles \\\n",
      "          -nearest_color_entry -co TILE_FORMAT=png8 \n",
      "0...10...20...30...40...50...60...70...80...90...100 - done.\n"
     ]
    },
    {
     "data": {
      "text/plain": [
       "'./eslo4uv-z13.mbtiles'"
      ]
     },
     "execution_count": 31,
     "metadata": {},
     "output_type": "execute_result"
    }
   ],
   "source": [
    "slope_mbt('eslo4uv', z=13, src='alps/slopes-AlpsWz13.tif')"
   ]
  },
  {
   "cell_type": "code",
   "execution_count": null,
   "metadata": {},
   "outputs": [],
   "source": [
    "make_ovr(src='alps/slopes-AlpsWz14.tif', z=12)\n",
    "slope_mbt('eslo4near', z=12, src='alps/slopes-AlpsWz13.tif')\n"
   ]
  },
  {
   "cell_type": "code",
   "execution_count": 30,
   "metadata": {},
   "outputs": [
    {
     "name": "stdout",
     "output_type": "stream",
     "text": [
      "<< eslo4near-z13 : zoom = 13 13 ; n = 4608 ; format = png ; bounds = 5.62500000000000089,43.580479341501217,7.73437500000000089,46.558000000000014\n",
      ">> alps/esloAlpsW : zoom = 9 16 ; n = 391698 ; format = png ; bounds = 5.62499878087688998,43.5797725532024245,7.73437500000000089,46.558000000000014\n",
      "alps/esloAlpsW Merge of the following files:\n",
      "* alps/esloAlpsW : Merge of the following files:\n",
      "* alps/esloAlpsW : Merge of the following files:\n",
      "* eslo13near-z16 : eslo13near-z16\n",
      "* eslo13near-z15 : eslo13near-z15\n",
      "* eslo4near-z14 : eslo4near-z14\n",
      "\n",
      "* white9 : white9\n",
      "\n",
      "* eslo4near-z13 : eslo4near-z13\n",
      "\n"
     ]
    }
   ],
   "source": [
    "mbt_merge('eslo4near-z13.mbtiles', dest='alps/esloAlpsW.mbtiles')"
   ]
  },
  {
   "cell_type": "code",
   "execution_count": null,
   "metadata": {},
   "outputs": [],
   "source": []
  }
 ],
 "metadata": {
  "interpreter": {
   "hash": "8a94588eda9d64d9e9a351ab8144e55b1fabf5113b54e67dd26a8c27df0381b3"
  },
  "kernelspec": {
   "display_name": "Python 3.10.0 64-bit",
   "language": "python",
   "name": "python3"
  },
  "language_info": {
   "codemirror_mode": {
    "name": "ipython",
    "version": 3
   },
   "file_extension": ".py",
   "mimetype": "text/x-python",
   "name": "python",
   "nbconvert_exporter": "python",
   "pygments_lexer": "ipython3",
   "version": "3.9.1"
  },
  "orig_nbformat": 4
 },
 "nbformat": 4,
 "nbformat_minor": 2
}
