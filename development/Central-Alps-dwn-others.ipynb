{
 "cells": [
  {
   "cell_type": "markdown",
   "metadata": {},
   "source": [
    "# Central Alps download: Tyrol, Lombardia"
   ]
  },
  {
   "cell_type": "code",
   "execution_count": 3,
   "metadata": {},
   "outputs": [
    {
     "name": "stdout",
     "output_type": "stream",
     "text": [
      "The autoreload extension is already loaded. To reload it, use:\n",
      "  %reload_ext autoreload\n"
     ]
    }
   ],
   "source": [
    "%load_ext autoreload\n",
    "%autoreload 2"
   ]
  },
  {
   "cell_type": "code",
   "execution_count": 13,
   "metadata": {},
   "outputs": [],
   "source": [
    "# Preamble\n",
    "\n",
    "import logging\n",
    "logging.basicConfig(level=logging.DEBUG)\n",
    "\n",
    "from dataclasses import astuple\n",
    "from urllib.request import urlretrieve\n",
    "import os\n",
    "import sys\n",
    "\n",
    "CURDIR = os.path.realpath(os.curdir)\n",
    "# sys.path.append(os.path.join(CURDIR, 'src'))\n",
    "from src.bbox import BBox\n",
    "from src.gdal_slope_util import check_run"
   ]
  },
  {
   "cell_type": "markdown",
   "metadata": {},
   "source": [
    "## Austria: Tyrol"
   ]
  },
  {
   "cell_type": "code",
   "execution_count": 2,
   "metadata": {},
   "outputs": [
    {
     "data": {
      "text/plain": [
       "('data/tyrol/DGM_Tirol_5m_epsg31254.zip',\n",
       " <http.client.HTTPMessage at 0x7fd11d0fe490>)"
      ]
     },
     "execution_count": 2,
     "metadata": {},
     "output_type": "execute_result"
    }
   ],
   "source": [
    "!mkdir data/tyrol\n",
    "!mkdir -p data/dtm_final\n",
    "url = 'https://gis.tirol.gv.at/ogd/geografie_planung/DGM/DGM_Tirol_5m_epsg31254.zip'\n",
    "urlretrieve(url, 'data/tyrol/DGM_Tirol_5m_epsg31254.zip')"
   ]
  },
  {
   "cell_type": "code",
   "execution_count": 4,
   "metadata": {},
   "outputs": [
    {
     "name": "stdout",
     "output_type": "stream",
     "text": [
      "Archive:  data/tyrol/DGM_Tirol_5m_epsg31254.zip\n",
      "  inflating: DGM_Tirol_5m_epsg31254_2006_2019.tif  \n"
     ]
    }
   ],
   "source": [
    "!unzip data/tyrol/DGM_Tirol_5m_epsg31254.zip -d data/dtm_final\n"
   ]
  },
  {
   "cell_type": "code",
   "execution_count": 8,
   "metadata": {},
   "outputs": [
    {
     "name": "stdout",
     "output_type": "stream",
     "text": [
      "Driver: GTiff/GeoTIFF\n",
      "Files: DGM_Tirol_5m_epsg31254_2006_2019.tif\n",
      "Size is 44724, 26001\n",
      "Coordinate System is:\n",
      "PROJCRS[\"MGI / Austria GK West\",\n",
      "Data axis to CRS axis mapping: 2,1\n",
      "Origin = (-18617.500000000000000,295002.500000000000000)\n",
      "Pixel Size = (5.000000000000000,-5.000000000000000)\n",
      "Metadata:\n",
      "  AREA_OR_POINT=Area\n",
      "  DataType=Generic\n",
      "Image Structure Metadata:\n",
      "  COMPRESSION=DEFLATE\n",
      "  INTERLEAVE=BAND\n",
      "Corner Coordinates:\n",
      "Upper Left  (  -18617.500,  295002.500) ( 10d 5' 5.32\"E, 47d47'38.06\"N)\n",
      "Lower Left  (  -18617.500,  164997.500) ( 10d 5'24.77\"E, 46d37'27.88\"N)\n",
      "Upper Right (  205002.500,  295002.500) ( 13d 4' 5.80\"E, 47d45'41.69\"N)\n",
      "Lower Right (  205002.500,  164997.500) ( 13d 0'32.03\"E, 46d35'36.15\"N)\n",
      "Center      (   93192.500,  230000.000) ( 11d33'48.48\"E, 47d12'10.26\"N)\n",
      "Band 1 Block=256x256 Type=Float32, ColorInterp=Gray\n",
      "  Min=460.346 Max=3796.002 \n",
      "  Minimum=460.346, Maximum=3796.002, Mean=1750.300, StdDev=652.179\n",
      "  NoData Value=3.39999995214436425e+38\n",
      "  Overviews: 14908x8667, 4970x2889, 1657x963, 553x321, 185x107, 62x36, 21x12, 7x4\n",
      "  Metadata:\n"
     ]
    }
   ],
   "source": [
    "!gdalinfo DGM_Tirol_5m_epsg31254_2006_2019.tif | grep -v '^    '"
   ]
  },
  {
   "cell_type": "markdown",
   "metadata": {},
   "source": [
    "## Italy: Lombardia\n",
    "\n",
    "Download from [geoportale.regione.lombardia.it](https://www.geoportale.regione.lombardia.it/download-pacchetti?p_p_id=dwnpackageportlet_WAR_gptdownloadportlet&p_p_lifecycle=0&p_p_state=normal&p_p_mode=view&_dwnpackageportlet_WAR_gptdownloadportlet_metadataid=%7BFC06681A-2403-481F-B6FE-5F952DD48BAF%7D)"
   ]
  },
  {
   "cell_type": "code",
   "execution_count": 4,
   "metadata": {},
   "outputs": [
    {
     "name": "stdout",
     "output_type": "stream",
     "text": [
      "/home/me/code/eddy-geek/eslope/development\n",
      "/home/me/code/eddy-geek/slope-ign-alti/lombardia/dwn\n"
     ]
    }
   ],
   "source": [
    "%cd $CURDIR\n",
    "!mkdir -p data/lombardia/dwn\n",
    "%cd data/lombardia/dwn"
   ]
  },
  {
   "cell_type": "code",
   "execution_count": 7,
   "metadata": {},
   "outputs": [],
   "source": [
    "LBURL = 'https://www.geoportale.regione.lombardia.it/rlregis_download/service/package?dbId={}&cod={}'\n",
    "targets  = []\n",
    "# Cities\n",
    "for dbid, cod, name in [\n",
    "            (313, 16, 'Bergamo'),\n",
    "            # (313, 19, 'Cremona'),\n",
    "            (313, 97, 'Lecco'  ),\n",
    "            # (313, 98, 'Lodi'   ),\n",
    "            # (313, 20, 'Mantova'),\n",
    "            # (313, 15, 'Milan'  ),\n",
    "            (313, 108, 'Monza' ),\n",
    "            # (313, 18, 'Pavia'  ),\n",
    "            (313, 14, 'Sondrio'),\n",
    "            (313, 12, 'Varese' )]:\n",
    "    target = f'lombardia_{name}_dtm.zip'\n",
    "    targets.append(target)\n",
    "    urlretrieve(LBURL.format(dbid, cod), target)\n",
    "\n",
    "# Mountains\n",
    "for zone in range(1, 24):\n",
    "    z = 'ZO' + str(zone).rjust(2, '0')\n",
    "    url = LBURL.format(321, z)\n",
    "    target = f'lombardia_{z}_dtm.zip'\n",
    "    targets.append(target)\n",
    "    urlretrieve(url, f'lombardia_{z}_dtm.zip')\n",
    "\n",
    "# ~ 3 minutes\n"
   ]
  },
  {
   "cell_type": "code",
   "execution_count": 10,
   "metadata": {},
   "outputs": [
    {
     "data": {
      "text/plain": [
       "['lombardia_Bergamo_dtm.zip',\n",
       " 'lombardia_Lecco_dtm.zip',\n",
       " 'lombardia_Monza_dtm.zip',\n",
       " 'lombardia_Sondrio_dtm.zip',\n",
       " 'lombardia_Varese_dtm.zip',\n",
       " 'lombardia_ZO01_dtm.zip',\n",
       " 'lombardia_ZO02_dtm.zip',\n",
       " 'lombardia_ZO03_dtm.zip',\n",
       " 'lombardia_ZO04_dtm.zip',\n",
       " 'lombardia_ZO05_dtm.zip',\n",
       " 'lombardia_ZO06_dtm.zip',\n",
       " 'lombardia_ZO07_dtm.zip',\n",
       " 'lombardia_ZO08_dtm.zip',\n",
       " 'lombardia_ZO09_dtm.zip',\n",
       " 'lombardia_ZO10_dtm.zip',\n",
       " 'lombardia_ZO11_dtm.zip',\n",
       " 'lombardia_ZO12_dtm.zip',\n",
       " 'lombardia_ZO13_dtm.zip',\n",
       " 'lombardia_ZO14_dtm.zip',\n",
       " 'lombardia_ZO15_dtm.zip',\n",
       " 'lombardia_ZO16_dtm.zip',\n",
       " 'lombardia_ZO17_dtm.zip',\n",
       " 'lombardia_ZO18_dtm.zip',\n",
       " 'lombardia_ZO19_dtm.zip',\n",
       " 'lombardia_ZO20_dtm.zip',\n",
       " 'lombardia_ZO21_dtm.zip',\n",
       " 'lombardia_ZO22_dtm.zip',\n",
       " 'lombardia_ZO23_dtm.zip']"
      ]
     },
     "execution_count": 10,
     "metadata": {},
     "output_type": "execute_result"
    }
   ],
   "source": [
    "targets"
   ]
  },
  {
   "cell_type": "code",
   "execution_count": 12,
   "metadata": {},
   "outputs": [
    {
     "name": "stdout",
     "output_type": "stream",
     "text": [
      "Driver: HFA/Erdas Imagine Images (.img)\n",
      "Files: /vsizip/lombardia_ZO06_dtm.zip/DTM5_CM_SEBINO BRESCIANO.IMG\n",
      "Size is 3659, 4994\n",
      "Coordinate System is:\n",
      "PROJCRS[\"WGS_1984_UTM_Zone_32N\",\n",
      "Data axis to CRS axis mapping: 1,2\n",
      "Origin = (575851.869400000199676,5076326.248099999502301)\n",
      "Pixel Size = (5.000000000000000,-5.000000000000000)\n",
      "Metadata:\n",
      "  DataType=Generic\n",
      "Corner Coordinates:\n",
      "Upper Left  (  575851.869, 5076326.248) (  9d58'36.17\"E, 45d50'10.77\"N)\n",
      "Lower Left  (  575851.869, 5051356.248) (  9d58'22.10\"E, 45d36'41.79\"N)\n",
      "Upper Right (  594146.869, 5076326.248) ( 10d12'44.08\"E, 45d50' 2.65\"N)\n",
      "Lower Right (  594146.869, 5051356.248) ( 10d12'26.62\"E, 45d36'33.73\"N)\n",
      "Center      (  584999.369, 5063841.248) ( 10d 5'32.23\"E, 45d43'22.46\"N)\n",
      "Band 1 Block=64x64 Type=Float32, ColorInterp=Undefined\n",
      "  Description = Layer_1\n",
      "  Min=181.640 Max=1950.000 \n",
      "  Minimum=181.640, Maximum=1950.000, Mean=615.285, StdDev=433.963\n",
      "  NoData Value=-3.4028234663852886e+38\n",
      "  Overviews: 1830x2497, 915x1249, 458x625, 229x313\n",
      "  Metadata:\n",
      "  Image Structure Metadata:\n",
      "\n"
     ]
    }
   ],
   "source": [
    "!CPL_ZIP_ENCODING=UTF-8 gdalinfo '/vsizip/lombardia_ZO06_dtm.zip/DTM5_CM_SEBINO BRESCIANO.IMG' |grep -v '^    '"
   ]
  },
  {
   "cell_type": "code",
   "execution_count": null,
   "metadata": {},
   "outputs": [],
   "source": []
  },
  {
   "cell_type": "code",
   "execution_count": null,
   "metadata": {},
   "outputs": [],
   "source": [
    "zfor f in DTM0508_002_000{001..914} ; do echo \"/vsizip/{aoste_dtm_zips/$f.zip}/$f.ASC\" >>! aoste_dtm_zips.txt ; done"
   ]
  }
 ],
 "metadata": {
  "interpreter": {
   "hash": "4913ed92adf4fb24dff325cddf3820899273b13e1364fac2e6040e861e7b0f0a"
  },
  "kernelspec": {
   "display_name": "Python 3.9.1 64-bit (conda)",
   "language": "python",
   "name": "python3"
  },
  "language_info": {
   "codemirror_mode": {
    "name": "ipython",
    "version": 3
   },
   "file_extension": ".py",
   "mimetype": "text/x-python",
   "name": "python",
   "nbconvert_exporter": "python",
   "pygments_lexer": "ipython3",
   "version": "3.9.1"
  },
  "orig_nbformat": 4
 },
 "nbformat": 4,
 "nbformat_minor": 2
}
