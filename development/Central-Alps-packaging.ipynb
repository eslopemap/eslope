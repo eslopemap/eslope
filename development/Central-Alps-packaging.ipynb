{
 "cells": [
  {
   "attachments": {},
   "cell_type": "markdown",
   "metadata": {},
   "source": [
    "# Central Alps packaging\n",
    "\n",
    "\"Package\" the result of Central-Alps-merge.ipynb into 3 sub-2GB files, with a z9 white layer."
   ]
  },
  {
   "cell_type": "code",
   "execution_count": 1,
   "metadata": {},
   "outputs": [],
   "source": [
    "%load_ext autoreload\n",
    "%autoreload 2\n",
    "\n",
    "import os\n",
    "NBROOT = os.path.realpath(os.curdir)"
   ]
  },
  {
   "cell_type": "code",
   "execution_count": 44,
   "metadata": {},
   "outputs": [],
   "source": [
    "# Preamble\n",
    "import logging\n",
    "logging.basicConfig(level=logging.DEBUG)\n",
    "logging.getLogger('PIL').level = logging.INFO # PIL.PngImagePlugin\n",
    "\n",
    "import os\n",
    "from os.path import exists, join as pjoin, realpath\n",
    "from pathlib import Path\n",
    "\n",
    "from subprocess import check_call, CalledProcessError\n",
    "\n",
    "try:\n",
    "    # like os.system but with live output\n",
    "    from IPython.utils.process import system\n",
    "    def check_run(cmd):  # type:ignore\n",
    "        r = system(cmd)\n",
    "        if r: raise CalledProcessError(r, cmd)\n",
    "        return r\n",
    "except ImportError:\n",
    "    from os import system\n",
    "    def check_run(cmd):\n",
    "        return check_call(cmd, shell=True)\n",
    "\n",
    "from IPython.display import Image as IImage\n",
    "import mercantile as T\n",
    "\n",
    "from src import bbox, gdal_slope_util as S, mbt_util as M, eslope_geo as GY\n",
    "\n",
    "import sys\n",
    "sys.path.insert(0, os.path.realpath('../../etopo/src'))\n",
    "import img_util as G"
   ]
  },
  {
   "cell_type": "code",
   "execution_count": 47,
   "metadata": {},
   "outputs": [],
   "source": [
    "mbtfold = '../../mapdata/mbtiles/eslo/'\n",
    "mbtc = '../../slope-ign-alti/alpsc/esloAlpsC.mbtiles'\n",
    "# mbtwc = '../../slope-ign-alti/alpsc/AlpsWC_eslo.mbtiles'\n",
    "\n",
    "names = GY.bbsalp_names\n",
    "paths = {i: name + '.mbtiles' for i, name in names.items()}\n",
    "abspaths = {i: mbtfold + p for i, p in paths.items()}\n",
    "\n",
    "mbtc7 = abspaths[7]\n",
    "mbtc8 = abspaths[7]\n",
    "mbtc12= abspaths[12]\n",
    "# mbtc7 = mbtfold + 'esloAlpsC7.mbtiles'\n",
    "# mbtc8 = mbtfold + 'esloAlpsC8.mbtiles'\n",
    "# mbtc12 = mbtfold + 'esloAlpsC12.mbtiles'"
   ]
  },
  {
   "cell_type": "code",
   "execution_count": 43,
   "metadata": {},
   "outputs": [
    {
     "data": {
      "image/svg+xml": "<svg xmlns=\"http://www.w3.org/2000/svg\" xmlns:xlink=\"http://www.w3.org/1999/xlink\" width=\"100.0\" height=\"100.0\" viewBox=\"5.3718748 43.707664799999996 6.8343804 4.062660400000006\" preserveAspectRatio=\"xMinYMin meet\"><g transform=\"matrix(1,0,0,-1,0,91.47799)\"><g><path fill-rule=\"evenodd\" fill=\"#66cc99\" stroke=\"#555555\" stroke-width=\"0.136687608\" opacity=\"0.6\" d=\"M 5.625,46.55886 L 5.625,43.960789999999996 L 7.73437,43.960789999999996 L 7.73437,46.55886 L 5.625,46.55886 z\" /><path fill-rule=\"evenodd\" fill=\"#66cc99\" stroke=\"#555555\" stroke-width=\"0.136687608\" opacity=\"0.6\" d=\"M 7.73437,47.5172 L 7.73437,45.58329 L 9.14062,45.58329 L 9.14062,47.5172 L 7.73437,47.5172 z\" /><path fill-rule=\"evenodd\" fill=\"#66cc99\" stroke=\"#555555\" stroke-width=\"0.136687608\" opacity=\"0.6\" d=\"M 9.14062,47.5172 L 9.14062,45.58329 L 10.54688,45.58329 L 10.54688,47.5172 L 9.14062,47.5172 z\" /><path fill-rule=\"evenodd\" fill=\"#66cc99\" stroke=\"#555555\" stroke-width=\"0.136687608\" opacity=\"0.6\" d=\"M 10.54688,47.5172 L 10.54688,45.58329 L 11.95313,45.58329 L 11.95313,47.5172 L 10.54688,47.5172 z\" /></g></g></svg>",
      "text/plain": [
       "<shapely.geometry.collection.GeometryCollection at 0x7fe373677970>"
      ]
     },
     "execution_count": 43,
     "metadata": {},
     "output_type": "execute_result"
    }
   ],
   "source": [
    "GY.extents2geojson('./data/eslope_alps_extents.geojson', GY.bbsalp, GY.bbsalp_names)\n",
    "# GY.MultiPolygon(map(GY.bb2poly, list(GY.bbsalp.values())[:-1]))\n",
    "GY.GeometryCollection([GY.bb2poly(GY.bbsalp[k]) for k in GY.bbsalp if isinstance(k, int)])"
   ]
  },
  {
   "cell_type": "code",
   "execution_count": 4,
   "metadata": {},
   "outputs": [
    {
     "name": "stdout",
     "output_type": "stream",
     "text": [
      "real bounds  9 [5.63, 43.58, 7.73, 46.56] 264 325 266 330\n",
      "real bounds  13 [5.63, 43.58, 11.95, 47.52] 4224 5200 4367 5327\n",
      "real bounds  14 [5.63, 43.58, 11.95, 47.52] 8448 10400 8735 10655\n",
      "real bounds  15 [5.63, 43.58, 11.95, 47.52] 16896 20800 17471 21311\n",
      "real bounds  16 [5.63, 43.58, 11.95, 47.52] 33792 41600 34943 42623\n",
      "real bounds  12 [7.65, 45.52, 11.95, 47.52] 2135 2631 2183 2663\n",
      "real bounds  13 [7.69, 45.55, 11.95, 47.52] 4271 5263 4367 5327\n",
      "real bounds  14 [7.71, 45.57, 11.95, 47.52] 8543 10527 8735 10655\n",
      "real bounds  15 [7.72, 45.58, 11.95, 47.52] 17087 21055 17471 21311\n",
      "real bounds  16 [7.73, 45.58, 11.95, 47.52] 34175 42111 34943 42623\n"
     ]
    },
    {
     "data": {
      "text/plain": [
       "((9,\n",
       "  16,\n",
       "  LngLatBbox(west=5.625000000000014, south=43.580390855607845, east=11.953125000000016, north=47.51720069783939)),\n",
       " (12,\n",
       "  16,\n",
       "  LngLatBbox(west=7.646484374999992, south=45.52174389699363, east=11.953125000000016, north=47.51720069783939)))"
      ]
     },
     "execution_count": 4,
     "metadata": {},
     "output_type": "execute_result"
    }
   ],
   "source": [
    "M.real_bounds('../../slope-ign-alti/alpsc/AlpsWC_eslo.mbtiles', log=print),\\\n",
    "M.real_bounds('../../slope-ign-alti/alpsc/esloAlpsC.mbtiles', log=print)\n"
   ]
  },
  {
   "cell_type": "code",
   "execution_count": 5,
   "metadata": {},
   "outputs": [
    {
     "data": {
      "text/plain": [
       "LngLatBbox(west=7.646484374999992, south=45.52174389699363, east=11.953125000000016, north=47.51720069783939)"
      ]
     },
     "execution_count": 5,
     "metadata": {},
     "output_type": "execute_result"
    }
   ],
   "source": [
    "_, _, bbc = M.real_bounds(mbtc)\n",
    "bbc  # this is inflated because of rounding errors during gdal generation"
   ]
  },
  {
   "cell_type": "code",
   "execution_count": 6,
   "metadata": {},
   "outputs": [
    {
     "data": {
      "text/plain": [
       "(267, 329, 272, 332)"
      ]
     },
     "execution_count": 6,
     "metadata": {},
     "output_type": "execute_result"
    }
   ],
   "source": [
    "bbc = GY.bbsalp['AlpsC']  # expected\n",
    "z, x1, y1 = M.lnglat2tms(9, lng=bbc.west+.01, lat=bbc.south)\n",
    "z, x2, y2 = M.lnglat2tms(9, lng=bbc.east-.01, lat=bbc.north)\n",
    "x1, y1, x2, y2"
   ]
  },
  {
   "cell_type": "code",
   "execution_count": 14,
   "metadata": {},
   "outputs": [
    {
     "data": {
      "text/plain": [
       "(32, Tile(x=266, y=179, z=9), Tile(x=273, y=182, z=9))"
      ]
     },
     "execution_count": 14,
     "metadata": {},
     "output_type": "execute_result"
    }
   ],
   "source": [
    "tiles_xyz = list(T.tiles(*GY.bbsalp['AlpsC'], [9]))\n",
    "len(tiles_xyz), tiles_xyz[0], tiles_xyz[-1]  # note inverted Y compared to the above\n"
   ]
  },
  {
   "cell_type": "code",
   "execution_count": 15,
   "metadata": {},
   "outputs": [
    {
     "data": {
      "text/plain": [
       "(24, Tile(x=267, y=179, z=9), Tile(x=272, y=182, z=9))"
      ]
     },
     "execution_count": 15,
     "metadata": {},
     "output_type": "execute_result"
    }
   ],
   "source": [
    "# tiles_xyz = list(T.tiles(*GY.bbsalp['CAlps'], [9]))\n",
    "tiles_xyz = list(T.tiles(*bbox.enlarge(GY.bbsalp['AlpsC'], -0.01), [9]))\n",
    "len(tiles_xyz), tiles_xyz[0], tiles_xyz[-1]  # note inverted Y compared to the above\n"
   ]
  },
  {
   "cell_type": "code",
   "execution_count": 10,
   "metadata": {},
   "outputs": [],
   "source": [
    "import io\n",
    "from PIL import Image as Img\n",
    "size = 256\n",
    "img = Img.new('P', (size, size), color='white')\n",
    "output = io.BytesIO()\n",
    "img.save(output, 'PNG')\n",
    "white_png = output.getvalue()"
   ]
  },
  {
   "cell_type": "code",
   "execution_count": 11,
   "metadata": {},
   "outputs": [
    {
     "data": {
      "text/plain": [
       "'zoom = 9 9 ; n = 24 * 1 kb/tile ; bounds = 7.73437,45.58329,11.95312,47.5172 ; center = 9.84375,46.55025,9'"
      ]
     },
     "execution_count": 11,
     "metadata": {},
     "output_type": "execute_result"
    }
   ],
   "source": [
    "mbtwhite = mbtfold + 'AlpsC_white.mbtiles'\n",
    "! rm $mbtwhite\n",
    "with M.cursor(mbtwhite, create=True) as dbc:\n",
    "    M.create_mbt(dbc)\n",
    "    for x, y, z in tiles_xyz:\n",
    "        y = (1 << z) - y - 1\n",
    "        M.insert_tiles(dbc, [(z, x, y, white_png)])\n",
    "\n",
    "    M.set_real_bounds(dbc)\n",
    "\n",
    "M.mbt_info(mbtwhite)"
   ]
  },
  {
   "cell_type": "code",
   "execution_count": 12,
   "metadata": {},
   "outputs": [
    {
     "data": {
      "text/plain": [
       "LngLatBbox(west=7.73437, south=45.58329, east=11.95313, north=47.5172)"
      ]
     },
     "execution_count": 12,
     "metadata": {},
     "output_type": "execute_result"
    }
   ],
   "source": [
    "bbc"
   ]
  },
  {
   "cell_type": "code",
   "execution_count": 21,
   "metadata": {},
   "outputs": [
    {
     "name": "stdout",
     "output_type": "stream",
     "text": [
      "<< ../../mapdata/mbtiles/eslo/AlpsC_white : zoom = 9 9 ; n = 24 * 1 kb/tile ; bounds = 7.73437,45.58329,11.95312,47.5172 ; center = 9.84375,46.55025,9\n",
      ">> ../../slope-ign-alti/alpsc/esloAlpsC : zoom = 9 16 ; n = 526285 ; name = alpsc/AlpsC_eslo ; format = png ; bounds = 7.73399999999999999,45.5829616352129463,11.9530933227539062,47.5169999999999959\n",
      "Meta update {'bounds': '7.64648,45.52174,11.95313,47.5172',\n",
      " 'center': '9.79980,46.51947,9',\n",
      " 'maxzoom': 16,\n",
      " 'minzoom': 9,\n",
      " 'type': 'baselayer'}\n"
     ]
    }
   ],
   "source": [
    "M.mbt_merge(mbtwhite, dest=mbtc)"
   ]
  },
  {
   "cell_type": "code",
   "execution_count": 22,
   "metadata": {},
   "outputs": [
    {
     "name": "stdout",
     "output_type": "stream",
     "text": [
      "<<>> ../../slope-ign-alti/alpsc/esloAlpsC : zoom = 9 16 ; n = 526285 * 10 kb/tile ; bounds = 7.64648,45.52174,11.95313,47.5172 ; center = 9.79980,46.51947,9 ; format = png ; name = alpsc/AlpsC_eslo\n",
      "z 10 : removed 0\n",
      "z 11 : removed 0\n",
      "z 12 : removed 1617\n",
      "Meta update {'bounds': '7.69043,45.55253,11.95313,47.5172',\n",
      " 'center': '9.82178,46.53486,9',\n",
      " 'maxzoom': 16,\n",
      " 'minzoom': 9,\n",
      " 'type': 'baselayer'}\n"
     ]
    }
   ],
   "source": [
    "M.remove_lnglat(mbtc, zmin=10, zmax=12, overwrite=True)"
   ]
  },
  {
   "cell_type": "code",
   "execution_count": 26,
   "metadata": {},
   "outputs": [
    {
     "name": "stdout",
     "output_type": "stream",
     "text": [
      "QSocketNotifier: Can only be used with threads started with QThread\n"
     ]
    }
   ],
   "source": [
    "!gpxsee $mbtc7"
   ]
  },
  {
   "cell_type": "code",
   "execution_count": 24,
   "metadata": {},
   "outputs": [
    {
     "name": "stdout",
     "output_type": "stream",
     "text": [
      "zoom = 9 16 ; n = 524668 * 10 kb/tile ; bounds = 7.69043,45.55253,11.95313,47.5172 ; center = 9.82178,46.53486,9 ; format = png ; name = alpsc/AlpsC_eslo\n",
      "cut_to_lnglat ../../slope-ign-alti/alpsc/esloAlpsC.mbtiles -> ../../mapdata/mbtiles/eslo/esloAlpsC7.mbtiles\n",
      "9 16 16\n",
      "z 9: +8 tiles: 267<x<268 329<y<332\n",
      "z10: no tiles, skipping\n",
      "z11: no tiles, skipping\n",
      "z12: no tiles, skipping\n",
      "z 13: +2048 tiles: 4272<x<4303 5264<y<5327\n",
      "z 14: +8192 tiles: 8544<x<8607 10528<y<10655\n",
      "z 15: +32768 tiles: 17088<x<17215 21056<y<21311\n",
      "z 16: +131072 tiles: 34176<x<34431 42112<y<42623\n",
      "Meta update {'bounds': '7.73437,45.58329,9.14063,47.5172',\n",
      " 'center': '8.43750,46.55025,9',\n",
      " 'maxzoom': 16,\n",
      " 'minzoom': 9,\n",
      " 'type': 'baselayer'}\n"
     ]
    }
   ],
   "source": [
    "M.cut_to_lnglat(mbtc, bb=GY.bbsalp[7], dest=mbtc7)"
   ]
  },
  {
   "cell_type": "code",
   "execution_count": 27,
   "metadata": {},
   "outputs": [
    {
     "name": "stdout",
     "output_type": "stream",
     "text": [
      "real bounds  9 [7.73, 45.58, 9.14, 47.52] 267 329 268 332\n",
      "real bounds  13 [7.73, 45.58, 9.14, 47.52] 4272 5264 4303 5327\n",
      "real bounds  14 [7.73, 45.58, 9.14, 47.52] 8544 10528 8607 10655\n",
      "real bounds  15 [7.73, 45.58, 9.14, 47.52] 17088 21056 17215 21311\n",
      "real bounds  16 [7.73, 45.58, 9.14, 47.52] 34176 42112 34431 42623\n"
     ]
    },
    {
     "data": {
      "text/plain": [
       "(9,\n",
       " 16,\n",
       " LngLatBbox(west=7.734374999999989, south=45.58328975600631, east=9.140625000000004, north=47.51720069783939))"
      ]
     },
     "execution_count": 27,
     "metadata": {},
     "output_type": "execute_result"
    }
   ],
   "source": [
    "M.real_bounds(mbtc7, log=print)"
   ]
  },
  {
   "cell_type": "code",
   "execution_count": 31,
   "metadata": {},
   "outputs": [
    {
     "name": "stdout",
     "output_type": "stream",
     "text": [
      "zoom = 9 16 ; n = 524668 * 10 kb/tile ; bounds = 7.73437,45.58329,9.14063,47.5172 ; center = 8.43750,46.55025,9 ; format = png ; name = alpsc/AlpsC_eslo\n",
      "cut_to_lnglat ../../slope-ign-alti/alpsc/esloAlpsC.mbtiles -> ../../mapdata/mbtiles/eslo/esloAlpsC8.mbtiles\n",
      "9 16 16\n",
      "z 9: +8 tiles: 269<x<270 329<y<332\n",
      "z10: no tiles, skipping\n",
      "z11: no tiles, skipping\n",
      "z12: no tiles, skipping\n",
      "z 13: +2048 tiles: 4304<x<4335 5264<y<5327\n",
      "z 14: +8192 tiles: 8608<x<8671 10528<y<10655\n",
      "z 15: +32768 tiles: 17216<x<17343 21056<y<21311\n",
      "z 16: +131072 tiles: 34432<x<34687 42112<y<42623\n",
      "Meta update {'bounds': '9.14062,45.58329,10.54688,47.5172',\n",
      " 'center': '9.84375,46.55025,9',\n",
      " 'maxzoom': 16,\n",
      " 'minzoom': 9,\n",
      " 'type': 'baselayer'}\n"
     ]
    }
   ],
   "source": [
    "M.cut_to_lnglat(mbtc, bb=GY.bbsalp[8], dest=mbtc8)"
   ]
  },
  {
   "cell_type": "code",
   "execution_count": 33,
   "metadata": {},
   "outputs": [
    {
     "name": "stdout",
     "output_type": "stream",
     "text": [
      "zoom = 9 16 ; n = 524668 * 10 kb/tile ; bounds = 9.14062,45.58329,10.54688,47.5172 ; center = 9.84375,46.55025,9 ; format = png ; name = alpsc/AlpsC_eslo\n",
      "cut_to_lnglat ../../slope-ign-alti/alpsc/esloAlpsC.mbtiles -> ../../mapdata/mbtiles/eslo/esloAlpsC12.mbtiles\n",
      "9 16 16\n",
      "z 9: +8 tiles: 271<x<272 329<y<332\n",
      "z10: no tiles, skipping\n",
      "z11: no tiles, skipping\n",
      "z12: no tiles, skipping\n",
      "z 13: +2048 tiles: 4336<x<4367 5264<y<5327\n",
      "z 14: +8192 tiles: 8672<x<8735 10528<y<10655\n",
      "z 15: +32768 tiles: 17344<x<17471 21056<y<21311\n",
      "z 16: +131072 tiles: 34688<x<34943 42112<y<42623\n",
      "Meta update {'bounds': '10.54688,45.58329,11.95313,47.5172',\n",
      " 'center': '11.25000,46.55025,9',\n",
      " 'maxzoom': 16,\n",
      " 'minzoom': 9,\n",
      " 'type': 'baselayer'}\n"
     ]
    }
   ],
   "source": [
    "M.cut_to_lnglat(mbtc, bb=GY.bbsalp[12], dest=mbtc12)"
   ]
  },
  {
   "cell_type": "code",
   "execution_count": 45,
   "metadata": {},
   "outputs": [],
   "source": []
  },
  {
   "cell_type": "code",
   "execution_count": 50,
   "metadata": {},
   "outputs": [
    {
     "name": "stdout",
     "output_type": "stream",
     "text": [
      "1 d: Enhanced slope maps, esloAlps1-Annot-Lausanne-Zermatt area.\n",
      "Documentation: <a href=\"https://github.com/eslopemap/eslope\">eSlope</a> \n",
      "a: © <a href=\"https://github.com/eslopemap/eslope\">eSlope</a>\n",
      "\n",
      "7 d: Enhanced slope maps, esloAlps7-Como-Zermatt-Zurich area.\n",
      "Documentation: <a href=\"https://github.com/eslopemap/eslope\">eSlope</a> \n",
      "a: © <a href=\"https://github.com/eslopemap/eslope\">eSlope</a>\n",
      "\n",
      "8 d: Enhanced slope maps, esloAlps8-Lombardia-Grisons-Vorarlberg area.\n",
      "Documentation: <a href=\"https://github.com/eslopemap/eslope\">eSlope</a> \n",
      "a: © <a href=\"https://github.com/eslopemap/eslope\">eSlope</a>\n",
      "\n",
      "12 d: Enhanced slope maps, esloAlps12-Tirol-Arco-Innsbruck-Bruneck-Marmolada area.\n",
      "Documentation: <a href=\"https://github.com/eslopemap/eslope\">eSlope</a> \n",
      "a: © <a href=\"https://github.com/eslopemap/eslope\">eSlope</a>\n",
      "\n"
     ]
    }
   ],
   "source": [
    "for i in names:\n",
    "# for i, mbt in paths.items():\n",
    "    mbt = abspaths[i]\n",
    "    name = names[i]\n",
    "    # if not os.path.exists(mbt):\n",
    "    #     continue\n",
    "    web = '<a href=\"https://github.com/eslopemap/eslope\">eSlope</a>'\n",
    "    desc = f'Enhanced slope maps, {name} area.\\nDocumentation: {web}'\n",
    "    M.update_mbt_meta(mbt, name=name, desc=desc, attrib='© ' + web)\n",
    "    print(i, 'd:', M.get_meta(mbt)['description'], '\\na:', M.get_meta(mbt).get('attribution'))\n",
    "    print()"
   ]
  },
  {
   "cell_type": "code",
   "execution_count": null,
   "metadata": {},
   "outputs": [],
   "source": [
    "for i, p in abspaths.items():\n",
    "    system('gh release delete-asset -y 202301 ' + paths[i])\n",
    "    system('gh release upload 202301 ' + p)"
   ]
  }
 ],
 "metadata": {
  "kernelspec": {
   "display_name": "Python 3",
   "language": "python",
   "name": "python3"
  },
  "language_info": {
   "codemirror_mode": {
    "name": "ipython",
    "version": 3
   },
   "file_extension": ".py",
   "mimetype": "text/x-python",
   "name": "python",
   "nbconvert_exporter": "python",
   "pygments_lexer": "ipython3",
   "version": "3.10.2"
  },
  "orig_nbformat": 4,
  "vscode": {
   "interpreter": {
    "hash": "4913ed92adf4fb24dff325cddf3820899273b13e1364fac2e6040e861e7b0f0a"
   }
  }
 },
 "nbformat": 4,
 "nbformat_minor": 2
}
