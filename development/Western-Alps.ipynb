{
 "cells": [
  {
   "cell_type": "code",
   "execution_count": null,
   "metadata": {},
   "outputs": [],
   "source": [
    "%load_ext autoreload\n",
    "%autoreload 2\n",
    "\n",
    "import os\n",
    "NBROOT = os.path.realpath(os.curdir)"
   ]
  },
  {
   "cell_type": "code",
   "execution_count": null,
   "metadata": {},
   "outputs": [],
   "source": [
    "# Preamble\n",
    "import logging\n",
    "logging.basicConfig(level=logging.DEBUG)\n",
    "\n",
    "import os\n",
    "from os.path import exists, join as pjoin, realpath\n",
    "from pathlib import Path\n",
    "\n",
    "from src import bbox, gdal_slope_util as S, mbt_util as M"
   ]
  },
  {
   "cell_type": "markdown",
   "metadata": {},
   "source": [
    "# ! See also src/merge_dem_fr_it.sh $\n",
    "\n",
    "##Setup\n",
    "This should probably go to another file, to include with `%run Setup.ipynb`"
   ]
  },
  {
   "cell_type": "markdown",
   "metadata": {},
   "source": [
    "# France"
   ]
  },
  {
   "cell_type": "code",
   "execution_count": null,
   "metadata": {},
   "outputs": [],
   "source": [
    "%%bash\n",
    "\n",
    "cd $download\n",
    "!wget -i ign-rge-alti-5m-urls.txt\n",
    "!wget --wait=20 --random-wait --no-http-keep-alive --limit-rate=300k -nc -i piemonte-alpi-dtm5-urls.txt\n",
    "!wget --wait=20 --random-wait --no-http-keep-alive --limit-rate=300k -nc -i aosta-dtm0508-urls.txt\n",
    "\n",
    "for f in RGE*29.7z; do 7z x $f; done\n",
    "cd $workdir"
   ]
  },
  {
   "cell_type": "code",
   "execution_count": null,
   "metadata": {},
   "outputs": [],
   "source": [
    "!gdalbuildvrt -a_srs EPSG:2154 -srcnodata -99999 -vrtnodata -99999 ignalps_dem.vrt \\\n",
    "  $download/RGEALTI_2-0_5M_ASC_LAMB93-IGN69_*/RGEALTI/1_DONNEES_LIVRAISON_*/RGEALTI_MNT_5M_ASC_LAMB93_IGN69_*/RGEALTI_FXX_*\n",
    "!time gdaldem slope $=g_zstd $=g_tile ignalps_dem.vrt ignalps-lamb-slope.tif\n",
    "!time gdaldem color-relief $=g_zstd $=g_tile -alpha ignalps-lamb-slope.tif data/gdaldem-slope-oslo.clr ignalps-lamb-oslo.tif"
   ]
  },
  {
   "cell_type": "code",
   "execution_count": null,
   "metadata": {},
   "outputs": [],
   "source": [
    "ln -s $download aoste_dtm_zips\n",
    "rm -f aoste_dtm_zips.txt ; touch aoste_dtm_zips.txt ; for f in DTM0508_002_000{001..914} ; do echo \"/vsizip/{aoste_dtm_zips/$f.zip}/$f.ASC\" >> aoste_dtm_zips.txt ; done\n",
    "\n",
    "gdalbuildvrt -a_srs EPSG:23032 -srcnodata -9999 -vrtnodata -9999 aoste-dem.vrt -input_file_list aoste_dtm_zips.txt\n",
    "time gdaldem slope $=g_zstd aoste-dem.vrt aoste-utm32n-slope.tif\n",
    "time gdaldem color-relief $=g_zstd -alpha aoste-utm32n-slope.tif gdaldem-slope-oslo.clr aoste-utm32n-oslo.tif"
   ]
  },
  {
   "cell_type": "markdown",
   "metadata": {},
   "source": [
    "# Switzerland\n",
    "\n",
    "This skips the selection of tiles to download. For a more reproducible download, check [Central-Alps.ipynb](./Central-Alps.ipynb)"
   ]
  },
  {
   "cell_type": "code",
   "execution_count": null,
   "metadata": {},
   "outputs": [],
   "source": [
    "mkdir ch_downloads\n",
    "cd ch_downloads\n",
    "wget --no-http-keep-alive -nc -i ../ch.swisstopo.swissalti3d-valais-w2550-e2623-s1075-n1130.csv\n",
    "cat ../ch.swisstopo.swissalti3d-z9valais-w2484-e2623-s1075-n1157.csv | rev | cut -d / -f1 | rev > _vrt_input.txt\n",
    "gdalbuildvrt -input_file_list _vrt_input.txt z9valais-dem.vrt\n",
    "cd ..\n",
    "time gdaldem slope $=g_zstd ch_downloads/z9valais-dem.vrt valais-lv95-slope.tif"
   ]
  },
  {
   "cell_type": "code",
   "execution_count": null,
   "metadata": {},
   "outputs": [],
   "source": []
  },
  {
   "cell_type": "code",
   "execution_count": null,
   "metadata": {},
   "outputs": [],
   "source": [
    "resolution=2.388657133911758\n",
    "extent='5.6250 43.5804 7.7343 46.558'\n",
    "time gdalwarp $=g_tile \\\n",
    "  -co bigtiff=yes -co compress=zstd -co zstd_level=1 -co sparse_ok=true \\\n",
    "  -dstnodata 255 \\\n",
    "  -t_srs EPSG:3857 -tr $=resolution -$=resolution \\\n",
    "  -te_srs WGS84 -te $=extent \\\n",
    "  fr/ignalps-lamb-slope.tif it/piemont-utm32n-slope.tif aoste/aoste-utm32n-slope.tif \\\n",
    "  alex/ignalex-lamb-slope.tif ch/valais-lv95-slope.tif \\\n",
    "  alps/slopes-Lausanne-Jouques-Sanremo-Zermatt.tif"
   ]
  },
  {
   "cell_type": "code",
   "execution_count": null,
   "metadata": {},
   "outputs": [],
   "source": []
  },
  {
   "cell_type": "code",
   "execution_count": null,
   "metadata": {},
   "outputs": [],
   "source": []
  },
  {
   "cell_type": "markdown",
   "metadata": {},
   "source": [
    "# Make overviews, for real!"
   ]
  },
  {
   "cell_type": "code",
   "execution_count": null,
   "metadata": {},
   "outputs": [
    {
     "name": "stdout",
     "output_type": "stream",
     "text": [
      "/home/eoubrayrie/code/eddy-geek/slope-ign-alti\n"
     ]
    }
   ],
   "source": [
    "%cd ../../data"
   ]
  },
  {
   "cell_type": "code",
   "execution_count": null,
   "metadata": {},
   "outputs": [
    {
     "name": "stdout",
     "output_type": "stream",
     "text": [
      "Reuse ./eslo13near-z16.mbtiles\n",
      "Step 1/3 completed in 0.0 seconds\n",
      "Reuse alps/slopes-AlpsWz15.tif\n",
      "Reuse ./eslo13near-z15.mbtiles\n",
      "Step 2/3 completed in 0.0 seconds\n",
      "Reuse alps/slopes-AlpsWz15.tif\n",
      "Reuse ./eslo4near-z14.mbtiles\n",
      "Step 3/3 completed in 0.0 seconds\n",
      "cp ./eslo13near-z16.mbtiles alps/esloAlpsW.mbtiles\n",
      "<<>> ./eslo13near-z16 : zoom = 16 16 ; n = 294912 ; format = png ; bounds = 5.62500000000000089,43.5804016210360174,7.73431062698364258,46.558000000000014\n",
      "<< ./eslo13near-z15 : zoom = 15 15 ; n = 73728 ; format = png ; bounds = 5.62500000000000089,43.580417165137078,7.73433208465576261,46.558000000000014\n",
      ">> alps/esloAlpsW : zoom = 15 16 ; n = 368640 ; format = png ; bounds = 5.62500000000000089,43.5804016210360174,7.73433208465576261,46.558000000000014\n",
      "<< ./eslo4near-z14 : zoom = 14 14 ; n = 18432 ; format = png ; bounds = 5.62500000000000089,43.580417165137078,7.73428916931152433,46.558000000000014\n",
      ">> alps/esloAlpsW : zoom = 14 16 ; n = 387072 ; format = png ; bounds = 5.62500000000000089,43.5804016210360174,7.73433208465576261,46.558000000000014\n",
      "alps/esloAlpsW Merge of the following files:\n",
      "* eslo13near-z16 : eslo13near-z16\n",
      "* eslo13near-z15 : eslo13near-z15\n",
      "* eslo4near-z14 : eslo4near-z14\n",
      "\n"
     ]
    }
   ],
   "source": [
    "S.make_overviews('alps/slopes-AlpsW.tif', reuse=True)\n",
    "# time is 40 / 20 / 10 minutes for 16/15/14"
   ]
  },
  {
   "cell_type": "code",
   "execution_count": null,
   "metadata": {},
   "outputs": [
    {
     "name": "stdout",
     "output_type": "stream",
     "text": [
      "<< alps/white9 : zoom = 9 9 ; n = 18 ; format = png ; bounds = 5.62499878087688998,43.5797725532024245,7.73437378087689087,46.3159946727953837\n",
      ">> alps/esloAlpsW : zoom = 9 16 ; n = 387090 ; format = png ; bounds = 5.62499878087688998,43.5797725532024245,7.73437378087689087,46.558000000000014\n",
      "alps/esloAlpsW Merge of the following files:\n",
      "* alps/esloAlpsW : Merge of the following files:\n",
      "* eslo13near-z16 : eslo13near-z16\n",
      "* eslo13near-z15 : eslo13near-z15\n",
      "* eslo4near-z14 : eslo4near-z14\n",
      "\n",
      "* white9 : white9\n",
      "\n"
     ]
    }
   ],
   "source": [
    "M.mbt_merge('alps/white9.mbtiles', dest='alps/esloAlpsW.mbtiles')"
   ]
  },
  {
   "cell_type": "code",
   "execution_count": null,
   "metadata": {},
   "outputs": [
    {
     "data": {
      "text/plain": [
       "0"
      ]
     },
     "metadata": {},
     "output_type": "display_data"
    }
   ],
   "source": [
    "os.system('gpxsee alps/esloAlpsW.mbtiles &')"
   ]
  },
  {
   "cell_type": "code",
   "execution_count": null,
   "metadata": {},
   "outputs": [
    {
     "name": "stdout",
     "output_type": "stream",
     "text": [
      "      sed 's/nv    0   0   0   0/nv  255 255 255 255/g' \\\n",
      "          ~/code/eddy-geek/TIL/geo/data/gdaldem-slope-eslo4near.clr >! /tmp/gdaldem-slope-eslo4near.clr && \\\n",
      "      gdaldem color-relief alps/slopes-AlpsWz13.tif /tmp/gdaldem-slope-eslo4near.clr ./eslo4near-z13.mbtiles \\\n",
      "          -nearest_color_entry -co TILE_FORMAT=png8 \n",
      "0...10...20...30...40...50...60...70...80...90...100 - done.\n"
     ]
    },
    {
     "data": {
      "text/plain": [
       "'./eslo4near-z13.mbtiles'"
      ]
     },
     "metadata": {},
     "output_type": "display_data"
    }
   ],
   "source": [
    "# make_ovr(src='alps/slopes-AlpsWz14.tif', z=13)\n",
    "S.slope_mbt('eslo4near', z=13, src='alps/slopes-AlpsWz13.tif')"
   ]
  },
  {
   "cell_type": "code",
   "execution_count": null,
   "metadata": {},
   "outputs": [
    {
     "name": "stdout",
     "output_type": "stream",
     "text": [
      "      sed 's/nv    0   0   0   0/nv  255 255 255 255/g' \\\n",
      "          ~/code/eddy-geek/TIL/geo/data/gdaldem-slope-eslo4uv.clr >! /tmp/gdaldem-slope-eslo4uv.clr && \\\n",
      "      gdaldem color-relief alps/slopes-AlpsWz13.tif /tmp/gdaldem-slope-eslo4uv.clr ./eslo4uv-z13.mbtiles \\\n",
      "          -nearest_color_entry -co TILE_FORMAT=png8 \n",
      "0...10...20...30...40...50...60...70...80...90...100 - done.\n"
     ]
    },
    {
     "data": {
      "text/plain": [
       "'./eslo4uv-z13.mbtiles'"
      ]
     },
     "metadata": {},
     "output_type": "display_data"
    }
   ],
   "source": [
    "S.slope_mbt('eslo4uv', z=13, src='alps/slopes-AlpsWz13.tif')"
   ]
  },
  {
   "cell_type": "code",
   "execution_count": null,
   "metadata": {},
   "outputs": [],
   "source": [
    "S.make_ovr(src='alps/slopes-AlpsWz14.tif', z=12)\n",
    "S.slope_mbt('eslo4near', z=12, src='alps/slopes-AlpsWz13.tif')\n"
   ]
  },
  {
   "cell_type": "code",
   "execution_count": null,
   "metadata": {},
   "outputs": [
    {
     "name": "stdout",
     "output_type": "stream",
     "text": [
      "<< eslo4near-z13 : zoom = 13 13 ; n = 4608 ; format = png ; bounds = 5.62500000000000089,43.580479341501217,7.73437500000000089,46.558000000000014\n",
      ">> alps/esloAlpsW : zoom = 9 16 ; n = 391698 ; format = png ; bounds = 5.62499878087688998,43.5797725532024245,7.73437500000000089,46.558000000000014\n",
      "alps/esloAlpsW Merge of the following files:\n",
      "* alps/esloAlpsW : Merge of the following files:\n",
      "* alps/esloAlpsW : Merge of the following files:\n",
      "* eslo13near-z16 : eslo13near-z16\n",
      "* eslo13near-z15 : eslo13near-z15\n",
      "* eslo4near-z14 : eslo4near-z14\n",
      "\n",
      "* white9 : white9\n",
      "\n",
      "* eslo4near-z13 : eslo4near-z13\n",
      "\n"
     ]
    }
   ],
   "source": [
    "M.mbt_merge('eslo4near-z13.mbtiles', dest='alps/esloAlpsW.mbtiles')"
   ]
  },
  {
   "cell_type": "code",
   "execution_count": null,
   "metadata": {},
   "outputs": [],
   "source": []
  }
 ],
 "metadata": {
  "language_info": {
   "name": "python"
  },
  "orig_nbformat": 4
 },
 "nbformat": 4,
 "nbformat_minor": 2
}
