{
 "cells": [
  {
   "cell_type": "code",
   "execution_count": null,
   "metadata": {},
   "outputs": [],
   "source": []
  },
  {
   "cell_type": "markdown",
   "metadata": {},
   "source": [
    "# ! See also TIL/geo/src/merge_dem_fr_it.sh $\n",
    "\n",
    "##Setup\n",
    "This should probably go to another file, to include with `%run Setup.ipynb`"
   ]
  },
  {
   "cell_type": "markdown",
   "metadata": {},
   "source": [
    "# France"
   ]
  },
  {
   "cell_type": "code",
   "execution_count": null,
   "metadata": {},
   "outputs": [],
   "source": [
    "%%bash\n",
    "\n",
    "cd $download\n",
    "!wget -i ign-rge-alti-5m-urls.txt\n",
    "!wget --wait=20 --random-wait --no-http-keep-alive --limit-rate=300k -nc -i piemonte-alpi-dtm5-urls.txt\n",
    "!wget --wait=20 --random-wait --no-http-keep-alive --limit-rate=300k -nc -i aosta-dtm0508-urls.txt\n",
    "\n",
    "for f in RGE*29.7z; do 7z x $f; done\n",
    "cd $workdir"
   ]
  },
  {
   "cell_type": "code",
   "execution_count": null,
   "metadata": {},
   "outputs": [],
   "source": [
    "!gdalbuildvrt -a_srs EPSG:2154 -srcnodata -99999 -vrtnodata -99999 ignalps_dem.vrt \\\n",
    "  $download/RGEALTI_2-0_5M_ASC_LAMB93-IGN69_*/RGEALTI/1_DONNEES_LIVRAISON_*/RGEALTI_MNT_5M_ASC_LAMB93_IGN69_*/RGEALTI_FXX_*\n",
    "!time gdaldem slope $=g_zstd $=g_tile ignalps_dem.vrt ignalps-lamb-slope.tif\n",
    "!time gdaldem color-relief $=g_zstd $=g_tile -alpha ignalps-lamb-slope.tif ~/code/eddy-geek/TIL/geo/data/gdaldem-slope-oslo.clr ignalps-lamb-oslo.tif"
   ]
  },
  {
   "cell_type": "code",
   "execution_count": null,
   "metadata": {},
   "outputs": [],
   "source": [
    "ln -s $download aoste_dtm_zips\n",
    "rm -f aoste_dtm_zips.txt ; touch aoste_dtm_zips.txt ; for f in DTM0508_002_000{001..914} ; do echo \"/vsizip/{aoste_dtm_zips/$f.zip}/$f.ASC\" >> aoste_dtm_zips.txt ; done\n",
    "\n",
    "gdalbuildvrt -a_srs EPSG:23032 -srcnodata -9999 -vrtnodata -9999 aoste-dem.vrt -input_file_list aoste_dtm_zips.txt\n",
    "time gdaldem slope $=g_zstd aoste-dem.vrt aoste-utm32n-slope.tif\n",
    "time gdaldem color-relief $=g_zstd -alpha aoste-utm32n-slope.tif gdaldem-slope-oslo.clr aoste-utm32n-oslo.tif"
   ]
  },
  {
   "cell_type": "markdown",
   "metadata": {},
   "source": [
    "# Switzerland\n",
    "\n",
    "This skips the selection of tiles to download. For a more reproducible download, check [Central-Alps.ipynb](./Central-Alps.ipynb)"
   ]
  },
  {
   "cell_type": "code",
   "execution_count": null,
   "metadata": {},
   "outputs": [],
   "source": [
    "mkdir ch_downloads\n",
    "cd ch_downloads\n",
    "wget --no-http-keep-alive -nc -i ../ch.swisstopo.swissalti3d-valais-w2550-e2623-s1075-n1130.csv\n",
    "cat ../ch.swisstopo.swissalti3d-z9valais-w2484-e2623-s1075-n1157.csv | rev | cut -d / -f1 | rev > _vrt_input.txt\n",
    "gdalbuildvrt -input_file_list _vrt_input.txt z9valais-dem.vrt\n",
    "cd ..\n",
    "time gdaldem slope $=g_zstd ch_downloads/z9valais-dem.vrt valais-lv95-slope.tif"
   ]
  },
  {
   "cell_type": "code",
   "execution_count": null,
   "metadata": {},
   "outputs": [],
   "source": []
  },
  {
   "cell_type": "code",
   "execution_count": null,
   "metadata": {},
   "outputs": [],
   "source": [
    "resolution=2.388657133911758\n",
    "extent='5.6250 43.5804 7.7343 46.558'\n",
    "time gdalwarp $=g_tile \\\n",
    "  -co bigtiff=yes -co compress=zstd -co zstd_level=1 -co sparse_ok=true \\\n",
    "  -dstnodata 255 \\\n",
    "  -t_srs EPSG:3857 -tr $=resolution -$=resolution \\\n",
    "  -te_srs WGS84 -te $=extent \\\n",
    "  fr/ignalps-lamb-slope.tif it/piemont-utm32n-slope.tif aoste/aoste-utm32n-slope.tif \\\n",
    "  alex/ignalex-lamb-slope.tif ch/valais-lv95-slope.tif \\\n",
    "  alps/slopes-Lausanne-Jouques-Sanremo-Zermatt.tif"
   ]
  },
  {
   "cell_type": "code",
   "execution_count": null,
   "metadata": {},
   "outputs": [],
   "source": []
  },
  {
   "cell_type": "code",
   "execution_count": null,
   "metadata": {},
   "outputs": [],
   "source": []
  },
  {
   "cell_type": "code",
   "execution_count": null,
   "metadata": {},
   "outputs": [],
   "source": []
  }
 ],
 "metadata": {
  "language_info": {
   "name": "python"
  },
  "orig_nbformat": 4
 },
 "nbformat": 4,
 "nbformat_minor": 2
}
