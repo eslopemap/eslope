{
 "cells": [
  {
   "cell_type": "markdown",
   "metadata": {},
   "source": [
    "# Central Alps\n",
    "\n",
    "We want to cover the rectangle Basel-Bard-Trento-Innsbruck\n",
    "aka `[[[7.734,45.583], [11.249,45.583], [11.249,47.517], [7.734, 47.517], [7.734,45.583]]]`.\n",
    "\n",
    "That includes\n",
    "* all Switzerland south-easy of Basel\n",
    "* small part of Aosta and Piemonte\n",
    "* all Lombardia north of Milano\n",
    "* tiny piece of Trentino\n",
    "* half of Austria's Tyrol, west of Innsbruck\n",
    "\n",
    "## Dependencies\n",
    "\n",
    "* `AlpsC-ch-slopes.tif` created by `Central-Alps-dwn-ch.ipynb`\n",
    "* `AlpsC-styrol-slopes.tif`\n",
    "* ...\n",
    "\n",
    "## Notes\n",
    "\n",
    "### Choice of bounding-box\n",
    "A choice was made to have both Central Alps and Eastern Alps as simple rectangles, while keeping data small.\n",
    "This means we keep either Italy's *Occidental Dolomites* ([c2c](https://www.camptocamp.org/outings?qa=draft,great&bbox=1243491,5721172,1310793,5796316&act=skitouring)) or Germany's *Lechtal Alps* ([c2c](https://www.camptocamp.org/outings?qa=draft,great&bbox=1285592,6022754,1352894,6097898&act=skitouring)).\n",
    "The bbox with Occidental Dolomites is `[[[7.734,45.583], [11.953,45.583], [11.953,47.517], [7.734, 47.517], [7.734,45.583]]]`.\n",
    "But it makes less sense in terms of mapping to to massifs, and in terms of relative size for West/Central/East.\n",
    "\n",
    "# Status\n",
    "\n",
    "This is a stub. Work is ongoing to prepare the dependencies in `Central-Alps-dwn-*.ipynb`"
   ]
  },
  {
   "cell_type": "code",
   "execution_count": 3,
   "metadata": {},
   "outputs": [
    {
     "name": "stdout",
     "output_type": "stream",
     "text": [
      "The autoreload extension is already loaded. To reload it, use:\n",
      "  %reload_ext autoreload\n"
     ]
    }
   ],
   "source": [
    "%load_ext autoreload\n",
    "%autoreload 2"
   ]
  },
  {
   "cell_type": "code",
   "execution_count": 1,
   "metadata": {},
   "outputs": [],
   "source": [
    "# Preamble\n",
    "\n",
    "import logging\n",
    "logging.basicConfig(level=logging.DEBUG)\n",
    "\n",
    "from dataclasses import astuple\n",
    "\n",
    "import os\n",
    "import sys\n",
    "# sys.path.append(os.path.realpath('./src'))\n",
    "from src.bbox import BBox"
   ]
  },
  {
   "cell_type": "code",
   "execution_count": null,
   "metadata": {},
   "outputs": [],
   "source": []
  }
 ],
 "metadata": {
  "interpreter": {
   "hash": "4913ed92adf4fb24dff325cddf3820899273b13e1364fac2e6040e861e7b0f0a"
  },
  "kernelspec": {
   "display_name": "Python 3.9.1 64-bit (conda)",
   "language": "python",
   "name": "python3"
  },
  "language_info": {
   "codemirror_mode": {
    "name": "ipython",
    "version": 3
   },
   "file_extension": ".py",
   "mimetype": "text/x-python",
   "name": "python",
   "nbconvert_exporter": "python",
   "pygments_lexer": "ipython3",
   "version": "3.9.1"
  },
  "orig_nbformat": 4
 },
 "nbformat": 4,
 "nbformat_minor": 2
}
