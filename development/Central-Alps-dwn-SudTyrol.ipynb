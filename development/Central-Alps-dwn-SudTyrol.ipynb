{
 "cells": [
  {
   "cell_type": "markdown",
   "metadata": {},
   "source": [
    "# Central Alps - Sud-Tyrol download\n",
    "\n",
    "We want to cover the rectangle Basel-Bard-Trento-Innsbruck\n",
    "aka `[[[7.734,45.583], [11.249,45.583], [11.249,47.517], [7.734, 47.517], [7.734,45.583]]]`.\n",
    "\n",
    "The output of this notebook should be a file `data/AlpC-styrol-slopes.tif`\n",
    "\n",
    "I was not able to automate the download step as the download links seem generated on the fly.\n",
    "\n",
    "* start from [geocatalogo.retecivica.bz.it/geokatalog](http://geocatalogo.retecivica.bz.it/geokatalog/).\n",
    "* in \"Cerca dato\", search *Modello Digitale del Terreno (DTM 2,5m)* (italian) or *Digitales Geländemodell Südtirols (DGM 2,5m)* (german)\n",
    "* tick \"Visualizza sulla mappa\"\n",
    "* in *Download* tab, *Modalità di selezione* : *Quadro d'Unione 1:10000*\n",
    "* select in total **261** tiles (I hope), possibly in several steps.\n",
    "* fill *email*, then *Scarica*, and receive links by emails \n",
    "* extract all links from mails with `grep -o 'http.*.zip' mails.txt >! links.txt`\n",
    "* download with `wget -i links.txt`"
   ]
  },
  {
   "cell_type": "code",
   "execution_count": 3,
   "metadata": {},
   "outputs": [],
   "source": [
    "# Preamble - Execute only once\n",
    "\n",
    "%load_ext autoreload\n",
    "%autoreload 2\n",
    "\n",
    "import os\n",
    "NBROOT = os.path.realpath(os.curdir)"
   ]
  },
  {
   "cell_type": "code",
   "execution_count": 4,
   "metadata": {},
   "outputs": [],
   "source": [
    "# Preamble\n",
    "import logging\n",
    "logging.basicConfig(level=logging.DEBUG)\n",
    "\n",
    "# stdlib\n",
    "from os.path import exists, join as pjoin, realpath\n",
    "from pathlib import Path\n",
    "from urllib.request import urlretrieve\n",
    "from zipfile import ZipFile\n",
    "\n",
    "#external\n",
    "from IPython.display import Image\n",
    "\n",
    "# self\n",
    "from src import bbox, gdal_slope_util as S\n",
    "# from src.gdal_slope_util import check_run, DFLT_OPT, ZSTD_OPT, TILE_OPT\n",
    "\n",
    "# CPL_ZIP_ENCODING for gdal vsizip:  https://github.com/conda-forge/gdal-feedstock/issues/83\n",
    "os.environ['CPL_ZIP_ENCODING'] = 'UTF-8'\n",
    "\n",
    "!mkdir -p data/dtm_final"
   ]
  },
  {
   "cell_type": "code",
   "execution_count": 5,
   "metadata": {},
   "outputs": [
    {
     "name": "stdout",
     "output_type": "stream",
     "text": [
      "/home/me/code/eddy-geek/slope-ign-alti/styrol\n"
     ]
    }
   ],
   "source": [
    "STY_DTM = realpath('data/dtm_final/sudtyrol_dtm.tif')\n",
    "assert(exists('data/styrol/dwnweb'))\n",
    "%cd data/styrol"
   ]
  },
  {
   "cell_type": "code",
   "execution_count": 35,
   "metadata": {},
   "outputs": [
    {
     "name": "stdout",
     "output_type": "stream",
     "text": [
      "Driver: GTiff/GeoTIFF\n",
      "Files: /vsizip/{dwnweb/FME_11060355_1638395409114_77492.zip}/DownloadService/p_bz-Elevation_DigitalTerrainModel-2.5m.tif\n",
      "       /vsizip/{dwnweb/FME_11060355_1638395409114_77492.zip}/DownloadService/p_bz-Elevation_DigitalTerrainModel-2.5m.tif.aux.xml\n",
      "Size is 2560, 2240\n",
      "Coordinate System is:\n",
      "Data axis to CRS axis mapping: 1,2\n",
      "Origin = (604998.750000939238816,5176001.249877919442952)\n",
      "Pixel Size = (2.499999999786324,-2.500000000239050)\n",
      "Metadata:\n",
      "  AREA_OR_POINT=Area\n",
      "Image Structure Metadata:\n",
      "  COMPRESSION=LZW\n",
      "  INTERLEAVE=BAND\n",
      "Corner Coordinates:\n",
      "Upper Left  (  604998.750, 5176001.250) ( 10d22'27.05\"E, 46d43'45.53\"N)\n",
      "Lower Left  (  604998.750, 5170401.250) ( 10d22'22.45\"E, 46d40'44.15\"N)\n",
      "Upper Right (  611398.750, 5176001.250) ( 10d27'28.49\"E, 46d43'41.80\"N)\n",
      "Lower Right (  611398.750, 5170401.250) ( 10d27'23.61\"E, 46d40'40.43\"N)\n",
      "Center      (  608198.750, 5173201.250) ( 10d24'55.40\"E, 46d42'13.00\"N)\n",
      "Band 1 Block=2560x410 Type=Float32, ColorInterp=Gray\n",
      "  Min=-9999.000 Max=3200.510 \n",
      "  Minimum=-9999.000, Maximum=3200.510, Mean=1144.941, StdDev=3925.926\n",
      "  Metadata:\n",
      "    STATISTICS_MAXIMUM=3200.5100097656\n",
      "    STATISTICS_MEAN=1144.9413107697\n",
      "    STATISTICS_MINIMUM=-9999\n",
      "    STATISTICS_STDDEV=3925.9257604413\n",
      "    STATISTICS_VALID_PERCENT=100\n"
     ]
    }
   ],
   "source": [
    "sample = list(sorted(Path('dwnweb').glob('FME_*.zip')))[0]\n",
    "\n",
    "!gdalinfo -stats \"/vsizip/{$(ls -1 dwnweb/*.zip | head -1)}/DownloadService/p_bz-Elevation_DigitalTerrainModel-2.5m.tif\" | grep -v '\\['\n",
    "\n",
    "# note absence of nodata value (-9999)"
   ]
  },
  {
   "cell_type": "code",
   "execution_count": 63,
   "metadata": {},
   "outputs": [
    {
     "name": "stdout",
     "output_type": "stream",
     "text": [
      "WARN: empty dwnweb/FME_13060355_1638440525903_53924.zip\n",
      "WARN: empty dwnweb/FME_14060355_1638396308428_13056.zip\n",
      "WARN: empty dwnweb/FME_13060355_1638396307846_79104.zip\n",
      "WARN: empty dwnweb/FME_15060355_1638396675819_105932.zip\n",
      "WARN: empty dwnweb/FME_13060355_1638396878468_71352.zip\n",
      "WARN: empty dwnweb/FME_12060355_1638396850482_12780.zip\n",
      "WARN: empty dwnweb/FME_11060355_1638396596677_30564.zip\n",
      "WARN: empty dwnweb/FME_13060355_1638440526169_19680.zip\n",
      "WARN: empty dwnweb/FME_15060355_1638396599790_73556.zip\n",
      "WARN: empty dwnweb/FME_13060355_1638396604907_53856.zip\n",
      "WARN: empty dwnweb/FME_14060355_1638396850212_102848.zip\n",
      "WARN: empty dwnweb/FME_11060355_1638396579868_30564.zip\n",
      "WARN: empty dwnweb/FME_11060355_1638396760110_30564.zip\n",
      "WARN: empty dwnweb/FME_13060355_1638396702216_71352.zip\n",
      "WARN: empty dwnweb/FME_13060355_1638440525287_81300.zip\n",
      "WARN: empty dwnweb/FME_15060355_1638396579643_105932.zip\n",
      "WARN: empty dwnweb/FME_13060355_1638396878620_53856.zip\n",
      "WARN: empty dwnweb/FME_15060355_1638396675702_53836.zip\n",
      "WARN: empty dwnweb/FME_12060355_1638440525954_56480.zip\n",
      "WARN: empty dwnweb/FME_15060355_1638396677936_73556.zip\n",
      "WARN: empty dwnweb/FME_15060355_1638440526863_117580.zip\n",
      "WARN: empty dwnweb/FME_15060355_1638396675839_73556.zip\n",
      "0...10...20...30...40...50...60...70...80...90...100 - done.\n"
     ]
    }
   ],
   "source": [
    "vsi = []\n",
    "vrtin = 'vrt_input_files.txt'\n",
    "zippath = 'DownloadService/p_bz-Elevation_DigitalTerrainModel-2.5m.tif'\n",
    "with open(vrtin, 'w') as f:\n",
    "    # for pzip in list(sorted(Path('dwnweb').glob('FME_*.zip')))[:5]:\n",
    "    for pzip in Path('dwnweb').glob('FME_*.zip'):\n",
    "        zzip = ZipFile(pzip)\n",
    "        if zippath in zzip.namelist():\n",
    "            f.write(f'/vsizip/{{{pzip}}}/{zippath}\\n')\n",
    "        else:\n",
    "            print(\"WARN: empty\", pzip)\n",
    "\n",
    "!gdalbuildvrt -overwrite -vrtnodata -9999 -input_file_list $vrtin styrol_dtm.vrt"
   ]
  },
  {
   "cell_type": "code",
   "execution_count": 64,
   "metadata": {},
   "outputs": [
    {
     "name": "stdout",
     "output_type": "stream",
     "text": [
      "Driver: VRT/Virtual Raster\n",
      "Files: styrol_dtm.vrt\n",
      "Size is 65280, 40320\n",
      "Coordinate System is:\n",
      "Data axis to CRS axis mapping: 1,2\n",
      "Origin = (604998.750000939238816,5220801.249873081222177)\n",
      "Pixel Size = (2.499999999734571,-2.500000000338498)\n",
      "Corner Coordinates:\n",
      "Upper Left  (  604998.750, 5220801.250) ( 10d23' 4.31\"E, 47d 7'56.44\"N)\n",
      "Lower Left  (  604998.750, 5120001.250) ( 10d21'41.59\"E, 46d13'31.73\"N)\n",
      "Upper Right (  768198.750, 5220801.250) ( 12d32' 0.92\"E, 47d 5'10.23\"N)\n",
      "Lower Right (  768198.750, 5120001.250) ( 12d28'30.26\"E, 46d10'50.66\"N)\n",
      "Center      (  686598.750, 5170401.250) ( 11d26'20.71\"E, 46d39'40.19\"N)\n",
      "Band 1 Block=128x128 Type=Float32, ColorInterp=Gray\n",
      "  NoData Value=-9999\n"
     ]
    }
   ],
   "source": [
    "!gdalinfo -nofl styrol_dtm.vrt | rg -v '\\['"
   ]
  },
  {
   "cell_type": "code",
   "execution_count": 65,
   "metadata": {},
   "outputs": [
    {
     "name": "stdout",
     "output_type": "stream",
     "text": [
      "Input file size is 65280, 40320\n",
      "0...10...20...30...40...50...60...70...80...90...100 - done.\n"
     ]
    }
   ],
   "source": [
    "opt = S.DFLT_OPT\n",
    "!gdal_translate $opt styrol_dtm.vrt ../dtm_final/styrol_dtm.tif\n",
    "# 3.3 minutes"
   ]
  },
  {
   "cell_type": "code",
   "execution_count": 66,
   "metadata": {},
   "outputs": [
    {
     "name": "stdout",
     "output_type": "stream",
     "text": [
      "Driver: GTiff/GeoTIFF\n",
      "Files: ../dtm_final/styrol_dtm.tif\n",
      "Size is 65280, 40320\n",
      "Coordinate System is:\n",
      "Data axis to CRS axis mapping: 1,2\n",
      "Origin = (604998.750000939238816,5220801.249873081222177)\n",
      "Pixel Size = (2.499999999734571,-2.500000000338498)\n",
      "Metadata:\n",
      "  AREA_OR_POINT=Area\n",
      "Image Structure Metadata:\n",
      "  COMPRESSION=ZSTD\n",
      "  INTERLEAVE=BAND\n",
      "Corner Coordinates:\n",
      "Upper Left  (  604998.750, 5220801.250) ( 10d23' 4.31\"E, 47d 7'56.44\"N)\n",
      "Lower Left  (  604998.750, 5120001.250) ( 10d21'41.59\"E, 46d13'31.73\"N)\n",
      "Upper Right (  768198.750, 5220801.250) ( 12d32' 0.92\"E, 47d 5'10.23\"N)\n",
      "Lower Right (  768198.750, 5120001.250) ( 12d28'30.26\"E, 46d10'50.66\"N)\n",
      "Center      (  686598.750, 5170401.250) ( 11d26'20.71\"E, 46d39'40.19\"N)\n",
      "Band 1 Block=1024x1024 Type=Float32, ColorInterp=Gray\n",
      "  NoData Value=-9999\n"
     ]
    }
   ],
   "source": [
    "!gdalinfo -nofl ../dtm_final/styrol_dtm.tif | rg -v '\\['"
   ]
  },
  {
   "cell_type": "code",
   "execution_count": 67,
   "metadata": {},
   "outputs": [
    {
     "name": "stdout",
     "output_type": "stream",
     "text": [
      "Creating output file that is 653P x 403L.\n",
      "Using internal nodata values (e.g. -9999) for image ../dtm_final/styrol_dtm.tif.\n",
      "Copying nodata values from source ../dtm_final/styrol_dtm.tif to destination .\n",
      "0...10...20...30...40...50...60...70...80...90...100 - done.\n"
     ]
    },
    {
     "data": {
      "text/plain": [
       "0"
      ]
     },
     "execution_count": 67,
     "metadata": {},
     "output_type": "execute_result"
    }
   ],
   "source": [
    "res = 250\n",
    "S.check_run(f'gdalwarp -overwrite -ot Byte -tr {res} {-res} ../dtm_final/styrol_dtm.tif styrol_dtm_ovr.png')\n",
    "# 40 seconds"
   ]
  },
  {
   "cell_type": "code",
   "execution_count": 68,
   "metadata": {},
   "outputs": [
    {
     "data": {
      "image/png": "[encoded data removed]",
      "text/plain": [
       "<IPython.core.display.Image object>"
      ]
     },
     "execution_count": 68,
     "metadata": {},
     "output_type": "execute_result"
    }
   ],
   "source": [
    "# If there are holes, go back to the top :)\n",
    "Image('styrol_dtm_ovr.png')"
   ]
  },
  {
   "cell_type": "code",
   "execution_count": 69,
   "metadata": {},
   "outputs": [
    {
     "name": "stdout",
     "output_type": "stream",
     "text": [
      "Driver: GTiff/GeoTIFF\n",
      "Files: ../dtm_final/styrol_dtm.tif\n",
      "Size is 65280, 40320\n",
      "Coordinate System is:\n",
      "PROJCRS[\"ETRS89 / UTM zone 32N\",\n",
      "    BASEGEOGCRS[\"ETRS89\",\n",
      "        DATUM[\"European Terrestrial Reference System 1989\",\n",
      "            ELLIPSOID[\"GRS 1980\",6378137,298.257222101,\n",
      "                LENGTHUNIT[\"metre\",1]]],\n",
      "        PRIMEM[\"Greenwich\",0,\n",
      "            ANGLEUNIT[\"degree\",0.0174532925199433]],\n",
      "        ID[\"EPSG\",4258]],\n",
      "    CONVERSION[\"UTM zone 32N\",\n",
      "        METHOD[\"Transverse Mercator\",\n",
      "            ID[\"EPSG\",9807]],\n",
      "        PARAMETER[\"Latitude of natural origin\",0,\n",
      "            ANGLEUNIT[\"degree\",0.0174532925199433],\n",
      "            ID[\"EPSG\",8801]],\n",
      "        PARAMETER[\"Longitude of natural origin\",9,\n",
      "            ANGLEUNIT[\"degree\",0.0174532925199433],\n",
      "            ID[\"EPSG\",8802]],\n",
      "        PARAMETER[\"Scale factor at natural origin\",0.9996,\n",
      "            SCALEUNIT[\"unity\",1],\n",
      "            ID[\"EPSG\",8805]],\n",
      "        PARAMETER[\"False easting\",500000,\n",
      "            LENGTHUNIT[\"metre\",1],\n",
      "            ID[\"EPSG\",8806]],\n",
      "        PARAMETER[\"False northing\",0,\n",
      "            LENGTHUNIT[\"metre\",1],\n",
      "            ID[\"EPSG\",8807]]],\n",
      "    CS[Cartesian,2],\n",
      "        AXIS[\"(E)\",east,\n",
      "            ORDER[1],\n",
      "            LENGTHUNIT[\"metre\",1]],\n",
      "        AXIS[\"(N)\",north,\n",
      "            ORDER[2],\n",
      "            LENGTHUNIT[\"metre\",1]],\n",
      "    USAGE[\n",
      "        SCOPE[\"Engineering survey, topographic mapping.\"],\n",
      "        AREA[\"Europe between 6°E and 12°E: Austria; Belgium; Denmark - onshore and offshore; Germany - onshore and offshore; Norway including - onshore and offshore; Spain - offshore.\"],\n",
      "        BBOX[38.76,6,83.92,12]],\n",
      "    ID[\"EPSG\",25832]]\n",
      "Data axis to CRS axis mapping: 1,2\n",
      "Origin = (604998.750000939238816,5220801.249873081222177)\n",
      "Pixel Size = (2.499999999734571,-2.500000000338498)\n",
      "Metadata:\n",
      "  AREA_OR_POINT=Area\n",
      "Image Structure Metadata:\n",
      "  COMPRESSION=ZSTD\n",
      "  INTERLEAVE=BAND\n",
      "Corner Coordinates:\n",
      "Upper Left  (  604998.750, 5220801.250) ( 10d23' 4.31\"E, 47d 7'56.44\"N)\n",
      "Lower Left  (  604998.750, 5120001.250) ( 10d21'41.59\"E, 46d13'31.73\"N)\n",
      "Upper Right (  768198.750, 5220801.250) ( 12d32' 0.92\"E, 47d 5'10.23\"N)\n",
      "Lower Right (  768198.750, 5120001.250) ( 12d28'30.26\"E, 46d10'50.66\"N)\n",
      "Center      (  686598.750, 5170401.250) ( 11d26'20.71\"E, 46d39'40.19\"N)\n",
      "Band 1 Block=1024x1024 Type=Float32, ColorInterp=Gray\n",
      "  Minimum=2.090, Maximum=3896.120, Mean=1777.240, StdDev=668.377\n",
      "  NoData Value=-9999\n",
      "  Metadata:\n",
      "    STATISTICS_MAXIMUM=3896.1201171875\n",
      "    STATISTICS_MEAN=1777.2400328386\n",
      "    STATISTICS_MINIMUM=2.0899999141693\n",
      "    STATISTICS_STDDEV=668.37731698367\n",
      "    STATISTICS_VALID_PERCENT=47.9\n"
     ]
    }
   ],
   "source": [
    "!gdalinfo -stats ../dtm_final/styrol_dtm.tif"
   ]
  },
  {
   "cell_type": "code",
   "execution_count": null,
   "metadata": {},
   "outputs": [],
   "source": []
  }
 ],
 "metadata": {
  "interpreter": {
   "hash": "8a94588eda9d64d9e9a351ab8144e55b1fabf5113b54e67dd26a8c27df0381b3"
  },
  "kernelspec": {
   "display_name": "Python 3.10.0 64-bit",
   "language": "python",
   "name": "python3"
  },
  "language_info": {
   "codemirror_mode": {
    "name": "ipython",
    "version": 3
   },
   "file_extension": ".py",
   "mimetype": "text/x-python",
   "name": "python",
   "nbconvert_exporter": "python",
   "pygments_lexer": "ipython3",
   "version": "3.9.1"
  },
  "orig_nbformat": 4
 },
 "nbformat": 4,
 "nbformat_minor": 2
}
